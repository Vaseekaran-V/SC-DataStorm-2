{
 "cells": [
  {
   "cell_type": "code",
   "execution_count": 2,
   "metadata": {},
   "outputs": [],
   "source": [
    "import pandas as pd\n",
    "import numpy as np\n",
    "import matplotlib.pyplot as plt\n",
    "%matplotlib inline\n",
    "import seaborn as sns\n",
    "from sklearn.model_selection import train_test_split\n",
    "from sklearn.metrics import accuracy_score\n",
    "from sklearn.metrics import confusion_matrix\n",
    "from sklearn.model_selection import cross_val_score\n",
    "from sklearn.preprocessing import OneHotEncoder\n",
    "from sklearn.pipeline import Pipeline\n",
    "from sklearn import preprocessing\n",
    "from sklearn.compose import ColumnTransformer\n",
    "from sklearn.preprocessing import StandardScaler #you can use minmax scaler too\n",
    "#Import other necessary model libraries, for this example, using Logistic Regression"
   ]
  },
  {
   "cell_type": "code",
   "execution_count": 4,
   "metadata": {},
   "outputs": [],
   "source": [
    "train_data = pd.read_csv(r\"../Data/Corrected Datasets/train-dataset.csv\", header = 0)\n",
    "test_data = pd.read_csv(r\"../Data/Corrected Datasets/test-dataset.csv\", header = 0)\n",
    "validation_data = pd.read_csv(r\"../Data/Corrected Datasets/validation-dataset.csv\", header = 0)"
   ]
  },
  {
   "cell_type": "code",
   "execution_count": 23,
   "metadata": {},
   "outputs": [],
   "source": [
    "data_quan_cols = ['Age','Discount_Rate', 'Room_Rate','Expected_stay_days', \n",
    "                        'Reservation_gap', 'Adults', 'Children','Babies']"
   ]
  },
  {
   "cell_type": "code",
   "execution_count": 24,
   "metadata": {},
   "outputs": [],
   "source": [
    "data_cat_cols = ['Gender', 'Ethnicity', 'Educational_Level', 'Income', 'Country_region',\n",
    "                 'Hotel_Type', 'Meal_Type', 'Visted_Previously',\n",
    "                 'Previous_Cancellations', 'Deposit_type', 'Booking_channel',\n",
    "                 'Required_Car_Parking', 'Use_Promotion']"
   ]
  },
  {
   "cell_type": "code",
   "execution_count": 25,
   "metadata": {},
   "outputs": [],
   "source": [
    "quan_pipeline = Pipeline([\n",
    "    ('std_scaler', StandardScaler())\n",
    "])\n",
    "\n",
    "quan_transformed = quan_pipeline.fit_transform(train_data[data_quan_cols])"
   ]
  },
  {
   "cell_type": "code",
   "execution_count": 48,
   "metadata": {},
   "outputs": [],
   "source": [
    "data_pipeline = ColumnTransformer([\n",
    "    ('numerical', quan_pipeline, data_quan_cols),\n",
    "    ('categorical', OneHotEncoder(), data_cat_cols),\n",
    "    \n",
    "])\n",
    "\n",
    "train_data_processed = data_pipeline.fit_transform(train_data)"
   ]
  },
  {
   "cell_type": "code",
   "execution_count": 49,
   "metadata": {},
   "outputs": [],
   "source": [
    "validation_data_processed = data_pipeline.transform(validation_data)"
   ]
  },
  {
   "cell_type": "code",
   "execution_count": 29,
   "metadata": {},
   "outputs": [
    {
     "data": {
      "text/plain": [
       "numpy.ndarray"
      ]
     },
     "execution_count": 29,
     "metadata": {},
     "output_type": "execute_result"
    }
   ],
   "source": [
    "type(train_data_processed)"
   ]
  },
  {
   "cell_type": "code",
   "execution_count": 30,
   "metadata": {},
   "outputs": [],
   "source": [
    "le = preprocessing.LabelEncoder()"
   ]
  },
  {
   "cell_type": "code",
   "execution_count": 31,
   "metadata": {},
   "outputs": [
    {
     "data": {
      "text/plain": [
       "LabelEncoder()"
      ]
     },
     "execution_count": 31,
     "metadata": {},
     "output_type": "execute_result"
    }
   ],
   "source": [
    "target_train = train_data['Reservation_Status']\n",
    "le.fit(target_train)"
   ]
  },
  {
   "cell_type": "code",
   "execution_count": 32,
   "metadata": {},
   "outputs": [],
   "source": [
    "target_validation = validation_data['Reservation_Status']"
   ]
  },
  {
   "cell_type": "code",
   "execution_count": 33,
   "metadata": {},
   "outputs": [
    {
     "name": "stdout",
     "output_type": "stream",
     "text": [
      "['Canceled' 'Check-In' 'No-Show']\n"
     ]
    }
   ],
   "source": [
    "print(le.classes_)"
   ]
  },
  {
   "cell_type": "code",
   "execution_count": 34,
   "metadata": {},
   "outputs": [],
   "source": [
    "y_train = le.transform(target_train)\n",
    "y_valid = le.transform(target_validation)"
   ]
  },
  {
   "cell_type": "markdown",
   "metadata": {},
   "source": [
    "### Over sampling method to deal with Imbalanced data\n",
    "\n",
    "#### 1. SMOTE (default sampling_strategy)\n",
    "#### 2. SMOTE (sampling_strategy)"
   ]
  },
  {
   "cell_type": "code",
   "execution_count": 35,
   "metadata": {},
   "outputs": [
    {
     "name": "stdout",
     "output_type": "stream",
     "text": [
      "0.8.0\n"
     ]
    }
   ],
   "source": [
    "print(imblearn.__version__)"
   ]
  },
  {
   "cell_type": "markdown",
   "metadata": {},
   "source": [
    "#### SMOTE"
   ]
  },
  {
   "cell_type": "code",
   "execution_count": 87,
   "metadata": {},
   "outputs": [
    {
     "name": "stdout",
     "output_type": "stream",
     "text": [
      "Counter({1: 21240, 0: 4134, 2: 2125}) Counter({1: 21240, 0: 21240, 2: 21240})\n",
      "              precision    recall  f1-score   support\n",
      "\n",
      "           0       0.35      0.02      0.05       741\n",
      "           1       0.59      0.99      0.74      1610\n",
      "           2       0.11      0.00      0.00       398\n",
      "\n",
      "    accuracy                           0.58      2749\n",
      "   macro avg       0.35      0.34      0.26      2749\n",
      "weighted avg       0.45      0.58      0.45      2749\n",
      "\n"
     ]
    }
   ],
   "source": [
    "# default SMOTE\n",
    "from imblearn.over_sampling import SMOTE\n",
    "from sklearn.ensemble import RandomForestClassifier\n",
    "\n",
    "smote = SMOTE()\n",
    "\n",
    "X_smote, y_smote = smote.fit_resample(train_data_processed, y_train)\n",
    "print(Counter(y_train), Counter(y_smote))\n",
    "\n",
    "model = RandomForestClassifier()\n",
    "model.fit(X_smote, y_smote)\n",
    "y_pred = model.predict(validation_data_processed)\n",
    "print(classification_report(y_valid, y_pred))"
   ]
  },
  {
   "cell_type": "code",
   "execution_count": 88,
   "metadata": {},
   "outputs": [
    {
     "name": "stderr",
     "output_type": "stream",
     "text": [
      "C:\\Users\\Gajithra\\anaconda3\\lib\\site-packages\\imblearn\\utils\\_validation.py:299: UserWarning: After over-sampling, the number of samples (21250) in class 2 will be larger than the number of samples in the majority class (class #1 -> 21240)\n",
      "  warnings.warn(\n"
     ]
    },
    {
     "name": "stdout",
     "output_type": "stream",
     "text": [
      "Counter({1: 21240, 0: 4134, 2: 2125}) Counter({2: 21250, 1: 21240, 0: 20670})\n",
      "              precision    recall  f1-score   support\n",
      "\n",
      "           0       0.40      0.03      0.06       741\n",
      "           1       0.59      0.99      0.74      1610\n",
      "           2       0.20      0.00      0.00       398\n",
      "\n",
      "    accuracy                           0.59      2749\n",
      "   macro avg       0.40      0.34      0.27      2749\n",
      "weighted avg       0.48      0.59      0.45      2749\n",
      "\n"
     ]
    }
   ],
   "source": [
    "from imblearn.over_sampling import SMOTE\n",
    "#0: Cancelled, 1: Check--in , 2:No Show\n",
    "\n",
    "#Oversampling\n",
    "strategy = {0:4134*5, 1:21240, 2:2125*10}\n",
    "smote = SMOTE(sampling_strategy=strategy) \n",
    "\n",
    "X_smote, y_smote = smote.fit_resample(train_data_processed, y_train)\n",
    "print(Counter(y_train), Counter(y_smote))\n",
    "\n",
    "model =RandomForestClassifier()\n",
    "model.fit(X_smote, y_smote)\n",
    "\n",
    "y_pred = model.predict(validation_data_processed)\n",
    "print(classification_report(y_valid, y_pred))"
   ]
  },
  {
   "cell_type": "markdown",
   "metadata": {},
   "source": [
    "### Undersampling\n",
    "https://machinelearningmastery.com/undersampling-algorithms-for-imbalanced-classification/\n",
    "\n",
    "#### 1. Near Miss - version 3 (Select Examples to keep from Majority class)\n",
    "#### 2. Tomek Links (Deletes Examples from Majority class)"
   ]
  },
  {
   "cell_type": "code",
   "execution_count": 89,
   "metadata": {},
   "outputs": [
    {
     "name": "stderr",
     "output_type": "stream",
     "text": [
      "C:\\Users\\Gajithra\\anaconda3\\lib\\site-packages\\imblearn\\under_sampling\\_prototype_selection\\_nearmiss.py:175: UserWarning: The number of the samples to be selected is larger than the number of samples available. The balancing ratio cannot be ensure and all samples will be returned.\n",
      "  warnings.warn(\n",
      "C:\\Users\\Gajithra\\anaconda3\\lib\\site-packages\\imblearn\\under_sampling\\_prototype_selection\\_nearmiss.py:175: UserWarning: The number of the samples to be selected is larger than the number of samples available. The balancing ratio cannot be ensure and all samples will be returned.\n",
      "  warnings.warn(\n"
     ]
    },
    {
     "name": "stdout",
     "output_type": "stream",
     "text": [
      "              precision    recall  f1-score   support\n",
      "\n",
      "           0       0.30      0.18      0.23       741\n",
      "           1       0.59      0.82      0.69      1610\n",
      "           2       0.17      0.03      0.04       398\n",
      "\n",
      "    accuracy                           0.53      2749\n",
      "   macro avg       0.35      0.34      0.32      2749\n",
      "weighted avg       0.45      0.53      0.47      2749\n",
      "\n"
     ]
    }
   ],
   "source": [
    "#NearMiss\n",
    "from imblearn.under_sampling import NearMiss\n",
    "\n",
    "strategy = {1: round(21240*0.5), 0: 4134, 2: 2125}\n",
    "undersample = NearMiss(sampling_strategy=strategy,version=3, n_neighbors=2)\n",
    "X_near , y_near = undersample.fit_resample(train_data_processed,y_train)\n",
    "\n",
    "model = RandomForestClassifier().fit(X_near,y_near)\n",
    "y_pred= model.predict(validation_data_processed)\n",
    "\n",
    "print(classification_report(y_valid, y_pred))"
   ]
  },
  {
   "cell_type": "code",
   "execution_count": 91,
   "metadata": {},
   "outputs": [
    {
     "name": "stdout",
     "output_type": "stream",
     "text": [
      "              precision    recall  f1-score   support\n",
      "\n",
      "           0       0.00      0.00      0.00       741\n",
      "           1       0.59      1.00      0.74      1610\n",
      "           2       0.00      0.00      0.00       398\n",
      "\n",
      "    accuracy                           0.58      2749\n",
      "   macro avg       0.20      0.33      0.25      2749\n",
      "weighted avg       0.34      0.58      0.43      2749\n",
      "\n"
     ]
    }
   ],
   "source": [
    "# TomekLinks imbalanced-learn class\n",
    "from imblearn.under_sampling import TomekLinks\n",
    "\n",
    "#strategy = {1: round(21240*0.5), 0: 4134, 2: 2125}\n",
    "undersample = TomekLinks()\n",
    "X_tom , y_tom = undersample.fit_resample(train_data_processed,y_train)\n",
    "model = RandomForestClassifier().fit(X_tom,y_tom)\n",
    "y_pred= model.predict(validation_data_processed)\n",
    "\n",
    "print(classification_report(y_valid, y_pred))"
   ]
  },
  {
   "cell_type": "markdown",
   "metadata": {},
   "source": [
    "### Random Oversampling and Undersampling Method"
   ]
  },
  {
   "cell_type": "code",
   "execution_count": 55,
   "metadata": {},
   "outputs": [
    {
     "name": "stdout",
     "output_type": "stream",
     "text": [
      "Counter({1: 21240, 0: 4134, 2: 2125}) Counter({0: 21240, 1: 21240, 2: 21240})\n",
      "              precision    recall  f1-score   support\n",
      "\n",
      "           0       0.32      0.03      0.05       741\n",
      "           1       0.59      0.98      0.73      1610\n",
      "           2       0.00      0.00      0.00       398\n",
      "\n",
      "    accuracy                           0.58      2749\n",
      "   macro avg       0.30      0.33      0.26      2749\n",
      "weighted avg       0.43      0.58      0.44      2749\n",
      "\n"
     ]
    }
   ],
   "source": [
    "from collections import Counter\n",
    "from imblearn.over_sampling import RandomOverSampler\n",
    "from imblearn.under_sampling import RandomUnderSampler\n",
    "\n",
    "over = RandomOverSampler(sampling_strategy = 'auto')\n",
    "X_over, y_over = over.fit_resample(train_data_processed,y_train)\n",
    "under = RandomUnderSampler(sampling_strategy='auto')\n",
    "X_under, y_under = under.fit_resample(X_over, y_over)\n",
    "print(Counter(y_train), Counter(y_under))\n",
    "\n",
    "clf_under = RandomForestClassifier().fit(X_under, y_under)\n",
    "print(classification_report(y_valid,\n",
    "                     clf_under.predict(validation_data_processed)))"
   ]
  },
  {
   "cell_type": "markdown",
   "metadata": {},
   "source": [
    "### Ensemble Method to deal with Imbalanced Data\n",
    "#### Balanced Bagging Classifier"
   ]
  },
  {
   "cell_type": "code",
   "execution_count": 92,
   "metadata": {},
   "outputs": [
    {
     "ename": "NameError",
     "evalue": "name 'DecisionTreeClassifier' is not defined",
     "output_type": "error",
     "traceback": [
      "\u001b[1;31m---------------------------------------------------------------------------\u001b[0m",
      "\u001b[1;31mNameError\u001b[0m                                 Traceback (most recent call last)",
      "\u001b[1;32m<ipython-input-92-6e542850347a>\u001b[0m in \u001b[0;36m<module>\u001b[1;34m\u001b[0m\n\u001b[0;32m      1\u001b[0m \u001b[1;32mfrom\u001b[0m \u001b[0mimblearn\u001b[0m\u001b[1;33m.\u001b[0m\u001b[0mensemble\u001b[0m \u001b[1;32mimport\u001b[0m \u001b[0mBalancedBaggingClassifier\u001b[0m\u001b[1;33m\u001b[0m\u001b[1;33m\u001b[0m\u001b[0m\n\u001b[0;32m      2\u001b[0m \u001b[1;33m\u001b[0m\u001b[0m\n\u001b[1;32m----> 3\u001b[1;33m model = BalancedBaggingClassifier(base_estimator=DecisionTreeClassifier(),\n\u001b[0m\u001b[0;32m      4\u001b[0m                                   \u001b[0msampling_strategy\u001b[0m\u001b[1;33m=\u001b[0m\u001b[1;34m'auto'\u001b[0m\u001b[1;33m,\u001b[0m\u001b[1;33m\u001b[0m\u001b[1;33m\u001b[0m\u001b[0m\n\u001b[0;32m      5\u001b[0m                                   \u001b[0mreplacement\u001b[0m\u001b[1;33m=\u001b[0m\u001b[1;32mFalse\u001b[0m\u001b[1;33m,\u001b[0m\u001b[1;33m\u001b[0m\u001b[1;33m\u001b[0m\u001b[0m\n",
      "\u001b[1;31mNameError\u001b[0m: name 'DecisionTreeClassifier' is not defined"
     ]
    }
   ],
   "source": [
    "from imblearn.ensemble import BalancedBaggingClassifier\n",
    "\n",
    "model = BalancedBaggingClassifier(base_estimator=DecisionTreeClassifier(),\n",
    "                                  sampling_strategy='auto',\n",
    "                                  replacement=False,\n",
    "                                  random_state=0\n",
    "                                 ).fit(train_data_processed, y_train)\n",
    "\n",
    "print(classification_report(y_valid,\n",
    "                            model.predict(validation_data_processed)))\n"
   ]
  },
  {
   "cell_type": "code",
   "execution_count": 67,
   "metadata": {},
   "outputs": [
    {
     "name": "stdout",
     "output_type": "stream",
     "text": [
      "              precision    recall  f1-score   support\n",
      "\n",
      "           0       0.50      0.00      0.00       741\n",
      "           1       0.59      1.00      0.74      1610\n",
      "           2       0.00      0.00      0.00       398\n",
      "\n",
      "    accuracy                           0.59      2749\n",
      "   macro avg       0.36      0.33      0.25      2749\n",
      "weighted avg       0.48      0.59      0.43      2749\n",
      "\n"
     ]
    },
    {
     "name": "stderr",
     "output_type": "stream",
     "text": [
      "C:\\Users\\Gajithra\\anaconda3\\lib\\site-packages\\sklearn\\metrics\\_classification.py:1245: UndefinedMetricWarning: Precision and F-score are ill-defined and being set to 0.0 in labels with no predicted samples. Use `zero_division` parameter to control this behavior.\n",
      "  _warn_prf(average, modifier, msg_start, len(result))\n",
      "C:\\Users\\Gajithra\\anaconda3\\lib\\site-packages\\sklearn\\metrics\\_classification.py:1245: UndefinedMetricWarning: Precision and F-score are ill-defined and being set to 0.0 in labels with no predicted samples. Use `zero_division` parameter to control this behavior.\n",
      "  _warn_prf(average, modifier, msg_start, len(result))\n",
      "C:\\Users\\Gajithra\\anaconda3\\lib\\site-packages\\sklearn\\metrics\\_classification.py:1245: UndefinedMetricWarning: Precision and F-score are ill-defined and being set to 0.0 in labels with no predicted samples. Use `zero_division` parameter to control this behavior.\n",
      "  _warn_prf(average, modifier, msg_start, len(result))\n"
     ]
    }
   ],
   "source": [
    "from sklearn.ensemble import RandomForestClassifier\n",
    "\n",
    "model = RandomForestClassifier(class_weight='balanced_subsample').fit(train_data_processed, y_train)\n",
    "print(classification_report(y_valid,\n",
    "                            model.predict(validation_data_processed)))\n"
   ]
  }
 ],
 "metadata": {
  "kernelspec": {
   "display_name": "Python 3",
   "language": "python",
   "name": "python3"
  },
  "language_info": {
   "codemirror_mode": {
    "name": "ipython",
    "version": 3
   },
   "file_extension": ".py",
   "mimetype": "text/x-python",
   "name": "python",
   "nbconvert_exporter": "python",
   "pygments_lexer": "ipython3",
   "version": "3.8.3"
  }
 },
 "nbformat": 4,
 "nbformat_minor": 5
}

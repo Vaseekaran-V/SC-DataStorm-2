{
 "cells": [
  {
   "cell_type": "markdown",
   "metadata": {},
   "source": [
    "### Importing the needed libraries"
   ]
  },
  {
   "cell_type": "code",
   "execution_count": 1,
   "metadata": {},
   "outputs": [],
   "source": [
    "import pandas as pd\n",
    "import numpy as np\n",
    "import matplotlib.pyplot as plt\n",
    "%matplotlib inline\n",
    "import seaborn as sns\n",
    "from sklearn.model_selection import train_test_split\n",
    "from sklearn.metrics import accuracy_score\n",
    "from sklearn.metrics import confusion_matrix\n",
    "from sklearn.model_selection import cross_val_score\n",
    "from sklearn.preprocessing import OneHotEncoder\n",
    "from sklearn.pipeline import Pipeline\n",
    "from sklearn import preprocessing\n",
    "from sklearn.compose import ColumnTransformer\n",
    "from sklearn.preprocessing import StandardScaler #you can use minmax scaler too\n",
    "from sklearn.model_selection import cross_val_score\n",
    "from sklearn.model_selection import RandomizedSearchCV\n",
    "from sklearn.model_selection import GridSearchCV\n",
    "from sklearn.ensemble import RandomForestClassifier\n",
    "from sklearn.metrics import classification_report\n",
    "import xgboost as xgb\n",
    "import imblearn\n",
    "from imblearn.ensemble import BalancedBaggingClassifier\n",
    "#Import other necessary model libraries, for this example, using Logistic Regression"
   ]
  },
  {
   "cell_type": "markdown",
   "metadata": {},
   "source": [
    "### Importing the dataset"
   ]
  },
  {
   "cell_type": "code",
   "execution_count": 139,
   "metadata": {},
   "outputs": [],
   "source": [
    "train_data = pd.read_csv(r\"../Data/Preprocessed-Datasets/train-data-encoded.csv\", header = 0)\n",
    "test_data = pd.read_csv(r\"../Data/Preprocessed-Datasets/test-data-encoded.csv\", header = 0)\n",
    "validation_data = pd.read_csv(r\"../Data/Preprocessed-Datasets/validation-data-encoded.csv\", header = 0)"
   ]
  },
  {
   "cell_type": "code",
   "execution_count": 3,
   "metadata": {},
   "outputs": [],
   "source": [
    "train_data=train_data.drop(['Reservation-id'], axis = 1)\n",
    "validation_data=validation_data.drop(['Reservation-id'], axis = 1)\n",
    "test_data=test_data.drop(['Reservation-id'], axis = 1)"
   ]
  },
  {
   "cell_type": "code",
   "execution_count": 140,
   "metadata": {},
   "outputs": [
    {
     "data": {
      "text/html": [
       "<div>\n",
       "<style scoped>\n",
       "    .dataframe tbody tr th:only-of-type {\n",
       "        vertical-align: middle;\n",
       "    }\n",
       "\n",
       "    .dataframe tbody tr th {\n",
       "        vertical-align: top;\n",
       "    }\n",
       "\n",
       "    .dataframe thead th {\n",
       "        text-align: right;\n",
       "    }\n",
       "</style>\n",
       "<table border=\"1\" class=\"dataframe\">\n",
       "  <thead>\n",
       "    <tr style=\"text-align: right;\">\n",
       "      <th></th>\n",
       "      <th>Reservation-id</th>\n",
       "      <th>Age</th>\n",
       "      <th>Adults</th>\n",
       "      <th>Children</th>\n",
       "      <th>Babies</th>\n",
       "      <th>Discount_Rate</th>\n",
       "      <th>Room_Rate</th>\n",
       "      <th>Expected_stay_days</th>\n",
       "      <th>Reservation_gap</th>\n",
       "      <th>Gender_F</th>\n",
       "      <th>...</th>\n",
       "      <th>Deposit_type_No Deposit</th>\n",
       "      <th>Deposit_type_Non-Refundable</th>\n",
       "      <th>Deposit_type_Refundable</th>\n",
       "      <th>Booking_channel_Agent</th>\n",
       "      <th>Booking_channel_Direct</th>\n",
       "      <th>Booking_channel_Online</th>\n",
       "      <th>Required_Car_Parking_No</th>\n",
       "      <th>Required_Car_Parking_Yes</th>\n",
       "      <th>Use_Promotion_No</th>\n",
       "      <th>Use_Promotion_Yes</th>\n",
       "    </tr>\n",
       "  </thead>\n",
       "  <tbody>\n",
       "    <tr>\n",
       "      <th>0</th>\n",
       "      <td>62931593</td>\n",
       "      <td>52</td>\n",
       "      <td>3</td>\n",
       "      <td>3</td>\n",
       "      <td>0</td>\n",
       "      <td>10</td>\n",
       "      <td>153</td>\n",
       "      <td>1</td>\n",
       "      <td>21</td>\n",
       "      <td>1</td>\n",
       "      <td>...</td>\n",
       "      <td>1</td>\n",
       "      <td>0</td>\n",
       "      <td>0</td>\n",
       "      <td>0</td>\n",
       "      <td>1</td>\n",
       "      <td>0</td>\n",
       "      <td>0</td>\n",
       "      <td>1</td>\n",
       "      <td>0</td>\n",
       "      <td>1</td>\n",
       "    </tr>\n",
       "    <tr>\n",
       "      <th>1</th>\n",
       "      <td>70586099</td>\n",
       "      <td>47</td>\n",
       "      <td>2</td>\n",
       "      <td>1</td>\n",
       "      <td>0</td>\n",
       "      <td>0</td>\n",
       "      <td>210</td>\n",
       "      <td>1</td>\n",
       "      <td>104</td>\n",
       "      <td>1</td>\n",
       "      <td>...</td>\n",
       "      <td>1</td>\n",
       "      <td>0</td>\n",
       "      <td>0</td>\n",
       "      <td>0</td>\n",
       "      <td>0</td>\n",
       "      <td>1</td>\n",
       "      <td>1</td>\n",
       "      <td>0</td>\n",
       "      <td>1</td>\n",
       "      <td>0</td>\n",
       "    </tr>\n",
       "    <tr>\n",
       "      <th>2</th>\n",
       "      <td>4230648</td>\n",
       "      <td>28</td>\n",
       "      <td>2</td>\n",
       "      <td>2</td>\n",
       "      <td>0</td>\n",
       "      <td>5</td>\n",
       "      <td>117</td>\n",
       "      <td>3</td>\n",
       "      <td>20</td>\n",
       "      <td>1</td>\n",
       "      <td>...</td>\n",
       "      <td>1</td>\n",
       "      <td>0</td>\n",
       "      <td>0</td>\n",
       "      <td>1</td>\n",
       "      <td>0</td>\n",
       "      <td>0</td>\n",
       "      <td>1</td>\n",
       "      <td>0</td>\n",
       "      <td>0</td>\n",
       "      <td>1</td>\n",
       "    </tr>\n",
       "    <tr>\n",
       "      <th>3</th>\n",
       "      <td>25192322</td>\n",
       "      <td>65</td>\n",
       "      <td>1</td>\n",
       "      <td>3</td>\n",
       "      <td>2</td>\n",
       "      <td>10</td>\n",
       "      <td>107</td>\n",
       "      <td>2</td>\n",
       "      <td>182</td>\n",
       "      <td>1</td>\n",
       "      <td>...</td>\n",
       "      <td>1</td>\n",
       "      <td>0</td>\n",
       "      <td>0</td>\n",
       "      <td>0</td>\n",
       "      <td>0</td>\n",
       "      <td>1</td>\n",
       "      <td>0</td>\n",
       "      <td>1</td>\n",
       "      <td>0</td>\n",
       "      <td>1</td>\n",
       "    </tr>\n",
       "    <tr>\n",
       "      <th>4</th>\n",
       "      <td>80931528</td>\n",
       "      <td>45</td>\n",
       "      <td>3</td>\n",
       "      <td>1</td>\n",
       "      <td>0</td>\n",
       "      <td>0</td>\n",
       "      <td>119</td>\n",
       "      <td>2</td>\n",
       "      <td>18</td>\n",
       "      <td>0</td>\n",
       "      <td>...</td>\n",
       "      <td>0</td>\n",
       "      <td>0</td>\n",
       "      <td>1</td>\n",
       "      <td>1</td>\n",
       "      <td>0</td>\n",
       "      <td>0</td>\n",
       "      <td>1</td>\n",
       "      <td>0</td>\n",
       "      <td>1</td>\n",
       "      <td>0</td>\n",
       "    </tr>\n",
       "  </tbody>\n",
       "</table>\n",
       "<p>5 rows × 47 columns</p>\n",
       "</div>"
      ],
      "text/plain": [
       "   Reservation-id  Age  Adults  Children  Babies  Discount_Rate  Room_Rate  \\\n",
       "0        62931593   52       3         3       0             10        153   \n",
       "1        70586099   47       2         1       0              0        210   \n",
       "2         4230648   28       2         2       0              5        117   \n",
       "3        25192322   65       1         3       2             10        107   \n",
       "4        80931528   45       3         1       0              0        119   \n",
       "\n",
       "   Expected_stay_days  Reservation_gap  Gender_F  ...  \\\n",
       "0                   1               21         1  ...   \n",
       "1                   1              104         1  ...   \n",
       "2                   3               20         1  ...   \n",
       "3                   2              182         1  ...   \n",
       "4                   2               18         0  ...   \n",
       "\n",
       "   Deposit_type_No Deposit  Deposit_type_Non-Refundable  \\\n",
       "0                        1                            0   \n",
       "1                        1                            0   \n",
       "2                        1                            0   \n",
       "3                        1                            0   \n",
       "4                        0                            0   \n",
       "\n",
       "   Deposit_type_Refundable  Booking_channel_Agent  Booking_channel_Direct  \\\n",
       "0                        0                      0                       1   \n",
       "1                        0                      0                       0   \n",
       "2                        0                      1                       0   \n",
       "3                        0                      0                       0   \n",
       "4                        1                      1                       0   \n",
       "\n",
       "   Booking_channel_Online  Required_Car_Parking_No  Required_Car_Parking_Yes  \\\n",
       "0                       0                        0                         1   \n",
       "1                       1                        1                         0   \n",
       "2                       0                        1                         0   \n",
       "3                       1                        0                         1   \n",
       "4                       0                        1                         0   \n",
       "\n",
       "   Use_Promotion_No  Use_Promotion_Yes  \n",
       "0                 0                  1  \n",
       "1                 1                  0  \n",
       "2                 0                  1  \n",
       "3                 0                  1  \n",
       "4                 1                  0  \n",
       "\n",
       "[5 rows x 47 columns]"
      ]
     },
     "execution_count": 140,
     "metadata": {},
     "output_type": "execute_result"
    }
   ],
   "source": [
    "test_data.head()"
   ]
  },
  {
   "cell_type": "code",
   "execution_count": 5,
   "metadata": {},
   "outputs": [
    {
     "data": {
      "text/html": [
       "<div>\n",
       "<style scoped>\n",
       "    .dataframe tbody tr th:only-of-type {\n",
       "        vertical-align: middle;\n",
       "    }\n",
       "\n",
       "    .dataframe tbody tr th {\n",
       "        vertical-align: top;\n",
       "    }\n",
       "\n",
       "    .dataframe thead th {\n",
       "        text-align: right;\n",
       "    }\n",
       "</style>\n",
       "<table border=\"1\" class=\"dataframe\">\n",
       "  <thead>\n",
       "    <tr style=\"text-align: right;\">\n",
       "      <th></th>\n",
       "      <th>Age</th>\n",
       "      <th>Adults</th>\n",
       "      <th>Children</th>\n",
       "      <th>Babies</th>\n",
       "      <th>Reservation_Status</th>\n",
       "      <th>Discount_Rate</th>\n",
       "      <th>Room_Rate</th>\n",
       "      <th>Expected_stay_days</th>\n",
       "      <th>Reservation_gap</th>\n",
       "      <th>Gender_F</th>\n",
       "      <th>...</th>\n",
       "      <th>Deposit_type_No Deposit</th>\n",
       "      <th>Deposit_type_Non-Refundable</th>\n",
       "      <th>Deposit_type_Refundable</th>\n",
       "      <th>Booking_channel_Agent</th>\n",
       "      <th>Booking_channel_Direct</th>\n",
       "      <th>Booking_channel_Online</th>\n",
       "      <th>Required_Car_Parking_No</th>\n",
       "      <th>Required_Car_Parking_Yes</th>\n",
       "      <th>Use_Promotion_No</th>\n",
       "      <th>Use_Promotion_Yes</th>\n",
       "    </tr>\n",
       "  </thead>\n",
       "  <tbody>\n",
       "    <tr>\n",
       "      <th>0</th>\n",
       "      <td>56</td>\n",
       "      <td>2</td>\n",
       "      <td>2</td>\n",
       "      <td>0</td>\n",
       "      <td>No-Show</td>\n",
       "      <td>15</td>\n",
       "      <td>192</td>\n",
       "      <td>2</td>\n",
       "      <td>195</td>\n",
       "      <td>0</td>\n",
       "      <td>...</td>\n",
       "      <td>1</td>\n",
       "      <td>0</td>\n",
       "      <td>0</td>\n",
       "      <td>1</td>\n",
       "      <td>0</td>\n",
       "      <td>0</td>\n",
       "      <td>1</td>\n",
       "      <td>0</td>\n",
       "      <td>0</td>\n",
       "      <td>1</td>\n",
       "    </tr>\n",
       "    <tr>\n",
       "      <th>1</th>\n",
       "      <td>60</td>\n",
       "      <td>2</td>\n",
       "      <td>2</td>\n",
       "      <td>0</td>\n",
       "      <td>Canceled</td>\n",
       "      <td>0</td>\n",
       "      <td>187</td>\n",
       "      <td>4</td>\n",
       "      <td>175</td>\n",
       "      <td>0</td>\n",
       "      <td>...</td>\n",
       "      <td>1</td>\n",
       "      <td>0</td>\n",
       "      <td>0</td>\n",
       "      <td>0</td>\n",
       "      <td>0</td>\n",
       "      <td>1</td>\n",
       "      <td>0</td>\n",
       "      <td>1</td>\n",
       "      <td>1</td>\n",
       "      <td>0</td>\n",
       "    </tr>\n",
       "    <tr>\n",
       "      <th>2</th>\n",
       "      <td>58</td>\n",
       "      <td>3</td>\n",
       "      <td>1</td>\n",
       "      <td>0</td>\n",
       "      <td>Canceled</td>\n",
       "      <td>10</td>\n",
       "      <td>227</td>\n",
       "      <td>1</td>\n",
       "      <td>193</td>\n",
       "      <td>1</td>\n",
       "      <td>...</td>\n",
       "      <td>1</td>\n",
       "      <td>0</td>\n",
       "      <td>0</td>\n",
       "      <td>0</td>\n",
       "      <td>1</td>\n",
       "      <td>0</td>\n",
       "      <td>1</td>\n",
       "      <td>0</td>\n",
       "      <td>0</td>\n",
       "      <td>1</td>\n",
       "    </tr>\n",
       "    <tr>\n",
       "      <th>3</th>\n",
       "      <td>23</td>\n",
       "      <td>1</td>\n",
       "      <td>2</td>\n",
       "      <td>0</td>\n",
       "      <td>Check-In</td>\n",
       "      <td>25</td>\n",
       "      <td>189</td>\n",
       "      <td>2</td>\n",
       "      <td>103</td>\n",
       "      <td>1</td>\n",
       "      <td>...</td>\n",
       "      <td>0</td>\n",
       "      <td>0</td>\n",
       "      <td>1</td>\n",
       "      <td>0</td>\n",
       "      <td>1</td>\n",
       "      <td>0</td>\n",
       "      <td>1</td>\n",
       "      <td>0</td>\n",
       "      <td>0</td>\n",
       "      <td>1</td>\n",
       "    </tr>\n",
       "    <tr>\n",
       "      <th>4</th>\n",
       "      <td>47</td>\n",
       "      <td>1</td>\n",
       "      <td>1</td>\n",
       "      <td>0</td>\n",
       "      <td>Check-In</td>\n",
       "      <td>10</td>\n",
       "      <td>218</td>\n",
       "      <td>1</td>\n",
       "      <td>92</td>\n",
       "      <td>1</td>\n",
       "      <td>...</td>\n",
       "      <td>1</td>\n",
       "      <td>0</td>\n",
       "      <td>0</td>\n",
       "      <td>0</td>\n",
       "      <td>0</td>\n",
       "      <td>1</td>\n",
       "      <td>0</td>\n",
       "      <td>1</td>\n",
       "      <td>0</td>\n",
       "      <td>1</td>\n",
       "    </tr>\n",
       "  </tbody>\n",
       "</table>\n",
       "<p>5 rows × 47 columns</p>\n",
       "</div>"
      ],
      "text/plain": [
       "   Age  Adults  Children  Babies Reservation_Status  Discount_Rate  Room_Rate  \\\n",
       "0   56       2         2       0            No-Show             15        192   \n",
       "1   60       2         2       0           Canceled              0        187   \n",
       "2   58       3         1       0           Canceled             10        227   \n",
       "3   23       1         2       0           Check-In             25        189   \n",
       "4   47       1         1       0           Check-In             10        218   \n",
       "\n",
       "   Expected_stay_days  Reservation_gap  Gender_F  ...  \\\n",
       "0                   2              195         0  ...   \n",
       "1                   4              175         0  ...   \n",
       "2                   1              193         1  ...   \n",
       "3                   2              103         1  ...   \n",
       "4                   1               92         1  ...   \n",
       "\n",
       "   Deposit_type_No Deposit  Deposit_type_Non-Refundable  \\\n",
       "0                        1                            0   \n",
       "1                        1                            0   \n",
       "2                        1                            0   \n",
       "3                        0                            0   \n",
       "4                        1                            0   \n",
       "\n",
       "   Deposit_type_Refundable  Booking_channel_Agent  Booking_channel_Direct  \\\n",
       "0                        0                      1                       0   \n",
       "1                        0                      0                       0   \n",
       "2                        0                      0                       1   \n",
       "3                        1                      0                       1   \n",
       "4                        0                      0                       0   \n",
       "\n",
       "   Booking_channel_Online  Required_Car_Parking_No  Required_Car_Parking_Yes  \\\n",
       "0                       0                        1                         0   \n",
       "1                       1                        0                         1   \n",
       "2                       0                        1                         0   \n",
       "3                       0                        1                         0   \n",
       "4                       1                        0                         1   \n",
       "\n",
       "   Use_Promotion_No  Use_Promotion_Yes  \n",
       "0                 0                  1  \n",
       "1                 1                  0  \n",
       "2                 0                  1  \n",
       "3                 0                  1  \n",
       "4                 0                  1  \n",
       "\n",
       "[5 rows x 47 columns]"
      ]
     },
     "execution_count": 5,
     "metadata": {},
     "output_type": "execute_result"
    }
   ],
   "source": [
    "validation_data.head()"
   ]
  },
  {
   "cell_type": "markdown",
   "metadata": {},
   "source": [
    "### Seperating the columns of categorical and quantitative data"
   ]
  },
  {
   "cell_type": "code",
   "execution_count": 6,
   "metadata": {},
   "outputs": [],
   "source": [
    "data_quan_cols = ['Age','Discount_Rate', 'Room_Rate','Expected_stay_days', \n",
    "                        'Reservation_gap', 'Adults', 'Children','Babies']"
   ]
  },
  {
   "cell_type": "code",
   "execution_count": 7,
   "metadata": {},
   "outputs": [],
   "source": [
    "data_cat_cols = ['Gender', 'Ethnicity', 'Educational_Level', 'Income', 'Country_region',\n",
    "                 'Hotel_Type', 'Meal_Type', 'Visted_Previously',\n",
    "                 'Previous_Cancellations', 'Deposit_type', 'Booking_channel',\n",
    "                 'Required_Car_Parking', 'Use_Promotion']"
   ]
  },
  {
   "cell_type": "markdown",
   "metadata": {},
   "source": [
    "### Scaling the quantitative variables"
   ]
  },
  {
   "cell_type": "code",
   "execution_count": 8,
   "metadata": {},
   "outputs": [],
   "source": [
    "train_data_quan = train_data[data_quan_cols]\n",
    "validation_data_quan = validation_data[data_quan_cols]\n",
    "test_data_quan = test_data[data_quan_cols]"
   ]
  },
  {
   "cell_type": "code",
   "execution_count": 9,
   "metadata": {},
   "outputs": [],
   "source": [
    "sc = StandardScaler()"
   ]
  },
  {
   "cell_type": "code",
   "execution_count": 10,
   "metadata": {},
   "outputs": [],
   "source": [
    "train_data_quan_scaled = sc.fit_transform(train_data_quan)\n",
    "validation_data_quan_scaled = sc.transform(validation_data_quan)\n",
    "test_data_quan_scaled = sc.transform(test_data_quan)"
   ]
  },
  {
   "cell_type": "code",
   "execution_count": 11,
   "metadata": {},
   "outputs": [
    {
     "data": {
      "text/plain": [
       "array([[-0.25991554, -0.22266812,  0.97691768, ..., -0.28353117,\n",
       "         0.35475481, -0.61317041],\n",
       "       [ 0.32820944, -1.11506055,  0.22480302, ...,  0.56644415,\n",
       "         1.73987514, -0.61317041],\n",
       "       [-0.1292211 , -1.11506055, -1.27942629, ...,  0.56644415,\n",
       "         1.73987514, -0.61317041],\n",
       "       ...,\n",
       "       [ 0.32820944, -0.66886434,  0.61225603, ..., -0.28353117,\n",
       "        -1.03036552,  1.13107011],\n",
       "       [ 1.37376495,  0.66972431, -0.41335487, ...,  0.56644415,\n",
       "         0.35475481, -0.61317041],\n",
       "       [ 0.26286222, -1.11506055,  0.79458685, ...,  0.56644415,\n",
       "        -1.03036552, -0.61317041]])"
      ]
     },
     "execution_count": 11,
     "metadata": {},
     "output_type": "execute_result"
    }
   ],
   "source": [
    "train_data_quan_scaled"
   ]
  },
  {
   "cell_type": "code",
   "execution_count": 12,
   "metadata": {},
   "outputs": [
    {
     "data": {
      "text/plain": [
       "numpy.ndarray"
      ]
     },
     "execution_count": 12,
     "metadata": {},
     "output_type": "execute_result"
    }
   ],
   "source": [
    "type(train_data_quan_scaled)"
   ]
  },
  {
   "cell_type": "markdown",
   "metadata": {},
   "source": [
    "### Separating the categorical variables"
   ]
  },
  {
   "cell_type": "code",
   "execution_count": 13,
   "metadata": {},
   "outputs": [
    {
     "data": {
      "text/plain": [
       "['Age',\n",
       " 'Discount_Rate',\n",
       " 'Room_Rate',\n",
       " 'Expected_stay_days',\n",
       " 'Reservation_gap',\n",
       " 'Adults',\n",
       " 'Children',\n",
       " 'Babies',\n",
       " 'Reservation_Status']"
      ]
     },
     "execution_count": 13,
     "metadata": {},
     "output_type": "execute_result"
    }
   ],
   "source": [
    "cols_to_drop = data_quan_cols.copy()\n",
    "cols_to_drop.append(\"Reservation_Status\")\n",
    "cols_to_drop"
   ]
  },
  {
   "cell_type": "code",
   "execution_count": 14,
   "metadata": {},
   "outputs": [
    {
     "name": "stdout",
     "output_type": "stream",
     "text": [
      "['Age', 'Discount_Rate', 'Room_Rate', 'Expected_stay_days', 'Reservation_gap', 'Adults', 'Children', 'Babies', 'Reservation_Status']\n"
     ]
    }
   ],
   "source": [
    "print(cols_to_drop)"
   ]
  },
  {
   "cell_type": "code",
   "execution_count": 15,
   "metadata": {},
   "outputs": [
    {
     "data": {
      "text/html": [
       "<div>\n",
       "<style scoped>\n",
       "    .dataframe tbody tr th:only-of-type {\n",
       "        vertical-align: middle;\n",
       "    }\n",
       "\n",
       "    .dataframe tbody tr th {\n",
       "        vertical-align: top;\n",
       "    }\n",
       "\n",
       "    .dataframe thead th {\n",
       "        text-align: right;\n",
       "    }\n",
       "</style>\n",
       "<table border=\"1\" class=\"dataframe\">\n",
       "  <thead>\n",
       "    <tr style=\"text-align: right;\">\n",
       "      <th></th>\n",
       "      <th>Gender_F</th>\n",
       "      <th>Gender_M</th>\n",
       "      <th>Ethnicity_African American</th>\n",
       "      <th>Ethnicity_Asian American</th>\n",
       "      <th>Ethnicity_Latino</th>\n",
       "      <th>Ethnicity_caucasian</th>\n",
       "      <th>Educational_Level_College</th>\n",
       "      <th>Educational_Level_Grad</th>\n",
       "      <th>Educational_Level_High-School</th>\n",
       "      <th>Educational_Level_Mid-School</th>\n",
       "      <th>...</th>\n",
       "      <th>Deposit_type_No Deposit</th>\n",
       "      <th>Deposit_type_Non-Refundable</th>\n",
       "      <th>Deposit_type_Refundable</th>\n",
       "      <th>Booking_channel_Agent</th>\n",
       "      <th>Booking_channel_Direct</th>\n",
       "      <th>Booking_channel_Online</th>\n",
       "      <th>Required_Car_Parking_No</th>\n",
       "      <th>Required_Car_Parking_Yes</th>\n",
       "      <th>Use_Promotion_No</th>\n",
       "      <th>Use_Promotion_Yes</th>\n",
       "    </tr>\n",
       "  </thead>\n",
       "  <tbody>\n",
       "    <tr>\n",
       "      <th>0</th>\n",
       "      <td>1</td>\n",
       "      <td>0</td>\n",
       "      <td>0</td>\n",
       "      <td>0</td>\n",
       "      <td>1</td>\n",
       "      <td>0</td>\n",
       "      <td>0</td>\n",
       "      <td>1</td>\n",
       "      <td>0</td>\n",
       "      <td>0</td>\n",
       "      <td>...</td>\n",
       "      <td>1</td>\n",
       "      <td>0</td>\n",
       "      <td>0</td>\n",
       "      <td>0</td>\n",
       "      <td>0</td>\n",
       "      <td>1</td>\n",
       "      <td>0</td>\n",
       "      <td>1</td>\n",
       "      <td>0</td>\n",
       "      <td>1</td>\n",
       "    </tr>\n",
       "    <tr>\n",
       "      <th>1</th>\n",
       "      <td>1</td>\n",
       "      <td>0</td>\n",
       "      <td>0</td>\n",
       "      <td>0</td>\n",
       "      <td>1</td>\n",
       "      <td>0</td>\n",
       "      <td>0</td>\n",
       "      <td>0</td>\n",
       "      <td>0</td>\n",
       "      <td>1</td>\n",
       "      <td>...</td>\n",
       "      <td>0</td>\n",
       "      <td>0</td>\n",
       "      <td>1</td>\n",
       "      <td>0</td>\n",
       "      <td>0</td>\n",
       "      <td>1</td>\n",
       "      <td>0</td>\n",
       "      <td>1</td>\n",
       "      <td>1</td>\n",
       "      <td>0</td>\n",
       "    </tr>\n",
       "    <tr>\n",
       "      <th>2</th>\n",
       "      <td>1</td>\n",
       "      <td>0</td>\n",
       "      <td>0</td>\n",
       "      <td>0</td>\n",
       "      <td>0</td>\n",
       "      <td>1</td>\n",
       "      <td>0</td>\n",
       "      <td>1</td>\n",
       "      <td>0</td>\n",
       "      <td>0</td>\n",
       "      <td>...</td>\n",
       "      <td>1</td>\n",
       "      <td>0</td>\n",
       "      <td>0</td>\n",
       "      <td>0</td>\n",
       "      <td>0</td>\n",
       "      <td>1</td>\n",
       "      <td>0</td>\n",
       "      <td>1</td>\n",
       "      <td>1</td>\n",
       "      <td>0</td>\n",
       "    </tr>\n",
       "    <tr>\n",
       "      <th>3</th>\n",
       "      <td>0</td>\n",
       "      <td>1</td>\n",
       "      <td>1</td>\n",
       "      <td>0</td>\n",
       "      <td>0</td>\n",
       "      <td>0</td>\n",
       "      <td>1</td>\n",
       "      <td>0</td>\n",
       "      <td>0</td>\n",
       "      <td>0</td>\n",
       "      <td>...</td>\n",
       "      <td>0</td>\n",
       "      <td>0</td>\n",
       "      <td>1</td>\n",
       "      <td>1</td>\n",
       "      <td>0</td>\n",
       "      <td>0</td>\n",
       "      <td>0</td>\n",
       "      <td>1</td>\n",
       "      <td>0</td>\n",
       "      <td>1</td>\n",
       "    </tr>\n",
       "    <tr>\n",
       "      <th>4</th>\n",
       "      <td>1</td>\n",
       "      <td>0</td>\n",
       "      <td>0</td>\n",
       "      <td>0</td>\n",
       "      <td>1</td>\n",
       "      <td>0</td>\n",
       "      <td>0</td>\n",
       "      <td>0</td>\n",
       "      <td>1</td>\n",
       "      <td>0</td>\n",
       "      <td>...</td>\n",
       "      <td>1</td>\n",
       "      <td>0</td>\n",
       "      <td>0</td>\n",
       "      <td>0</td>\n",
       "      <td>1</td>\n",
       "      <td>0</td>\n",
       "      <td>1</td>\n",
       "      <td>0</td>\n",
       "      <td>0</td>\n",
       "      <td>1</td>\n",
       "    </tr>\n",
       "  </tbody>\n",
       "</table>\n",
       "<p>5 rows × 38 columns</p>\n",
       "</div>"
      ],
      "text/plain": [
       "   Gender_F  Gender_M  Ethnicity_African American  Ethnicity_Asian American  \\\n",
       "0         1         0                           0                         0   \n",
       "1         1         0                           0                         0   \n",
       "2         1         0                           0                         0   \n",
       "3         0         1                           1                         0   \n",
       "4         1         0                           0                         0   \n",
       "\n",
       "   Ethnicity_Latino  Ethnicity_caucasian  Educational_Level_College  \\\n",
       "0                 1                    0                          0   \n",
       "1                 1                    0                          0   \n",
       "2                 0                    1                          0   \n",
       "3                 0                    0                          1   \n",
       "4                 1                    0                          0   \n",
       "\n",
       "   Educational_Level_Grad  Educational_Level_High-School  \\\n",
       "0                       1                              0   \n",
       "1                       0                              0   \n",
       "2                       1                              0   \n",
       "3                       0                              0   \n",
       "4                       0                              1   \n",
       "\n",
       "   Educational_Level_Mid-School  ...  Deposit_type_No Deposit  \\\n",
       "0                             0  ...                        1   \n",
       "1                             1  ...                        0   \n",
       "2                             0  ...                        1   \n",
       "3                             0  ...                        0   \n",
       "4                             0  ...                        1   \n",
       "\n",
       "   Deposit_type_Non-Refundable  Deposit_type_Refundable  \\\n",
       "0                            0                        0   \n",
       "1                            0                        1   \n",
       "2                            0                        0   \n",
       "3                            0                        1   \n",
       "4                            0                        0   \n",
       "\n",
       "   Booking_channel_Agent  Booking_channel_Direct  Booking_channel_Online  \\\n",
       "0                      0                       0                       1   \n",
       "1                      0                       0                       1   \n",
       "2                      0                       0                       1   \n",
       "3                      1                       0                       0   \n",
       "4                      0                       1                       0   \n",
       "\n",
       "   Required_Car_Parking_No  Required_Car_Parking_Yes  Use_Promotion_No  \\\n",
       "0                        0                         1                 0   \n",
       "1                        0                         1                 1   \n",
       "2                        0                         1                 1   \n",
       "3                        0                         1                 0   \n",
       "4                        1                         0                 0   \n",
       "\n",
       "   Use_Promotion_Yes  \n",
       "0                  1  \n",
       "1                  0  \n",
       "2                  0  \n",
       "3                  1  \n",
       "4                  1  \n",
       "\n",
       "[5 rows x 38 columns]"
      ]
     },
     "execution_count": 15,
     "metadata": {},
     "output_type": "execute_result"
    }
   ],
   "source": [
    "train_data_cat = train_data.drop(cols_to_drop, axis=1)\n",
    "validation_data_cat = validation_data.drop(cols_to_drop, axis=1)\n",
    "test_data_cat = test_data.drop(data_quan_cols, axis=1)\n",
    "train_data_cat.head()"
   ]
  },
  {
   "cell_type": "code",
   "execution_count": 16,
   "metadata": {},
   "outputs": [
    {
     "data": {
      "text/plain": [
       "(27499, 38)"
      ]
     },
     "execution_count": 16,
     "metadata": {},
     "output_type": "execute_result"
    }
   ],
   "source": [
    "train_data_cat_array = train_data_cat.to_numpy()\n",
    "validation_data_cat_array = validation_data_cat.to_numpy()\n",
    "test_data_cat_array = test_data_cat.to_numpy()\n",
    "train_data_cat_array.shape"
   ]
  },
  {
   "cell_type": "markdown",
   "metadata": {},
   "source": [
    "### Joining the pre-processed data"
   ]
  },
  {
   "cell_type": "code",
   "execution_count": 17,
   "metadata": {},
   "outputs": [],
   "source": [
    "train_data_processed = np.concatenate((train_data_quan_scaled, train_data_cat_array), axis = 1)\n",
    "validation_data_processed = np.concatenate((validation_data_quan_scaled, validation_data_cat_array), axis = 1)\n",
    "test_data_processed = np.concatenate((test_data_quan_scaled, test_data_cat_array), axis = 1)"
   ]
  },
  {
   "cell_type": "code",
   "execution_count": 18,
   "metadata": {},
   "outputs": [
    {
     "data": {
      "text/plain": [
       "array([-0.25991554, -0.22266812,  0.97691768, -0.84878606, -0.88293639,\n",
       "       -0.28353117,  0.35475481, -0.61317041,  1.        ,  0.        ,\n",
       "        0.        ,  0.        ,  1.        ,  0.        ,  0.        ,\n",
       "        1.        ,  0.        ,  0.        ,  0.        ,  0.        ,\n",
       "        1.        ,  0.        ,  0.        ,  1.        ,  0.        ,\n",
       "        0.        ,  0.        ,  1.        ,  0.        ,  1.        ,\n",
       "        0.        ,  0.        ,  1.        ,  0.        ,  1.        ,\n",
       "        0.        ,  1.        ,  0.        ,  0.        ,  0.        ,\n",
       "        0.        ,  1.        ,  0.        ,  1.        ,  0.        ,\n",
       "        1.        ])"
      ]
     },
     "execution_count": 18,
     "metadata": {},
     "output_type": "execute_result"
    }
   ],
   "source": [
    "train_data_processed[0]"
   ]
  },
  {
   "cell_type": "code",
   "execution_count": 19,
   "metadata": {},
   "outputs": [
    {
     "data": {
      "text/plain": [
       "(4318, 8)"
      ]
     },
     "execution_count": 19,
     "metadata": {},
     "output_type": "execute_result"
    }
   ],
   "source": [
    "test_data_quan_scaled.shape"
   ]
  },
  {
   "cell_type": "code",
   "execution_count": 20,
   "metadata": {},
   "outputs": [
    {
     "data": {
      "text/plain": [
       "(4318, 38)"
      ]
     },
     "execution_count": 20,
     "metadata": {},
     "output_type": "execute_result"
    }
   ],
   "source": [
    "test_data_cat_array.shape"
   ]
  },
  {
   "cell_type": "code",
   "execution_count": 21,
   "metadata": {},
   "outputs": [
    {
     "data": {
      "text/plain": [
       "(2749, 46)"
      ]
     },
     "execution_count": 21,
     "metadata": {},
     "output_type": "execute_result"
    }
   ],
   "source": [
    "validation_data_processed.shape"
   ]
  },
  {
   "cell_type": "markdown",
   "metadata": {},
   "source": [
    "### Encoding the labels"
   ]
  },
  {
   "cell_type": "code",
   "execution_count": 22,
   "metadata": {},
   "outputs": [],
   "source": [
    "train_y = train_data['Reservation_Status']\n",
    "validation_y = validation_data['Reservation_Status']"
   ]
  },
  {
   "cell_type": "code",
   "execution_count": 23,
   "metadata": {},
   "outputs": [],
   "source": [
    "le = preprocessing.LabelEncoder()"
   ]
  },
  {
   "cell_type": "code",
   "execution_count": 24,
   "metadata": {},
   "outputs": [],
   "source": [
    "train_y = le.fit_transform(train_y)\n",
    "validation_y = le.transform(validation_y)"
   ]
  },
  {
   "cell_type": "code",
   "execution_count": 25,
   "metadata": {},
   "outputs": [
    {
     "data": {
      "text/plain": [
       "(2749,)"
      ]
     },
     "execution_count": 25,
     "metadata": {},
     "output_type": "execute_result"
    }
   ],
   "source": [
    "validation_y.shape"
   ]
  },
  {
   "cell_type": "code",
   "execution_count": 26,
   "metadata": {},
   "outputs": [],
   "source": [
    "unique = np.bincount(train_y)"
   ]
  },
  {
   "cell_type": "code",
   "execution_count": 27,
   "metadata": {},
   "outputs": [
    {
     "name": "stdout",
     "output_type": "stream",
     "text": [
      "[ 4134 21240  2125]\n"
     ]
    }
   ],
   "source": [
    "print(unique)"
   ]
  },
  {
   "cell_type": "markdown",
   "metadata": {},
   "source": [
    "### Near Sampling..."
   ]
  },
  {
   "cell_type": "code",
   "execution_count": 28,
   "metadata": {},
   "outputs": [
    {
     "name": "stderr",
     "output_type": "stream",
     "text": [
      "/opt/anaconda3/envs/datastorm2/lib/python3.7/site-packages/imblearn/under_sampling/_prototype_selection/_nearmiss.py:176: UserWarning: The number of the samples to be selected is larger than the number of samples available. The balancing ratio cannot be ensure and all samples will be returned.\n",
      "  \"The number of the samples to be selected is larger\"\n",
      "/opt/anaconda3/envs/datastorm2/lib/python3.7/site-packages/imblearn/under_sampling/_prototype_selection/_nearmiss.py:176: UserWarning: The number of the samples to be selected is larger than the number of samples available. The balancing ratio cannot be ensure and all samples will be returned.\n",
      "  \"The number of the samples to be selected is larger\"\n"
     ]
    }
   ],
   "source": [
    "#NearMiss\n",
    "from imblearn.under_sampling import NearMiss\n",
    "\n",
    "strategy = {1: round(21240*0.5), 0: 4134, 2: 2125}\n",
    "undersample = NearMiss(sampling_strategy=strategy,version=3, n_neighbors=2)\n",
    "X_near , y_near = undersample.fit_resample(train_data_processed,train_y)"
   ]
  },
  {
   "cell_type": "code",
   "execution_count": 29,
   "metadata": {},
   "outputs": [
    {
     "name": "stdout",
     "output_type": "stream",
     "text": [
      "[3005 5286 2125]\n"
     ]
    }
   ],
   "source": [
    "unique_near = np.bincount(y_near)\n",
    "print(unique_near)"
   ]
  },
  {
   "cell_type": "markdown",
   "metadata": {},
   "source": [
    "### Random Forest"
   ]
  },
  {
   "cell_type": "code",
   "execution_count": 30,
   "metadata": {},
   "outputs": [],
   "source": [
    "# ran_for_params = {\n",
    "#     'n_estimators' : range(1,200),\n",
    "#     'criterion': ['gini', 'entropy'],\n",
    "#     'max_depth': range(1,10),\n",
    "#     'min_samples_leaf': range(1,10),\n",
    "#     'min_samples_split': range(1,10),\n",
    "#     'bootstrap' : [True, False]\n",
    "# }"
   ]
  },
  {
   "cell_type": "code",
   "execution_count": 31,
   "metadata": {},
   "outputs": [],
   "source": [
    "# random_forest_model = RandomForestClassifier()\n",
    "# model_rand_fors = RandomizedSearchCV(random_forest_model, ran_for_params, cv=5,n_iter = 5000, n_jobs = -1, verbose = 1)\n",
    "# model_rand_fors.fit(X_near, y_near)"
   ]
  },
  {
   "cell_type": "code",
   "execution_count": 32,
   "metadata": {},
   "outputs": [],
   "source": [
    "# model_rand_fors.best_params_"
   ]
  },
  {
   "cell_type": "code",
   "execution_count": 33,
   "metadata": {},
   "outputs": [],
   "source": [
    "# model_rand_fors.best_score_"
   ]
  },
  {
   "cell_type": "code",
   "execution_count": 34,
   "metadata": {},
   "outputs": [],
   "source": [
    "# y_pred= model.predict(validation_data_processed)"
   ]
  },
  {
   "cell_type": "code",
   "execution_count": 35,
   "metadata": {},
   "outputs": [],
   "source": [
    "# print(classification_report(validation_y, y_pred))"
   ]
  },
  {
   "cell_type": "markdown",
   "metadata": {},
   "source": [
    "### Gradient Boosting"
   ]
  },
  {
   "cell_type": "code",
   "execution_count": 30,
   "metadata": {},
   "outputs": [],
   "source": [
    "from sklearn.ensemble import GradientBoostingClassifier\n",
    "model_grad_boost = GradientBoostingClassifier(random_state=0)"
   ]
  },
  {
   "cell_type": "code",
   "execution_count": 31,
   "metadata": {},
   "outputs": [
    {
     "data": {
      "text/plain": [
       "GradientBoostingClassifier(random_state=0)"
      ]
     },
     "execution_count": 31,
     "metadata": {},
     "output_type": "execute_result"
    }
   ],
   "source": [
    "model_grad_boost.fit(X_near, y_near)"
   ]
  },
  {
   "cell_type": "code",
   "execution_count": 32,
   "metadata": {},
   "outputs": [],
   "source": [
    "y_pred= model_grad_boost.predict(validation_data_processed)"
   ]
  },
  {
   "cell_type": "code",
   "execution_count": 33,
   "metadata": {},
   "outputs": [
    {
     "name": "stdout",
     "output_type": "stream",
     "text": [
      "              precision    recall  f1-score   support\n",
      "\n",
      "           0       0.25      0.10      0.14       741\n",
      "           1       0.59      0.85      0.70      1610\n",
      "           2       0.21      0.07      0.10       398\n",
      "\n",
      "    accuracy                           0.54      2749\n",
      "   macro avg       0.35      0.34      0.31      2749\n",
      "weighted avg       0.44      0.54      0.46      2749\n",
      "\n"
     ]
    }
   ],
   "source": [
    "print(classification_report(validation_y, y_pred))"
   ]
  },
  {
   "cell_type": "markdown",
   "metadata": {},
   "source": [
    "#### Hyper parameter tuning Gradient Boosting"
   ]
  },
  {
   "cell_type": "code",
   "execution_count": 40,
   "metadata": {},
   "outputs": [],
   "source": [
    "grad_boost_param_grid = {\n",
    "    'loss' : ['deviance', 'exponential'], 'max_features' : ['auto', 'sqrt', 'log2', None], \n",
    "    'learning_rate' : np.linspace(1.0, 0.0001, 25), 'n_estimators' : np.arange(1,125,5), \n",
    "    'max_depth' : np.arange(1,6)\n",
    "    }"
   ]
  },
  {
   "cell_type": "code",
   "execution_count": null,
   "metadata": {
    "scrolled": false
   },
   "outputs": [],
   "source": [
    "model_grad_boost_base = GradientBoostingClassifier(random_state=0)\n",
    "model_grad_boost_hp = GridSearchCV(model_grad_boost_base, grad_boost_param_grid, cv=5, n_jobs = -1, verbose = 1)\n",
    "model_grad_boost_hp.fit(X_near, y_near)"
   ]
  },
  {
   "cell_type": "code",
   "execution_count": null,
   "metadata": {},
   "outputs": [],
   "source": [
    "model_grad_boost_hp.best_params_"
   ]
  },
  {
   "cell_type": "code",
   "execution_count": null,
   "metadata": {},
   "outputs": [],
   "source": [
    "model_grad_boost_hp.best_score_"
   ]
  },
  {
   "cell_type": "code",
   "execution_count": 46,
   "metadata": {},
   "outputs": [],
   "source": [
    "model_grad_boost = GradientBoostingClassifier(n_estimators= 11,max_features= 'sqrt',max_depth= 2,\n",
    "                                              loss= 'deviance',learning_rate= 0.3750625000000001,\n",
    "                                              random_state=0)"
   ]
  },
  {
   "cell_type": "code",
   "execution_count": 47,
   "metadata": {},
   "outputs": [
    {
     "data": {
      "text/plain": [
       "GradientBoostingClassifier(learning_rate=0.3750625000000001, max_depth=2,\n",
       "                           max_features='sqrt', n_estimators=11,\n",
       "                           random_state=0)"
      ]
     },
     "execution_count": 47,
     "metadata": {},
     "output_type": "execute_result"
    }
   ],
   "source": [
    "model_grad_boost.fit(X_near, y_near)"
   ]
  },
  {
   "cell_type": "code",
   "execution_count": 48,
   "metadata": {},
   "outputs": [],
   "source": [
    "y_pred= model_grad_boost.predict(validation_data_processed)"
   ]
  },
  {
   "cell_type": "code",
   "execution_count": 49,
   "metadata": {},
   "outputs": [
    {
     "name": "stdout",
     "output_type": "stream",
     "text": [
      "              precision    recall  f1-score   support\n",
      "\n",
      "           0       0.30      0.04      0.07       741\n",
      "           1       0.59      0.97      0.73      1610\n",
      "           2       0.38      0.01      0.01       398\n",
      "\n",
      "    accuracy                           0.58      2749\n",
      "   macro avg       0.42      0.34      0.27      2749\n",
      "weighted avg       0.48      0.58      0.45      2749\n",
      "\n"
     ]
    }
   ],
   "source": [
    "print(classification_report(validation_y, y_pred))"
   ]
  },
  {
   "cell_type": "markdown",
   "metadata": {},
   "source": [
    "### XGBoost"
   ]
  },
  {
   "cell_type": "code",
   "execution_count": 173,
   "metadata": {},
   "outputs": [],
   "source": [
    "xg_train = xgb.DMatrix(X_near, label=y_near)\n",
    "xg_test = xgb.DMatrix(validation_data_processed, label=validation_y)"
   ]
  },
  {
   "cell_type": "code",
   "execution_count": 174,
   "metadata": {},
   "outputs": [],
   "source": [
    "param = {}"
   ]
  },
  {
   "cell_type": "code",
   "execution_count": 175,
   "metadata": {},
   "outputs": [],
   "source": [
    "# use softmax multi-class classification\n",
    "param['objective'] = 'multi:softmax'\n",
    "# scale weight of positive examples\n",
    "param['eta'] = 0.15\n",
    "param['max_depth'] = 14\n",
    "param['nthread'] = -1\n",
    "param['num_class'] = 3\n",
    "param['max_delta_step'] = 1\n",
    "#param['eval_metric'] = 'merror'\n",
    "#param['scale_pos_weight'] = 0.5\n",
    "#param['num_parallel_tree'] = 50"
   ]
  },
  {
   "cell_type": "code",
   "execution_count": 176,
   "metadata": {},
   "outputs": [],
   "source": [
    "watchlist = [(xg_train, 'train'), (xg_test, 'test')]"
   ]
  },
  {
   "cell_type": "code",
   "execution_count": 177,
   "metadata": {},
   "outputs": [],
   "source": [
    "num_round = 100"
   ]
  },
  {
   "cell_type": "code",
   "execution_count": 178,
   "metadata": {},
   "outputs": [
    {
     "name": "stdout",
     "output_type": "stream",
     "text": [
      "[01:15:06] WARNING: /Users/travis/build/dmlc/xgboost/src/learner.cc:1061: Starting in XGBoost 1.3.0, the default evaluation metric used with the objective 'multi:softmax' was changed from 'merror' to 'mlogloss'. Explicitly set eval_metric if you'd like to restore the old behavior.\n",
      "[0]\ttrain-mlogloss:1.01997\ttest-mlogloss:1.08259\n",
      "[0]\ttrain-mlogloss:1.01997\ttest-mlogloss:1.08259\n",
      "[1]\ttrain-mlogloss:0.94944\ttest-mlogloss:1.07009\n",
      "[1]\ttrain-mlogloss:0.94944\ttest-mlogloss:1.07009\n",
      "[2]\ttrain-mlogloss:0.88688\ttest-mlogloss:1.06080\n",
      "[2]\ttrain-mlogloss:0.88688\ttest-mlogloss:1.06080\n",
      "[3]\ttrain-mlogloss:0.83028\ttest-mlogloss:1.05369\n",
      "[3]\ttrain-mlogloss:0.83028\ttest-mlogloss:1.05369\n",
      "[4]\ttrain-mlogloss:0.78164\ttest-mlogloss:1.04876\n",
      "[4]\ttrain-mlogloss:0.78164\ttest-mlogloss:1.04876\n",
      "[5]\ttrain-mlogloss:0.73702\ttest-mlogloss:1.04566\n",
      "[5]\ttrain-mlogloss:0.73702\ttest-mlogloss:1.04566\n",
      "[6]\ttrain-mlogloss:0.69635\ttest-mlogloss:1.04199\n",
      "[6]\ttrain-mlogloss:0.69635\ttest-mlogloss:1.04199\n",
      "[7]\ttrain-mlogloss:0.65991\ttest-mlogloss:1.03919\n",
      "[7]\ttrain-mlogloss:0.65991\ttest-mlogloss:1.03919\n",
      "[8]\ttrain-mlogloss:0.62499\ttest-mlogloss:1.03894\n",
      "[8]\ttrain-mlogloss:0.62499\ttest-mlogloss:1.03894\n",
      "[9]\ttrain-mlogloss:0.59734\ttest-mlogloss:1.03891\n",
      "[9]\ttrain-mlogloss:0.59734\ttest-mlogloss:1.03891\n",
      "[10]\ttrain-mlogloss:0.56724\ttest-mlogloss:1.03883\n",
      "[10]\ttrain-mlogloss:0.56724\ttest-mlogloss:1.03883\n",
      "[11]\ttrain-mlogloss:0.54221\ttest-mlogloss:1.03817\n",
      "[11]\ttrain-mlogloss:0.54221\ttest-mlogloss:1.03817\n",
      "[12]\ttrain-mlogloss:0.51777\ttest-mlogloss:1.03934\n",
      "[12]\ttrain-mlogloss:0.51777\ttest-mlogloss:1.03934\n",
      "[13]\ttrain-mlogloss:0.49611\ttest-mlogloss:1.04004\n",
      "[13]\ttrain-mlogloss:0.49611\ttest-mlogloss:1.04004\n",
      "[14]\ttrain-mlogloss:0.47481\ttest-mlogloss:1.03981\n"
     ]
    }
   ],
   "source": [
    "bst = xgb.train(param, xg_train, num_round, watchlist, \n",
    "                callbacks=[xgb.callback.EvaluationMonitor(show_stdv=False),xgb.callback.EarlyStopping(3)])"
   ]
  },
  {
   "cell_type": "code",
   "execution_count": 179,
   "metadata": {},
   "outputs": [],
   "source": [
    "y_pred = bst.predict(xg_test)"
   ]
  },
  {
   "cell_type": "code",
   "execution_count": 180,
   "metadata": {},
   "outputs": [
    {
     "name": "stdout",
     "output_type": "stream",
     "text": [
      "              precision    recall  f1-score   support\n",
      "\n",
      "           0       0.28      0.23      0.25       741\n",
      "           1       0.59      0.67      0.63      1610\n",
      "           2       0.17      0.12      0.14       398\n",
      "\n",
      "    accuracy                           0.47      2749\n",
      "   macro avg       0.34      0.34      0.34      2749\n",
      "weighted avg       0.44      0.47      0.45      2749\n",
      "\n"
     ]
    }
   ],
   "source": [
    "print(classification_report(validation_y, y_pred))"
   ]
  },
  {
   "cell_type": "code",
   "execution_count": 154,
   "metadata": {},
   "outputs": [
    {
     "name": "stdout",
     "output_type": "stream",
     "text": [
      "Test error using softmax = 0.42306293197526373\n"
     ]
    }
   ],
   "source": [
    "error_rate = np.sum(y_pred != validation_y) / validation_y.shape[0]\n",
    "print('Test error using softmax = {}'.format(error_rate))"
   ]
  },
  {
   "cell_type": "code",
   "execution_count": null,
   "metadata": {},
   "outputs": [],
   "source": [
    "bst_cv= xgb.cv(param, xg_train, num_round, nfold=5,\n",
    "       metrics={'auc'}, seed=0,\n",
    "       callbacks=[xgb.callback.EvaluationMonitor(show_stdv=False),\n",
    "                  xgb.callback.EarlyStopping(3)])"
   ]
  },
  {
   "cell_type": "code",
   "execution_count": null,
   "metadata": {},
   "outputs": [],
   "source": [
    "bst_cv.head()"
   ]
  },
  {
   "cell_type": "markdown",
   "metadata": {},
   "source": [
    "### XGBoost with RFE"
   ]
  },
  {
   "cell_type": "code",
   "execution_count": 163,
   "metadata": {},
   "outputs": [],
   "source": [
    "from sklearn.feature_selection import RFE"
   ]
  },
  {
   "cell_type": "code",
   "execution_count": 164,
   "metadata": {},
   "outputs": [],
   "source": [
    "model = RandomForestClassifier() #insert the model you fitted\n",
    "rfe = RFE(model, n_features_to_select = 15)\n",
    "model = rfe.fit(X_near , y_near)"
   ]
  },
  {
   "cell_type": "code",
   "execution_count": 165,
   "metadata": {},
   "outputs": [],
   "source": [
    "y_pred_rfe = model.predict(validation_data_processed)"
   ]
  },
  {
   "cell_type": "code",
   "execution_count": 166,
   "metadata": {},
   "outputs": [
    {
     "name": "stdout",
     "output_type": "stream",
     "text": [
      "              precision    recall  f1-score   support\n",
      "\n",
      "           0       0.30      0.11      0.17       741\n",
      "           1       0.58      0.88      0.70      1610\n",
      "           2       0.08      0.01      0.02       398\n",
      "\n",
      "    accuracy                           0.55      2749\n",
      "   macro avg       0.32      0.33      0.30      2749\n",
      "weighted avg       0.44      0.55      0.46      2749\n",
      "\n"
     ]
    }
   ],
   "source": [
    "print(classification_report(validation_y, y_pred_rfe))"
   ]
  },
  {
   "cell_type": "code",
   "execution_count": null,
   "metadata": {},
   "outputs": [],
   "source": []
  },
  {
   "cell_type": "code",
   "execution_count": null,
   "metadata": {},
   "outputs": [],
   "source": []
  },
  {
   "cell_type": "code",
   "execution_count": 155,
   "metadata": {},
   "outputs": [],
   "source": [
    "xg_to_predict = xgb.DMatrix(test_data_processed)"
   ]
  },
  {
   "cell_type": "code",
   "execution_count": 167,
   "metadata": {},
   "outputs": [],
   "source": [
    "y_pred_test = model.predict(test_data_processed)"
   ]
  },
  {
   "cell_type": "code",
   "execution_count": 168,
   "metadata": {},
   "outputs": [
    {
     "name": "stdout",
     "output_type": "stream",
     "text": [
      "[1 1 0 ... 1 1 1]\n"
     ]
    }
   ],
   "source": [
    "print(y_pred_test)"
   ]
  },
  {
   "cell_type": "code",
   "execution_count": 169,
   "metadata": {},
   "outputs": [
    {
     "data": {
      "text/plain": [
       "numpy.ndarray"
      ]
     },
     "execution_count": 169,
     "metadata": {},
     "output_type": "execute_result"
    }
   ],
   "source": [
    "type(y_pred_test)"
   ]
  },
  {
   "cell_type": "code",
   "execution_count": 170,
   "metadata": {},
   "outputs": [],
   "source": [
    "dataset = pd.DataFrame({'Reservation_Status': y_pred_test})"
   ]
  },
  {
   "cell_type": "code",
   "execution_count": 171,
   "metadata": {},
   "outputs": [
    {
     "data": {
      "text/html": [
       "<div>\n",
       "<style scoped>\n",
       "    .dataframe tbody tr th:only-of-type {\n",
       "        vertical-align: middle;\n",
       "    }\n",
       "\n",
       "    .dataframe tbody tr th {\n",
       "        vertical-align: top;\n",
       "    }\n",
       "\n",
       "    .dataframe thead th {\n",
       "        text-align: right;\n",
       "    }\n",
       "</style>\n",
       "<table border=\"1\" class=\"dataframe\">\n",
       "  <thead>\n",
       "    <tr style=\"text-align: right;\">\n",
       "      <th></th>\n",
       "      <th>Reservation_Status</th>\n",
       "    </tr>\n",
       "  </thead>\n",
       "  <tbody>\n",
       "    <tr>\n",
       "      <th>0</th>\n",
       "      <td>1</td>\n",
       "    </tr>\n",
       "    <tr>\n",
       "      <th>1</th>\n",
       "      <td>1</td>\n",
       "    </tr>\n",
       "    <tr>\n",
       "      <th>2</th>\n",
       "      <td>0</td>\n",
       "    </tr>\n",
       "    <tr>\n",
       "      <th>3</th>\n",
       "      <td>0</td>\n",
       "    </tr>\n",
       "    <tr>\n",
       "      <th>4</th>\n",
       "      <td>1</td>\n",
       "    </tr>\n",
       "  </tbody>\n",
       "</table>\n",
       "</div>"
      ],
      "text/plain": [
       "   Reservation_Status\n",
       "0                   1\n",
       "1                   1\n",
       "2                   0\n",
       "3                   0\n",
       "4                   1"
      ]
     },
     "execution_count": 171,
     "metadata": {},
     "output_type": "execute_result"
    }
   ],
   "source": [
    "dataset.head()"
   ]
  },
  {
   "cell_type": "code",
   "execution_count": 172,
   "metadata": {},
   "outputs": [],
   "source": [
    "dataset.to_csv('predictions_rfe.csv')"
   ]
  },
  {
   "cell_type": "code",
   "execution_count": null,
   "metadata": {},
   "outputs": [],
   "source": []
  }
 ],
 "metadata": {
  "kernelspec": {
   "display_name": "Python 3",
   "language": "python",
   "name": "python3"
  },
  "language_info": {
   "codemirror_mode": {
    "name": "ipython",
    "version": 3
   },
   "file_extension": ".py",
   "mimetype": "text/x-python",
   "name": "python",
   "nbconvert_exporter": "python",
   "pygments_lexer": "ipython3",
   "version": "3.8.3"
  }
 },
 "nbformat": 4,
 "nbformat_minor": 5
}

{
 "cells": [
  {
   "cell_type": "markdown",
   "id": "spoken-amazon",
   "metadata": {},
   "source": [
    "### Importing the needed libraries"
   ]
  },
  {
   "cell_type": "code",
   "execution_count": 3,
   "id": "timely-patient",
   "metadata": {},
   "outputs": [],
   "source": [
    "import pandas as pd\n",
    "import numpy as np\n",
    "import matplotlib.pyplot as plt\n",
    "%matplotlib inline\n",
    "import seaborn as sns\n",
    "from sklearn.model_selection import train_test_split\n",
    "from sklearn.metrics import accuracy_score\n",
    "from sklearn.metrics import confusion_matrix\n",
    "from sklearn.model_selection import cross_val_score\n",
    "from sklearn.preprocessing import OneHotEncoder\n",
    "from sklearn.pipeline import Pipeline\n",
    "from sklearn import preprocessing\n",
    "from sklearn.compose import ColumnTransformer\n",
    "from sklearn.preprocessing import StandardScaler #you can use minmax scaler too\n",
    "from sklearn.model_selection import cross_val_score\n",
    "from sklearn.model_selection import GridSearchCV\n",
    "from sklearn.ensemble import RandomForestClassifier\n",
    "import xgboost as xgb\n",
    "from imblearn.ensemble import BalancedBaggingClassifier\n",
    "#Import other necessary model libraries, for this example, using Logistic Regression"
   ]
  },
  {
   "cell_type": "markdown",
   "id": "objective-material",
   "metadata": {},
   "source": [
    "### Importing the dataset"
   ]
  },
  {
   "cell_type": "code",
   "execution_count": 4,
   "id": "developing-circumstances",
   "metadata": {},
   "outputs": [],
   "source": [
    "train_data = pd.read_csv(r\"../Data/Preprocessed-Datasets/train-data-encoded.csv\", header = 0)\n",
    "test_data = pd.read_csv(r\"../Data/Preprocessed-Datasets/test-data-encoded.csv\", header = 0)\n",
    "validation_data = pd.read_csv(r\"../Data/Preprocessed-Datasets/validation-data-encoded.csv\", header = 0)"
   ]
  },
  {
   "cell_type": "code",
   "execution_count": 5,
   "id": "sitting-yacht",
   "metadata": {},
   "outputs": [],
   "source": [
    "train_data=train_data.drop(['Reservation-id'], axis = 1)\n",
    "validation_data=validation_data.drop(['Reservation-id'], axis = 1)\n",
    "test_data=test_data.drop(['Reservation-id'], axis = 1)"
   ]
  },
  {
   "cell_type": "code",
   "execution_count": 6,
   "id": "fleet-minute",
   "metadata": {},
   "outputs": [
    {
     "data": {
      "text/html": [
       "<div>\n",
       "<style scoped>\n",
       "    .dataframe tbody tr th:only-of-type {\n",
       "        vertical-align: middle;\n",
       "    }\n",
       "\n",
       "    .dataframe tbody tr th {\n",
       "        vertical-align: top;\n",
       "    }\n",
       "\n",
       "    .dataframe thead th {\n",
       "        text-align: right;\n",
       "    }\n",
       "</style>\n",
       "<table border=\"1\" class=\"dataframe\">\n",
       "  <thead>\n",
       "    <tr style=\"text-align: right;\">\n",
       "      <th></th>\n",
       "      <th>Age</th>\n",
       "      <th>Adults</th>\n",
       "      <th>Children</th>\n",
       "      <th>Babies</th>\n",
       "      <th>Reservation_Status</th>\n",
       "      <th>Discount_Rate</th>\n",
       "      <th>Room_Rate</th>\n",
       "      <th>Expected_stay_days</th>\n",
       "      <th>Reservation_gap</th>\n",
       "      <th>Gender_F</th>\n",
       "      <th>...</th>\n",
       "      <th>Deposit_type_No Deposit</th>\n",
       "      <th>Deposit_type_Non-Refundable</th>\n",
       "      <th>Deposit_type_Refundable</th>\n",
       "      <th>Booking_channel_Agent</th>\n",
       "      <th>Booking_channel_Direct</th>\n",
       "      <th>Booking_channel_Online</th>\n",
       "      <th>Required_Car_Parking_No</th>\n",
       "      <th>Required_Car_Parking_Yes</th>\n",
       "      <th>Use_Promotion_No</th>\n",
       "      <th>Use_Promotion_Yes</th>\n",
       "    </tr>\n",
       "  </thead>\n",
       "  <tbody>\n",
       "    <tr>\n",
       "      <th>0</th>\n",
       "      <td>56</td>\n",
       "      <td>2</td>\n",
       "      <td>2</td>\n",
       "      <td>0</td>\n",
       "      <td>No-Show</td>\n",
       "      <td>15</td>\n",
       "      <td>192</td>\n",
       "      <td>2</td>\n",
       "      <td>195</td>\n",
       "      <td>0</td>\n",
       "      <td>...</td>\n",
       "      <td>1</td>\n",
       "      <td>0</td>\n",
       "      <td>0</td>\n",
       "      <td>1</td>\n",
       "      <td>0</td>\n",
       "      <td>0</td>\n",
       "      <td>1</td>\n",
       "      <td>0</td>\n",
       "      <td>0</td>\n",
       "      <td>1</td>\n",
       "    </tr>\n",
       "    <tr>\n",
       "      <th>1</th>\n",
       "      <td>60</td>\n",
       "      <td>2</td>\n",
       "      <td>2</td>\n",
       "      <td>0</td>\n",
       "      <td>Canceled</td>\n",
       "      <td>0</td>\n",
       "      <td>187</td>\n",
       "      <td>4</td>\n",
       "      <td>175</td>\n",
       "      <td>0</td>\n",
       "      <td>...</td>\n",
       "      <td>1</td>\n",
       "      <td>0</td>\n",
       "      <td>0</td>\n",
       "      <td>0</td>\n",
       "      <td>0</td>\n",
       "      <td>1</td>\n",
       "      <td>0</td>\n",
       "      <td>1</td>\n",
       "      <td>1</td>\n",
       "      <td>0</td>\n",
       "    </tr>\n",
       "    <tr>\n",
       "      <th>2</th>\n",
       "      <td>58</td>\n",
       "      <td>3</td>\n",
       "      <td>1</td>\n",
       "      <td>0</td>\n",
       "      <td>Canceled</td>\n",
       "      <td>10</td>\n",
       "      <td>227</td>\n",
       "      <td>1</td>\n",
       "      <td>193</td>\n",
       "      <td>1</td>\n",
       "      <td>...</td>\n",
       "      <td>1</td>\n",
       "      <td>0</td>\n",
       "      <td>0</td>\n",
       "      <td>0</td>\n",
       "      <td>1</td>\n",
       "      <td>0</td>\n",
       "      <td>1</td>\n",
       "      <td>0</td>\n",
       "      <td>0</td>\n",
       "      <td>1</td>\n",
       "    </tr>\n",
       "    <tr>\n",
       "      <th>3</th>\n",
       "      <td>23</td>\n",
       "      <td>1</td>\n",
       "      <td>2</td>\n",
       "      <td>0</td>\n",
       "      <td>Check-In</td>\n",
       "      <td>25</td>\n",
       "      <td>189</td>\n",
       "      <td>2</td>\n",
       "      <td>103</td>\n",
       "      <td>1</td>\n",
       "      <td>...</td>\n",
       "      <td>0</td>\n",
       "      <td>0</td>\n",
       "      <td>1</td>\n",
       "      <td>0</td>\n",
       "      <td>1</td>\n",
       "      <td>0</td>\n",
       "      <td>1</td>\n",
       "      <td>0</td>\n",
       "      <td>0</td>\n",
       "      <td>1</td>\n",
       "    </tr>\n",
       "    <tr>\n",
       "      <th>4</th>\n",
       "      <td>47</td>\n",
       "      <td>1</td>\n",
       "      <td>1</td>\n",
       "      <td>0</td>\n",
       "      <td>Check-In</td>\n",
       "      <td>10</td>\n",
       "      <td>218</td>\n",
       "      <td>1</td>\n",
       "      <td>92</td>\n",
       "      <td>1</td>\n",
       "      <td>...</td>\n",
       "      <td>1</td>\n",
       "      <td>0</td>\n",
       "      <td>0</td>\n",
       "      <td>0</td>\n",
       "      <td>0</td>\n",
       "      <td>1</td>\n",
       "      <td>0</td>\n",
       "      <td>1</td>\n",
       "      <td>0</td>\n",
       "      <td>1</td>\n",
       "    </tr>\n",
       "  </tbody>\n",
       "</table>\n",
       "<p>5 rows × 47 columns</p>\n",
       "</div>"
      ],
      "text/plain": [
       "   Age  Adults  Children  Babies Reservation_Status  Discount_Rate  Room_Rate  \\\n",
       "0   56       2         2       0            No-Show             15        192   \n",
       "1   60       2         2       0           Canceled              0        187   \n",
       "2   58       3         1       0           Canceled             10        227   \n",
       "3   23       1         2       0           Check-In             25        189   \n",
       "4   47       1         1       0           Check-In             10        218   \n",
       "\n",
       "   Expected_stay_days  Reservation_gap  Gender_F  ...  \\\n",
       "0                   2              195         0  ...   \n",
       "1                   4              175         0  ...   \n",
       "2                   1              193         1  ...   \n",
       "3                   2              103         1  ...   \n",
       "4                   1               92         1  ...   \n",
       "\n",
       "   Deposit_type_No Deposit  Deposit_type_Non-Refundable  \\\n",
       "0                        1                            0   \n",
       "1                        1                            0   \n",
       "2                        1                            0   \n",
       "3                        0                            0   \n",
       "4                        1                            0   \n",
       "\n",
       "   Deposit_type_Refundable  Booking_channel_Agent  Booking_channel_Direct  \\\n",
       "0                        0                      1                       0   \n",
       "1                        0                      0                       0   \n",
       "2                        0                      0                       1   \n",
       "3                        1                      0                       1   \n",
       "4                        0                      0                       0   \n",
       "\n",
       "   Booking_channel_Online  Required_Car_Parking_No  Required_Car_Parking_Yes  \\\n",
       "0                       0                        1                         0   \n",
       "1                       1                        0                         1   \n",
       "2                       0                        1                         0   \n",
       "3                       0                        1                         0   \n",
       "4                       1                        0                         1   \n",
       "\n",
       "   Use_Promotion_No  Use_Promotion_Yes  \n",
       "0                 0                  1  \n",
       "1                 1                  0  \n",
       "2                 0                  1  \n",
       "3                 0                  1  \n",
       "4                 0                  1  \n",
       "\n",
       "[5 rows x 47 columns]"
      ]
     },
     "execution_count": 6,
     "metadata": {},
     "output_type": "execute_result"
    }
   ],
   "source": [
    "validation_data.head()"
   ]
  },
  {
   "cell_type": "code",
   "execution_count": 7,
   "id": "contained-constitution",
   "metadata": {},
   "outputs": [
    {
     "data": {
      "text/html": [
       "<div>\n",
       "<style scoped>\n",
       "    .dataframe tbody tr th:only-of-type {\n",
       "        vertical-align: middle;\n",
       "    }\n",
       "\n",
       "    .dataframe tbody tr th {\n",
       "        vertical-align: top;\n",
       "    }\n",
       "\n",
       "    .dataframe thead th {\n",
       "        text-align: right;\n",
       "    }\n",
       "</style>\n",
       "<table border=\"1\" class=\"dataframe\">\n",
       "  <thead>\n",
       "    <tr style=\"text-align: right;\">\n",
       "      <th></th>\n",
       "      <th>Age</th>\n",
       "      <th>Adults</th>\n",
       "      <th>Children</th>\n",
       "      <th>Babies</th>\n",
       "      <th>Reservation_Status</th>\n",
       "      <th>Discount_Rate</th>\n",
       "      <th>Room_Rate</th>\n",
       "      <th>Expected_stay_days</th>\n",
       "      <th>Reservation_gap</th>\n",
       "      <th>Gender_F</th>\n",
       "      <th>...</th>\n",
       "      <th>Deposit_type_No Deposit</th>\n",
       "      <th>Deposit_type_Non-Refundable</th>\n",
       "      <th>Deposit_type_Refundable</th>\n",
       "      <th>Booking_channel_Agent</th>\n",
       "      <th>Booking_channel_Direct</th>\n",
       "      <th>Booking_channel_Online</th>\n",
       "      <th>Required_Car_Parking_No</th>\n",
       "      <th>Required_Car_Parking_Yes</th>\n",
       "      <th>Use_Promotion_No</th>\n",
       "      <th>Use_Promotion_Yes</th>\n",
       "    </tr>\n",
       "  </thead>\n",
       "  <tbody>\n",
       "    <tr>\n",
       "      <th>0</th>\n",
       "      <td>56</td>\n",
       "      <td>2</td>\n",
       "      <td>2</td>\n",
       "      <td>0</td>\n",
       "      <td>No-Show</td>\n",
       "      <td>15</td>\n",
       "      <td>192</td>\n",
       "      <td>2</td>\n",
       "      <td>195</td>\n",
       "      <td>0</td>\n",
       "      <td>...</td>\n",
       "      <td>1</td>\n",
       "      <td>0</td>\n",
       "      <td>0</td>\n",
       "      <td>1</td>\n",
       "      <td>0</td>\n",
       "      <td>0</td>\n",
       "      <td>1</td>\n",
       "      <td>0</td>\n",
       "      <td>0</td>\n",
       "      <td>1</td>\n",
       "    </tr>\n",
       "    <tr>\n",
       "      <th>1</th>\n",
       "      <td>60</td>\n",
       "      <td>2</td>\n",
       "      <td>2</td>\n",
       "      <td>0</td>\n",
       "      <td>Canceled</td>\n",
       "      <td>0</td>\n",
       "      <td>187</td>\n",
       "      <td>4</td>\n",
       "      <td>175</td>\n",
       "      <td>0</td>\n",
       "      <td>...</td>\n",
       "      <td>1</td>\n",
       "      <td>0</td>\n",
       "      <td>0</td>\n",
       "      <td>0</td>\n",
       "      <td>0</td>\n",
       "      <td>1</td>\n",
       "      <td>0</td>\n",
       "      <td>1</td>\n",
       "      <td>1</td>\n",
       "      <td>0</td>\n",
       "    </tr>\n",
       "    <tr>\n",
       "      <th>2</th>\n",
       "      <td>58</td>\n",
       "      <td>3</td>\n",
       "      <td>1</td>\n",
       "      <td>0</td>\n",
       "      <td>Canceled</td>\n",
       "      <td>10</td>\n",
       "      <td>227</td>\n",
       "      <td>1</td>\n",
       "      <td>193</td>\n",
       "      <td>1</td>\n",
       "      <td>...</td>\n",
       "      <td>1</td>\n",
       "      <td>0</td>\n",
       "      <td>0</td>\n",
       "      <td>0</td>\n",
       "      <td>1</td>\n",
       "      <td>0</td>\n",
       "      <td>1</td>\n",
       "      <td>0</td>\n",
       "      <td>0</td>\n",
       "      <td>1</td>\n",
       "    </tr>\n",
       "    <tr>\n",
       "      <th>3</th>\n",
       "      <td>23</td>\n",
       "      <td>1</td>\n",
       "      <td>2</td>\n",
       "      <td>0</td>\n",
       "      <td>Check-In</td>\n",
       "      <td>25</td>\n",
       "      <td>189</td>\n",
       "      <td>2</td>\n",
       "      <td>103</td>\n",
       "      <td>1</td>\n",
       "      <td>...</td>\n",
       "      <td>0</td>\n",
       "      <td>0</td>\n",
       "      <td>1</td>\n",
       "      <td>0</td>\n",
       "      <td>1</td>\n",
       "      <td>0</td>\n",
       "      <td>1</td>\n",
       "      <td>0</td>\n",
       "      <td>0</td>\n",
       "      <td>1</td>\n",
       "    </tr>\n",
       "    <tr>\n",
       "      <th>4</th>\n",
       "      <td>47</td>\n",
       "      <td>1</td>\n",
       "      <td>1</td>\n",
       "      <td>0</td>\n",
       "      <td>Check-In</td>\n",
       "      <td>10</td>\n",
       "      <td>218</td>\n",
       "      <td>1</td>\n",
       "      <td>92</td>\n",
       "      <td>1</td>\n",
       "      <td>...</td>\n",
       "      <td>1</td>\n",
       "      <td>0</td>\n",
       "      <td>0</td>\n",
       "      <td>0</td>\n",
       "      <td>0</td>\n",
       "      <td>1</td>\n",
       "      <td>0</td>\n",
       "      <td>1</td>\n",
       "      <td>0</td>\n",
       "      <td>1</td>\n",
       "    </tr>\n",
       "  </tbody>\n",
       "</table>\n",
       "<p>5 rows × 47 columns</p>\n",
       "</div>"
      ],
      "text/plain": [
       "   Age  Adults  Children  Babies Reservation_Status  Discount_Rate  Room_Rate  \\\n",
       "0   56       2         2       0            No-Show             15        192   \n",
       "1   60       2         2       0           Canceled              0        187   \n",
       "2   58       3         1       0           Canceled             10        227   \n",
       "3   23       1         2       0           Check-In             25        189   \n",
       "4   47       1         1       0           Check-In             10        218   \n",
       "\n",
       "   Expected_stay_days  Reservation_gap  Gender_F  ...  \\\n",
       "0                   2              195         0  ...   \n",
       "1                   4              175         0  ...   \n",
       "2                   1              193         1  ...   \n",
       "3                   2              103         1  ...   \n",
       "4                   1               92         1  ...   \n",
       "\n",
       "   Deposit_type_No Deposit  Deposit_type_Non-Refundable  \\\n",
       "0                        1                            0   \n",
       "1                        1                            0   \n",
       "2                        1                            0   \n",
       "3                        0                            0   \n",
       "4                        1                            0   \n",
       "\n",
       "   Deposit_type_Refundable  Booking_channel_Agent  Booking_channel_Direct  \\\n",
       "0                        0                      1                       0   \n",
       "1                        0                      0                       0   \n",
       "2                        0                      0                       1   \n",
       "3                        1                      0                       1   \n",
       "4                        0                      0                       0   \n",
       "\n",
       "   Booking_channel_Online  Required_Car_Parking_No  Required_Car_Parking_Yes  \\\n",
       "0                       0                        1                         0   \n",
       "1                       1                        0                         1   \n",
       "2                       0                        1                         0   \n",
       "3                       0                        1                         0   \n",
       "4                       1                        0                         1   \n",
       "\n",
       "   Use_Promotion_No  Use_Promotion_Yes  \n",
       "0                 0                  1  \n",
       "1                 1                  0  \n",
       "2                 0                  1  \n",
       "3                 0                  1  \n",
       "4                 0                  1  \n",
       "\n",
       "[5 rows x 47 columns]"
      ]
     },
     "execution_count": 7,
     "metadata": {},
     "output_type": "execute_result"
    }
   ],
   "source": [
    "validation_data.head()"
   ]
  },
  {
   "cell_type": "markdown",
   "id": "allied-death",
   "metadata": {},
   "source": [
    "### Seperating the columns of categorical and quantitative data"
   ]
  },
  {
   "cell_type": "code",
   "execution_count": 8,
   "id": "conceptual-fisher",
   "metadata": {},
   "outputs": [],
   "source": [
    "data_quan_cols = ['Age','Discount_Rate', 'Room_Rate','Expected_stay_days', \n",
    "                        'Reservation_gap', 'Adults', 'Children','Babies']"
   ]
  },
  {
   "cell_type": "code",
   "execution_count": 9,
   "id": "asian-gibson",
   "metadata": {},
   "outputs": [],
   "source": [
    "data_cat_cols = ['Gender', 'Ethnicity', 'Educational_Level', 'Income', 'Country_region',\n",
    "                 'Hotel_Type', 'Meal_Type', 'Visted_Previously',\n",
    "                 'Previous_Cancellations', 'Deposit_type', 'Booking_channel',\n",
    "                 'Required_Car_Parking', 'Use_Promotion']"
   ]
  },
  {
   "cell_type": "markdown",
   "id": "narrow-stranger",
   "metadata": {},
   "source": [
    "### Scaling the quantitative variables"
   ]
  },
  {
   "cell_type": "code",
   "execution_count": 10,
   "id": "compound-roulette",
   "metadata": {},
   "outputs": [],
   "source": [
    "train_data_quan = train_data[data_quan_cols]\n",
    "validation_data_quan = validation_data[data_quan_cols]\n",
    "test_data_quan = test_data[data_quan_cols]"
   ]
  },
  {
   "cell_type": "code",
   "execution_count": 11,
   "id": "executed-fortune",
   "metadata": {},
   "outputs": [],
   "source": [
    "sc = StandardScaler()"
   ]
  },
  {
   "cell_type": "code",
   "execution_count": 12,
   "id": "appropriate-vault",
   "metadata": {},
   "outputs": [],
   "source": [
    "train_data_quan_scaled = sc.fit_transform(train_data_quan)\n",
    "validation_data_quan_scaled = sc.transform(validation_data_quan)\n",
    "test_data_quan_scaled = sc.transform(test_data_quan)"
   ]
  },
  {
   "cell_type": "code",
   "execution_count": 13,
   "id": "cathedral-project",
   "metadata": {},
   "outputs": [
    {
     "data": {
      "text/plain": [
       "array([[-0.25991554, -0.22266812,  0.97691768, ..., -0.28353117,\n",
       "         0.35475481, -0.61317041],\n",
       "       [ 0.32820944, -1.11506055,  0.22480302, ...,  0.56644415,\n",
       "         1.73987514, -0.61317041],\n",
       "       [-0.1292211 , -1.11506055, -1.27942629, ...,  0.56644415,\n",
       "         1.73987514, -0.61317041],\n",
       "       ...,\n",
       "       [ 0.32820944, -0.66886434,  0.61225603, ..., -0.28353117,\n",
       "        -1.03036552,  1.13107011],\n",
       "       [ 1.37376495,  0.66972431, -0.41335487, ...,  0.56644415,\n",
       "         0.35475481, -0.61317041],\n",
       "       [ 0.26286222, -1.11506055,  0.79458685, ...,  0.56644415,\n",
       "        -1.03036552, -0.61317041]])"
      ]
     },
     "execution_count": 13,
     "metadata": {},
     "output_type": "execute_result"
    }
   ],
   "source": [
    "train_data_quan_scaled"
   ]
  },
  {
   "cell_type": "code",
   "execution_count": 14,
   "id": "universal-edmonton",
   "metadata": {},
   "outputs": [
    {
     "data": {
      "text/plain": [
       "numpy.ndarray"
      ]
     },
     "execution_count": 14,
     "metadata": {},
     "output_type": "execute_result"
    }
   ],
   "source": [
    "type(train_data_quan_scaled)"
   ]
  },
  {
   "cell_type": "markdown",
   "id": "turned-reaction",
   "metadata": {},
   "source": [
    "### Separating the categorical variables"
   ]
  },
  {
   "cell_type": "code",
   "execution_count": 15,
   "id": "confused-action",
   "metadata": {},
   "outputs": [
    {
     "data": {
      "text/plain": [
       "['Age',\n",
       " 'Discount_Rate',\n",
       " 'Room_Rate',\n",
       " 'Expected_stay_days',\n",
       " 'Reservation_gap',\n",
       " 'Adults',\n",
       " 'Children',\n",
       " 'Babies',\n",
       " 'Reservation_Status']"
      ]
     },
     "execution_count": 15,
     "metadata": {},
     "output_type": "execute_result"
    }
   ],
   "source": [
    "cols_to_drop = data_quan_cols.copy()\n",
    "cols_to_drop.append(\"Reservation_Status\")\n",
    "cols_to_drop"
   ]
  },
  {
   "cell_type": "code",
   "execution_count": 16,
   "id": "protecting-labor",
   "metadata": {},
   "outputs": [
    {
     "name": "stdout",
     "output_type": "stream",
     "text": [
      "['Age', 'Discount_Rate', 'Room_Rate', 'Expected_stay_days', 'Reservation_gap', 'Adults', 'Children', 'Babies', 'Reservation_Status']\n"
     ]
    }
   ],
   "source": [
    "print(cols_to_drop)"
   ]
  },
  {
   "cell_type": "code",
   "execution_count": 17,
   "id": "treated-november",
   "metadata": {},
   "outputs": [
    {
     "data": {
      "text/html": [
       "<div>\n",
       "<style scoped>\n",
       "    .dataframe tbody tr th:only-of-type {\n",
       "        vertical-align: middle;\n",
       "    }\n",
       "\n",
       "    .dataframe tbody tr th {\n",
       "        vertical-align: top;\n",
       "    }\n",
       "\n",
       "    .dataframe thead th {\n",
       "        text-align: right;\n",
       "    }\n",
       "</style>\n",
       "<table border=\"1\" class=\"dataframe\">\n",
       "  <thead>\n",
       "    <tr style=\"text-align: right;\">\n",
       "      <th></th>\n",
       "      <th>Gender_F</th>\n",
       "      <th>Gender_M</th>\n",
       "      <th>Ethnicity_African American</th>\n",
       "      <th>Ethnicity_Asian American</th>\n",
       "      <th>Ethnicity_Latino</th>\n",
       "      <th>Ethnicity_caucasian</th>\n",
       "      <th>Educational_Level_College</th>\n",
       "      <th>Educational_Level_Grad</th>\n",
       "      <th>Educational_Level_High-School</th>\n",
       "      <th>Educational_Level_Mid-School</th>\n",
       "      <th>...</th>\n",
       "      <th>Deposit_type_No Deposit</th>\n",
       "      <th>Deposit_type_Non-Refundable</th>\n",
       "      <th>Deposit_type_Refundable</th>\n",
       "      <th>Booking_channel_Agent</th>\n",
       "      <th>Booking_channel_Direct</th>\n",
       "      <th>Booking_channel_Online</th>\n",
       "      <th>Required_Car_Parking_No</th>\n",
       "      <th>Required_Car_Parking_Yes</th>\n",
       "      <th>Use_Promotion_No</th>\n",
       "      <th>Use_Promotion_Yes</th>\n",
       "    </tr>\n",
       "  </thead>\n",
       "  <tbody>\n",
       "    <tr>\n",
       "      <th>0</th>\n",
       "      <td>1</td>\n",
       "      <td>0</td>\n",
       "      <td>0</td>\n",
       "      <td>0</td>\n",
       "      <td>1</td>\n",
       "      <td>0</td>\n",
       "      <td>0</td>\n",
       "      <td>1</td>\n",
       "      <td>0</td>\n",
       "      <td>0</td>\n",
       "      <td>...</td>\n",
       "      <td>1</td>\n",
       "      <td>0</td>\n",
       "      <td>0</td>\n",
       "      <td>0</td>\n",
       "      <td>0</td>\n",
       "      <td>1</td>\n",
       "      <td>0</td>\n",
       "      <td>1</td>\n",
       "      <td>0</td>\n",
       "      <td>1</td>\n",
       "    </tr>\n",
       "    <tr>\n",
       "      <th>1</th>\n",
       "      <td>1</td>\n",
       "      <td>0</td>\n",
       "      <td>0</td>\n",
       "      <td>0</td>\n",
       "      <td>1</td>\n",
       "      <td>0</td>\n",
       "      <td>0</td>\n",
       "      <td>0</td>\n",
       "      <td>0</td>\n",
       "      <td>1</td>\n",
       "      <td>...</td>\n",
       "      <td>0</td>\n",
       "      <td>0</td>\n",
       "      <td>1</td>\n",
       "      <td>0</td>\n",
       "      <td>0</td>\n",
       "      <td>1</td>\n",
       "      <td>0</td>\n",
       "      <td>1</td>\n",
       "      <td>1</td>\n",
       "      <td>0</td>\n",
       "    </tr>\n",
       "    <tr>\n",
       "      <th>2</th>\n",
       "      <td>1</td>\n",
       "      <td>0</td>\n",
       "      <td>0</td>\n",
       "      <td>0</td>\n",
       "      <td>0</td>\n",
       "      <td>1</td>\n",
       "      <td>0</td>\n",
       "      <td>1</td>\n",
       "      <td>0</td>\n",
       "      <td>0</td>\n",
       "      <td>...</td>\n",
       "      <td>1</td>\n",
       "      <td>0</td>\n",
       "      <td>0</td>\n",
       "      <td>0</td>\n",
       "      <td>0</td>\n",
       "      <td>1</td>\n",
       "      <td>0</td>\n",
       "      <td>1</td>\n",
       "      <td>1</td>\n",
       "      <td>0</td>\n",
       "    </tr>\n",
       "    <tr>\n",
       "      <th>3</th>\n",
       "      <td>0</td>\n",
       "      <td>1</td>\n",
       "      <td>1</td>\n",
       "      <td>0</td>\n",
       "      <td>0</td>\n",
       "      <td>0</td>\n",
       "      <td>1</td>\n",
       "      <td>0</td>\n",
       "      <td>0</td>\n",
       "      <td>0</td>\n",
       "      <td>...</td>\n",
       "      <td>0</td>\n",
       "      <td>0</td>\n",
       "      <td>1</td>\n",
       "      <td>1</td>\n",
       "      <td>0</td>\n",
       "      <td>0</td>\n",
       "      <td>0</td>\n",
       "      <td>1</td>\n",
       "      <td>0</td>\n",
       "      <td>1</td>\n",
       "    </tr>\n",
       "    <tr>\n",
       "      <th>4</th>\n",
       "      <td>1</td>\n",
       "      <td>0</td>\n",
       "      <td>0</td>\n",
       "      <td>0</td>\n",
       "      <td>1</td>\n",
       "      <td>0</td>\n",
       "      <td>0</td>\n",
       "      <td>0</td>\n",
       "      <td>1</td>\n",
       "      <td>0</td>\n",
       "      <td>...</td>\n",
       "      <td>1</td>\n",
       "      <td>0</td>\n",
       "      <td>0</td>\n",
       "      <td>0</td>\n",
       "      <td>1</td>\n",
       "      <td>0</td>\n",
       "      <td>1</td>\n",
       "      <td>0</td>\n",
       "      <td>0</td>\n",
       "      <td>1</td>\n",
       "    </tr>\n",
       "  </tbody>\n",
       "</table>\n",
       "<p>5 rows × 38 columns</p>\n",
       "</div>"
      ],
      "text/plain": [
       "   Gender_F  Gender_M  Ethnicity_African American  Ethnicity_Asian American  \\\n",
       "0         1         0                           0                         0   \n",
       "1         1         0                           0                         0   \n",
       "2         1         0                           0                         0   \n",
       "3         0         1                           1                         0   \n",
       "4         1         0                           0                         0   \n",
       "\n",
       "   Ethnicity_Latino  Ethnicity_caucasian  Educational_Level_College  \\\n",
       "0                 1                    0                          0   \n",
       "1                 1                    0                          0   \n",
       "2                 0                    1                          0   \n",
       "3                 0                    0                          1   \n",
       "4                 1                    0                          0   \n",
       "\n",
       "   Educational_Level_Grad  Educational_Level_High-School  \\\n",
       "0                       1                              0   \n",
       "1                       0                              0   \n",
       "2                       1                              0   \n",
       "3                       0                              0   \n",
       "4                       0                              1   \n",
       "\n",
       "   Educational_Level_Mid-School  ...  Deposit_type_No Deposit  \\\n",
       "0                             0  ...                        1   \n",
       "1                             1  ...                        0   \n",
       "2                             0  ...                        1   \n",
       "3                             0  ...                        0   \n",
       "4                             0  ...                        1   \n",
       "\n",
       "   Deposit_type_Non-Refundable  Deposit_type_Refundable  \\\n",
       "0                            0                        0   \n",
       "1                            0                        1   \n",
       "2                            0                        0   \n",
       "3                            0                        1   \n",
       "4                            0                        0   \n",
       "\n",
       "   Booking_channel_Agent  Booking_channel_Direct  Booking_channel_Online  \\\n",
       "0                      0                       0                       1   \n",
       "1                      0                       0                       1   \n",
       "2                      0                       0                       1   \n",
       "3                      1                       0                       0   \n",
       "4                      0                       1                       0   \n",
       "\n",
       "   Required_Car_Parking_No  Required_Car_Parking_Yes  Use_Promotion_No  \\\n",
       "0                        0                         1                 0   \n",
       "1                        0                         1                 1   \n",
       "2                        0                         1                 1   \n",
       "3                        0                         1                 0   \n",
       "4                        1                         0                 0   \n",
       "\n",
       "   Use_Promotion_Yes  \n",
       "0                  1  \n",
       "1                  0  \n",
       "2                  0  \n",
       "3                  1  \n",
       "4                  1  \n",
       "\n",
       "[5 rows x 38 columns]"
      ]
     },
     "execution_count": 17,
     "metadata": {},
     "output_type": "execute_result"
    }
   ],
   "source": [
    "train_data_cat = train_data.drop(cols_to_drop, axis=1)\n",
    "validation_data_cat = validation_data.drop(cols_to_drop, axis=1)\n",
    "test_data_cat = test_data.drop(data_quan_cols, axis=1)\n",
    "train_data_cat.head()"
   ]
  },
  {
   "cell_type": "code",
   "execution_count": 18,
   "id": "reverse-crime",
   "metadata": {},
   "outputs": [
    {
     "data": {
      "text/plain": [
       "(27499, 38)"
      ]
     },
     "execution_count": 18,
     "metadata": {},
     "output_type": "execute_result"
    }
   ],
   "source": [
    "train_data_cat_array = train_data_cat.to_numpy()\n",
    "validation_data_cat_array = validation_data_cat.to_numpy()\n",
    "test_data_cat_array = test_data_cat.to_numpy()\n",
    "train_data_cat_array.shape"
   ]
  },
  {
   "cell_type": "markdown",
   "id": "irish-packaging",
   "metadata": {},
   "source": [
    "### Joining the pre-processed data"
   ]
  },
  {
   "cell_type": "code",
   "execution_count": 19,
   "id": "aggregate-waste",
   "metadata": {},
   "outputs": [],
   "source": [
    "train_data_processed = np.concatenate((train_data_quan_scaled, train_data_cat_array), axis = 1)\n",
    "validation_data_processed = np.concatenate((validation_data_quan_scaled, validation_data_cat_array), axis = 1)\n",
    "test_data_processed = np.concatenate((test_data_quan_scaled, test_data_cat_array), axis = 1)"
   ]
  },
  {
   "cell_type": "code",
   "execution_count": 20,
   "id": "processed-savage",
   "metadata": {},
   "outputs": [
    {
     "data": {
      "text/plain": [
       "array([-0.25991554, -0.22266812,  0.97691768, -0.84878606, -0.88293639,\n",
       "       -0.28353117,  0.35475481, -0.61317041,  1.        ,  0.        ,\n",
       "        0.        ,  0.        ,  1.        ,  0.        ,  0.        ,\n",
       "        1.        ,  0.        ,  0.        ,  0.        ,  0.        ,\n",
       "        1.        ,  0.        ,  0.        ,  1.        ,  0.        ,\n",
       "        0.        ,  0.        ,  1.        ,  0.        ,  1.        ,\n",
       "        0.        ,  0.        ,  1.        ,  0.        ,  1.        ,\n",
       "        0.        ,  1.        ,  0.        ,  0.        ,  0.        ,\n",
       "        0.        ,  1.        ,  0.        ,  1.        ,  0.        ,\n",
       "        1.        ])"
      ]
     },
     "execution_count": 20,
     "metadata": {},
     "output_type": "execute_result"
    }
   ],
   "source": [
    "train_data_processed[0]"
   ]
  },
  {
   "cell_type": "code",
   "execution_count": 21,
   "id": "polish-attempt",
   "metadata": {},
   "outputs": [
    {
     "data": {
      "text/plain": [
       "(4318, 8)"
      ]
     },
     "execution_count": 21,
     "metadata": {},
     "output_type": "execute_result"
    }
   ],
   "source": [
    "test_data_quan_scaled.shape"
   ]
  },
  {
   "cell_type": "code",
   "execution_count": 22,
   "id": "indonesian-fetish",
   "metadata": {},
   "outputs": [
    {
     "data": {
      "text/plain": [
       "(4318, 38)"
      ]
     },
     "execution_count": 22,
     "metadata": {},
     "output_type": "execute_result"
    }
   ],
   "source": [
    "test_data_cat_array.shape"
   ]
  },
  {
   "cell_type": "code",
   "execution_count": 23,
   "id": "tough-allen",
   "metadata": {},
   "outputs": [
    {
     "data": {
      "text/plain": [
       "(2749, 46)"
      ]
     },
     "execution_count": 23,
     "metadata": {},
     "output_type": "execute_result"
    }
   ],
   "source": [
    "validation_data_processed.shape"
   ]
  },
  {
   "cell_type": "markdown",
   "id": "exempt-subdivision",
   "metadata": {},
   "source": [
    "### Encoding the labels"
   ]
  },
  {
   "cell_type": "code",
   "execution_count": 24,
   "id": "chronic-sucking",
   "metadata": {},
   "outputs": [],
   "source": [
    "train_y = train_data['Reservation_Status']\n",
    "validation_y = validation_data['Reservation_Status']"
   ]
  },
  {
   "cell_type": "code",
   "execution_count": 25,
   "id": "subjective-duncan",
   "metadata": {},
   "outputs": [],
   "source": [
    "le = preprocessing.LabelEncoder()"
   ]
  },
  {
   "cell_type": "code",
   "execution_count": 26,
   "id": "fuzzy-worth",
   "metadata": {},
   "outputs": [],
   "source": [
    "train_y = le.fit_transform(train_y)\n",
    "validation_y = le.transform(validation_y)"
   ]
  },
  {
   "cell_type": "code",
   "execution_count": 27,
   "id": "organized-particular",
   "metadata": {},
   "outputs": [
    {
     "data": {
      "text/plain": [
       "(2749,)"
      ]
     },
     "execution_count": 27,
     "metadata": {},
     "output_type": "execute_result"
    }
   ],
   "source": [
    "validation_y.shape"
   ]
  },
  {
   "cell_type": "code",
   "execution_count": 29,
   "id": "contrary-opera",
   "metadata": {},
   "outputs": [
    {
     "data": {
      "text/plain": [
       "array(['Canceled', 'Check-In', 'No-Show'], dtype=object)"
      ]
     },
     "execution_count": 29,
     "metadata": {},
     "output_type": "execute_result"
    }
   ],
   "source": [
    "le.classes_"
   ]
  },
  {
   "cell_type": "markdown",
   "id": "straight-flavor",
   "metadata": {},
   "source": [
    "### Coding..."
   ]
  },
  {
   "cell_type": "code",
   "execution_count": null,
   "id": "exotic-multimedia",
   "metadata": {},
   "outputs": [],
   "source": []
  }
 ],
 "metadata": {
  "kernelspec": {
   "display_name": "Python 3",
   "language": "python",
   "name": "python3"
  },
  "language_info": {
   "codemirror_mode": {
    "name": "ipython",
    "version": 3
   },
   "file_extension": ".py",
   "mimetype": "text/x-python",
   "name": "python",
   "nbconvert_exporter": "python",
   "pygments_lexer": "ipython3",
   "version": "3.7.10"
  }
 },
 "nbformat": 4,
 "nbformat_minor": 5
}

{
 "cells": [
  {
   "cell_type": "markdown",
   "metadata": {},
   "source": [
    "### Importing the needed libraries"
   ]
  },
  {
   "cell_type": "code",
   "execution_count": 115,
   "metadata": {},
   "outputs": [],
   "source": [
    "import pandas as pd\n",
    "import numpy as np\n",
    "import matplotlib.pyplot as plt\n",
    "%matplotlib inline\n",
    "import seaborn as sns\n",
    "from sklearn.model_selection import train_test_split\n",
    "import random\n",
    "from sklearn.metrics import accuracy_score\n",
    "from sklearn.metrics import confusion_matrix\n",
    "from sklearn.model_selection import cross_val_score\n",
    "from sklearn.preprocessing import OneHotEncoder\n",
    "from sklearn.pipeline import Pipeline\n",
    "from sklearn import preprocessing\n",
    "from sklearn.compose import ColumnTransformer\n",
    "from sklearn.preprocessing import StandardScaler #you can use minmax scaler too\n",
    "from sklearn.model_selection import cross_val_score\n",
    "from sklearn.model_selection import GridSearchCV\n",
    "from sklearn.model_selection import RandomizedSearchCV\n",
    "from sklearn.ensemble import RandomForestClassifier\n",
    "from sklearn.metrics import classification_report\n",
    "import xgboost as xgb\n",
    "from imblearn.ensemble import BalancedBaggingClassifier\n",
    "#Import other necessary model libraries, for this example, using Logistic Regression"
   ]
  },
  {
   "cell_type": "markdown",
   "metadata": {},
   "source": [
    "### Importing the dataset"
   ]
  },
  {
   "cell_type": "code",
   "execution_count": 116,
   "metadata": {},
   "outputs": [],
   "source": [
    "train_data = pd.read_csv(r\"../Data/Preprocessed-Datasets/train-data-encoded.csv\", header = 0)\n",
    "test_data = pd.read_csv(r\"../Data/Preprocessed-Datasets/test-data-encoded.csv\", header = 0)\n",
    "validation_data = pd.read_csv(r\"../Data/Preprocessed-Datasets/validation-data-encoded.csv\", header = 0)"
   ]
  },
  {
   "cell_type": "code",
   "execution_count": 117,
   "metadata": {},
   "outputs": [],
   "source": [
    "train_data=train_data.drop(['Reservation-id'], axis = 1)\n",
    "validation_data=validation_data.drop(['Reservation-id'], axis = 1)\n",
    "test_data_id = test_data['Reservation-id']\n",
    "test_data=test_data.drop(['Reservation-id'], axis = 1)"
   ]
  },
  {
   "cell_type": "code",
   "execution_count": 118,
   "metadata": {},
   "outputs": [],
   "source": [
    "train_data_ori = train_data\n",
    "validation_data_ori = validation_data\n",
    "test_data_ori = test_data"
   ]
  },
  {
   "cell_type": "code",
   "execution_count": 119,
   "metadata": {},
   "outputs": [
    {
     "data": {
      "text/html": [
       "<div>\n",
       "<style scoped>\n",
       "    .dataframe tbody tr th:only-of-type {\n",
       "        vertical-align: middle;\n",
       "    }\n",
       "\n",
       "    .dataframe tbody tr th {\n",
       "        vertical-align: top;\n",
       "    }\n",
       "\n",
       "    .dataframe thead th {\n",
       "        text-align: right;\n",
       "    }\n",
       "</style>\n",
       "<table border=\"1\" class=\"dataframe\">\n",
       "  <thead>\n",
       "    <tr style=\"text-align: right;\">\n",
       "      <th></th>\n",
       "      <th>Age</th>\n",
       "      <th>Adults</th>\n",
       "      <th>Children</th>\n",
       "      <th>Babies</th>\n",
       "      <th>Reservation_Status</th>\n",
       "      <th>Discount_Rate</th>\n",
       "      <th>Room_Rate</th>\n",
       "      <th>Expected_stay_days</th>\n",
       "      <th>Reservation_gap</th>\n",
       "      <th>Gender_F</th>\n",
       "      <th>...</th>\n",
       "      <th>Deposit_type_No Deposit</th>\n",
       "      <th>Deposit_type_Non-Refundable</th>\n",
       "      <th>Deposit_type_Refundable</th>\n",
       "      <th>Booking_channel_Agent</th>\n",
       "      <th>Booking_channel_Direct</th>\n",
       "      <th>Booking_channel_Online</th>\n",
       "      <th>Required_Car_Parking_No</th>\n",
       "      <th>Required_Car_Parking_Yes</th>\n",
       "      <th>Use_Promotion_No</th>\n",
       "      <th>Use_Promotion_Yes</th>\n",
       "    </tr>\n",
       "  </thead>\n",
       "  <tbody>\n",
       "    <tr>\n",
       "      <th>0</th>\n",
       "      <td>40</td>\n",
       "      <td>2</td>\n",
       "      <td>2</td>\n",
       "      <td>0</td>\n",
       "      <td>Check-In</td>\n",
       "      <td>10</td>\n",
       "      <td>218</td>\n",
       "      <td>1</td>\n",
       "      <td>41</td>\n",
       "      <td>1</td>\n",
       "      <td>...</td>\n",
       "      <td>1</td>\n",
       "      <td>0</td>\n",
       "      <td>0</td>\n",
       "      <td>0</td>\n",
       "      <td>0</td>\n",
       "      <td>1</td>\n",
       "      <td>0</td>\n",
       "      <td>1</td>\n",
       "      <td>0</td>\n",
       "      <td>1</td>\n",
       "    </tr>\n",
       "    <tr>\n",
       "      <th>1</th>\n",
       "      <td>49</td>\n",
       "      <td>3</td>\n",
       "      <td>3</td>\n",
       "      <td>0</td>\n",
       "      <td>Check-In</td>\n",
       "      <td>0</td>\n",
       "      <td>185</td>\n",
       "      <td>1</td>\n",
       "      <td>36</td>\n",
       "      <td>1</td>\n",
       "      <td>...</td>\n",
       "      <td>0</td>\n",
       "      <td>0</td>\n",
       "      <td>1</td>\n",
       "      <td>0</td>\n",
       "      <td>0</td>\n",
       "      <td>1</td>\n",
       "      <td>0</td>\n",
       "      <td>1</td>\n",
       "      <td>1</td>\n",
       "      <td>0</td>\n",
       "    </tr>\n",
       "    <tr>\n",
       "      <th>2</th>\n",
       "      <td>42</td>\n",
       "      <td>3</td>\n",
       "      <td>3</td>\n",
       "      <td>0</td>\n",
       "      <td>Check-In</td>\n",
       "      <td>0</td>\n",
       "      <td>119</td>\n",
       "      <td>4</td>\n",
       "      <td>3</td>\n",
       "      <td>1</td>\n",
       "      <td>...</td>\n",
       "      <td>1</td>\n",
       "      <td>0</td>\n",
       "      <td>0</td>\n",
       "      <td>0</td>\n",
       "      <td>0</td>\n",
       "      <td>1</td>\n",
       "      <td>0</td>\n",
       "      <td>1</td>\n",
       "      <td>1</td>\n",
       "      <td>0</td>\n",
       "    </tr>\n",
       "    <tr>\n",
       "      <th>3</th>\n",
       "      <td>25</td>\n",
       "      <td>4</td>\n",
       "      <td>3</td>\n",
       "      <td>0</td>\n",
       "      <td>Check-In</td>\n",
       "      <td>5</td>\n",
       "      <td>144</td>\n",
       "      <td>1</td>\n",
       "      <td>12</td>\n",
       "      <td>0</td>\n",
       "      <td>...</td>\n",
       "      <td>0</td>\n",
       "      <td>0</td>\n",
       "      <td>1</td>\n",
       "      <td>1</td>\n",
       "      <td>0</td>\n",
       "      <td>0</td>\n",
       "      <td>0</td>\n",
       "      <td>1</td>\n",
       "      <td>0</td>\n",
       "      <td>1</td>\n",
       "    </tr>\n",
       "    <tr>\n",
       "      <th>4</th>\n",
       "      <td>62</td>\n",
       "      <td>1</td>\n",
       "      <td>1</td>\n",
       "      <td>0</td>\n",
       "      <td>Check-In</td>\n",
       "      <td>10</td>\n",
       "      <td>242</td>\n",
       "      <td>1</td>\n",
       "      <td>13</td>\n",
       "      <td>1</td>\n",
       "      <td>...</td>\n",
       "      <td>1</td>\n",
       "      <td>0</td>\n",
       "      <td>0</td>\n",
       "      <td>0</td>\n",
       "      <td>1</td>\n",
       "      <td>0</td>\n",
       "      <td>1</td>\n",
       "      <td>0</td>\n",
       "      <td>0</td>\n",
       "      <td>1</td>\n",
       "    </tr>\n",
       "  </tbody>\n",
       "</table>\n",
       "<p>5 rows × 47 columns</p>\n",
       "</div>"
      ],
      "text/plain": [
       "   Age  Adults  Children  Babies Reservation_Status  Discount_Rate  Room_Rate  \\\n",
       "0   40       2         2       0           Check-In             10        218   \n",
       "1   49       3         3       0           Check-In              0        185   \n",
       "2   42       3         3       0           Check-In              0        119   \n",
       "3   25       4         3       0           Check-In              5        144   \n",
       "4   62       1         1       0           Check-In             10        242   \n",
       "\n",
       "   Expected_stay_days  Reservation_gap  Gender_F  ...  \\\n",
       "0                   1               41         1  ...   \n",
       "1                   1               36         1  ...   \n",
       "2                   4                3         1  ...   \n",
       "3                   1               12         0  ...   \n",
       "4                   1               13         1  ...   \n",
       "\n",
       "   Deposit_type_No Deposit  Deposit_type_Non-Refundable  \\\n",
       "0                        1                            0   \n",
       "1                        0                            0   \n",
       "2                        1                            0   \n",
       "3                        0                            0   \n",
       "4                        1                            0   \n",
       "\n",
       "   Deposit_type_Refundable  Booking_channel_Agent  Booking_channel_Direct  \\\n",
       "0                        0                      0                       0   \n",
       "1                        1                      0                       0   \n",
       "2                        0                      0                       0   \n",
       "3                        1                      1                       0   \n",
       "4                        0                      0                       1   \n",
       "\n",
       "   Booking_channel_Online  Required_Car_Parking_No  Required_Car_Parking_Yes  \\\n",
       "0                       1                        0                         1   \n",
       "1                       1                        0                         1   \n",
       "2                       1                        0                         1   \n",
       "3                       0                        0                         1   \n",
       "4                       0                        1                         0   \n",
       "\n",
       "   Use_Promotion_No  Use_Promotion_Yes  \n",
       "0                 0                  1  \n",
       "1                 1                  0  \n",
       "2                 1                  0  \n",
       "3                 0                  1  \n",
       "4                 0                  1  \n",
       "\n",
       "[5 rows x 47 columns]"
      ]
     },
     "execution_count": 119,
     "metadata": {},
     "output_type": "execute_result"
    }
   ],
   "source": [
    "train_data.head()"
   ]
  },
  {
   "cell_type": "code",
   "execution_count": 120,
   "metadata": {},
   "outputs": [
    {
     "data": {
      "text/html": [
       "<div>\n",
       "<style scoped>\n",
       "    .dataframe tbody tr th:only-of-type {\n",
       "        vertical-align: middle;\n",
       "    }\n",
       "\n",
       "    .dataframe tbody tr th {\n",
       "        vertical-align: top;\n",
       "    }\n",
       "\n",
       "    .dataframe thead th {\n",
       "        text-align: right;\n",
       "    }\n",
       "</style>\n",
       "<table border=\"1\" class=\"dataframe\">\n",
       "  <thead>\n",
       "    <tr style=\"text-align: right;\">\n",
       "      <th></th>\n",
       "      <th>Age</th>\n",
       "      <th>Adults</th>\n",
       "      <th>Children</th>\n",
       "      <th>Babies</th>\n",
       "      <th>Reservation_Status</th>\n",
       "      <th>Discount_Rate</th>\n",
       "      <th>Room_Rate</th>\n",
       "      <th>Expected_stay_days</th>\n",
       "      <th>Reservation_gap</th>\n",
       "      <th>Gender_F</th>\n",
       "      <th>...</th>\n",
       "      <th>Deposit_type_No Deposit</th>\n",
       "      <th>Deposit_type_Non-Refundable</th>\n",
       "      <th>Deposit_type_Refundable</th>\n",
       "      <th>Booking_channel_Agent</th>\n",
       "      <th>Booking_channel_Direct</th>\n",
       "      <th>Booking_channel_Online</th>\n",
       "      <th>Required_Car_Parking_No</th>\n",
       "      <th>Required_Car_Parking_Yes</th>\n",
       "      <th>Use_Promotion_No</th>\n",
       "      <th>Use_Promotion_Yes</th>\n",
       "    </tr>\n",
       "  </thead>\n",
       "  <tbody>\n",
       "    <tr>\n",
       "      <th>0</th>\n",
       "      <td>56</td>\n",
       "      <td>2</td>\n",
       "      <td>2</td>\n",
       "      <td>0</td>\n",
       "      <td>No-Show</td>\n",
       "      <td>15</td>\n",
       "      <td>192</td>\n",
       "      <td>2</td>\n",
       "      <td>195</td>\n",
       "      <td>0</td>\n",
       "      <td>...</td>\n",
       "      <td>1</td>\n",
       "      <td>0</td>\n",
       "      <td>0</td>\n",
       "      <td>1</td>\n",
       "      <td>0</td>\n",
       "      <td>0</td>\n",
       "      <td>1</td>\n",
       "      <td>0</td>\n",
       "      <td>0</td>\n",
       "      <td>1</td>\n",
       "    </tr>\n",
       "    <tr>\n",
       "      <th>1</th>\n",
       "      <td>60</td>\n",
       "      <td>2</td>\n",
       "      <td>2</td>\n",
       "      <td>0</td>\n",
       "      <td>Canceled</td>\n",
       "      <td>0</td>\n",
       "      <td>187</td>\n",
       "      <td>4</td>\n",
       "      <td>175</td>\n",
       "      <td>0</td>\n",
       "      <td>...</td>\n",
       "      <td>1</td>\n",
       "      <td>0</td>\n",
       "      <td>0</td>\n",
       "      <td>0</td>\n",
       "      <td>0</td>\n",
       "      <td>1</td>\n",
       "      <td>0</td>\n",
       "      <td>1</td>\n",
       "      <td>1</td>\n",
       "      <td>0</td>\n",
       "    </tr>\n",
       "    <tr>\n",
       "      <th>2</th>\n",
       "      <td>58</td>\n",
       "      <td>3</td>\n",
       "      <td>1</td>\n",
       "      <td>0</td>\n",
       "      <td>Canceled</td>\n",
       "      <td>10</td>\n",
       "      <td>227</td>\n",
       "      <td>1</td>\n",
       "      <td>193</td>\n",
       "      <td>1</td>\n",
       "      <td>...</td>\n",
       "      <td>1</td>\n",
       "      <td>0</td>\n",
       "      <td>0</td>\n",
       "      <td>0</td>\n",
       "      <td>1</td>\n",
       "      <td>0</td>\n",
       "      <td>1</td>\n",
       "      <td>0</td>\n",
       "      <td>0</td>\n",
       "      <td>1</td>\n",
       "    </tr>\n",
       "    <tr>\n",
       "      <th>3</th>\n",
       "      <td>23</td>\n",
       "      <td>1</td>\n",
       "      <td>2</td>\n",
       "      <td>0</td>\n",
       "      <td>Check-In</td>\n",
       "      <td>25</td>\n",
       "      <td>189</td>\n",
       "      <td>2</td>\n",
       "      <td>103</td>\n",
       "      <td>1</td>\n",
       "      <td>...</td>\n",
       "      <td>0</td>\n",
       "      <td>0</td>\n",
       "      <td>1</td>\n",
       "      <td>0</td>\n",
       "      <td>1</td>\n",
       "      <td>0</td>\n",
       "      <td>1</td>\n",
       "      <td>0</td>\n",
       "      <td>0</td>\n",
       "      <td>1</td>\n",
       "    </tr>\n",
       "    <tr>\n",
       "      <th>4</th>\n",
       "      <td>47</td>\n",
       "      <td>1</td>\n",
       "      <td>1</td>\n",
       "      <td>0</td>\n",
       "      <td>Check-In</td>\n",
       "      <td>10</td>\n",
       "      <td>218</td>\n",
       "      <td>1</td>\n",
       "      <td>92</td>\n",
       "      <td>1</td>\n",
       "      <td>...</td>\n",
       "      <td>1</td>\n",
       "      <td>0</td>\n",
       "      <td>0</td>\n",
       "      <td>0</td>\n",
       "      <td>0</td>\n",
       "      <td>1</td>\n",
       "      <td>0</td>\n",
       "      <td>1</td>\n",
       "      <td>0</td>\n",
       "      <td>1</td>\n",
       "    </tr>\n",
       "  </tbody>\n",
       "</table>\n",
       "<p>5 rows × 47 columns</p>\n",
       "</div>"
      ],
      "text/plain": [
       "   Age  Adults  Children  Babies Reservation_Status  Discount_Rate  Room_Rate  \\\n",
       "0   56       2         2       0            No-Show             15        192   \n",
       "1   60       2         2       0           Canceled              0        187   \n",
       "2   58       3         1       0           Canceled             10        227   \n",
       "3   23       1         2       0           Check-In             25        189   \n",
       "4   47       1         1       0           Check-In             10        218   \n",
       "\n",
       "   Expected_stay_days  Reservation_gap  Gender_F  ...  \\\n",
       "0                   2              195         0  ...   \n",
       "1                   4              175         0  ...   \n",
       "2                   1              193         1  ...   \n",
       "3                   2              103         1  ...   \n",
       "4                   1               92         1  ...   \n",
       "\n",
       "   Deposit_type_No Deposit  Deposit_type_Non-Refundable  \\\n",
       "0                        1                            0   \n",
       "1                        1                            0   \n",
       "2                        1                            0   \n",
       "3                        0                            0   \n",
       "4                        1                            0   \n",
       "\n",
       "   Deposit_type_Refundable  Booking_channel_Agent  Booking_channel_Direct  \\\n",
       "0                        0                      1                       0   \n",
       "1                        0                      0                       0   \n",
       "2                        0                      0                       1   \n",
       "3                        1                      0                       1   \n",
       "4                        0                      0                       0   \n",
       "\n",
       "   Booking_channel_Online  Required_Car_Parking_No  Required_Car_Parking_Yes  \\\n",
       "0                       0                        1                         0   \n",
       "1                       1                        0                         1   \n",
       "2                       0                        1                         0   \n",
       "3                       0                        1                         0   \n",
       "4                       1                        0                         1   \n",
       "\n",
       "   Use_Promotion_No  Use_Promotion_Yes  \n",
       "0                 0                  1  \n",
       "1                 1                  0  \n",
       "2                 0                  1  \n",
       "3                 0                  1  \n",
       "4                 0                  1  \n",
       "\n",
       "[5 rows x 47 columns]"
      ]
     },
     "execution_count": 120,
     "metadata": {},
     "output_type": "execute_result"
    }
   ],
   "source": [
    "validation_data.head()"
   ]
  },
  {
   "cell_type": "code",
   "execution_count": 121,
   "metadata": {},
   "outputs": [
    {
     "data": {
      "text/html": [
       "<div>\n",
       "<style scoped>\n",
       "    .dataframe tbody tr th:only-of-type {\n",
       "        vertical-align: middle;\n",
       "    }\n",
       "\n",
       "    .dataframe tbody tr th {\n",
       "        vertical-align: top;\n",
       "    }\n",
       "\n",
       "    .dataframe thead th {\n",
       "        text-align: right;\n",
       "    }\n",
       "</style>\n",
       "<table border=\"1\" class=\"dataframe\">\n",
       "  <thead>\n",
       "    <tr style=\"text-align: right;\">\n",
       "      <th></th>\n",
       "      <th>Age</th>\n",
       "      <th>Adults</th>\n",
       "      <th>Children</th>\n",
       "      <th>Babies</th>\n",
       "      <th>Reservation_Status</th>\n",
       "      <th>Discount_Rate</th>\n",
       "      <th>Room_Rate</th>\n",
       "      <th>Expected_stay_days</th>\n",
       "      <th>Reservation_gap</th>\n",
       "      <th>Gender_F</th>\n",
       "      <th>...</th>\n",
       "      <th>Deposit_type_No Deposit</th>\n",
       "      <th>Deposit_type_Non-Refundable</th>\n",
       "      <th>Deposit_type_Refundable</th>\n",
       "      <th>Booking_channel_Agent</th>\n",
       "      <th>Booking_channel_Direct</th>\n",
       "      <th>Booking_channel_Online</th>\n",
       "      <th>Required_Car_Parking_No</th>\n",
       "      <th>Required_Car_Parking_Yes</th>\n",
       "      <th>Use_Promotion_No</th>\n",
       "      <th>Use_Promotion_Yes</th>\n",
       "    </tr>\n",
       "  </thead>\n",
       "  <tbody>\n",
       "    <tr>\n",
       "      <th>0</th>\n",
       "      <td>56</td>\n",
       "      <td>2</td>\n",
       "      <td>2</td>\n",
       "      <td>0</td>\n",
       "      <td>No-Show</td>\n",
       "      <td>15</td>\n",
       "      <td>192</td>\n",
       "      <td>2</td>\n",
       "      <td>195</td>\n",
       "      <td>0</td>\n",
       "      <td>...</td>\n",
       "      <td>1</td>\n",
       "      <td>0</td>\n",
       "      <td>0</td>\n",
       "      <td>1</td>\n",
       "      <td>0</td>\n",
       "      <td>0</td>\n",
       "      <td>1</td>\n",
       "      <td>0</td>\n",
       "      <td>0</td>\n",
       "      <td>1</td>\n",
       "    </tr>\n",
       "    <tr>\n",
       "      <th>1</th>\n",
       "      <td>60</td>\n",
       "      <td>2</td>\n",
       "      <td>2</td>\n",
       "      <td>0</td>\n",
       "      <td>Canceled</td>\n",
       "      <td>0</td>\n",
       "      <td>187</td>\n",
       "      <td>4</td>\n",
       "      <td>175</td>\n",
       "      <td>0</td>\n",
       "      <td>...</td>\n",
       "      <td>1</td>\n",
       "      <td>0</td>\n",
       "      <td>0</td>\n",
       "      <td>0</td>\n",
       "      <td>0</td>\n",
       "      <td>1</td>\n",
       "      <td>0</td>\n",
       "      <td>1</td>\n",
       "      <td>1</td>\n",
       "      <td>0</td>\n",
       "    </tr>\n",
       "    <tr>\n",
       "      <th>2</th>\n",
       "      <td>58</td>\n",
       "      <td>3</td>\n",
       "      <td>1</td>\n",
       "      <td>0</td>\n",
       "      <td>Canceled</td>\n",
       "      <td>10</td>\n",
       "      <td>227</td>\n",
       "      <td>1</td>\n",
       "      <td>193</td>\n",
       "      <td>1</td>\n",
       "      <td>...</td>\n",
       "      <td>1</td>\n",
       "      <td>0</td>\n",
       "      <td>0</td>\n",
       "      <td>0</td>\n",
       "      <td>1</td>\n",
       "      <td>0</td>\n",
       "      <td>1</td>\n",
       "      <td>0</td>\n",
       "      <td>0</td>\n",
       "      <td>1</td>\n",
       "    </tr>\n",
       "    <tr>\n",
       "      <th>3</th>\n",
       "      <td>23</td>\n",
       "      <td>1</td>\n",
       "      <td>2</td>\n",
       "      <td>0</td>\n",
       "      <td>Check-In</td>\n",
       "      <td>25</td>\n",
       "      <td>189</td>\n",
       "      <td>2</td>\n",
       "      <td>103</td>\n",
       "      <td>1</td>\n",
       "      <td>...</td>\n",
       "      <td>0</td>\n",
       "      <td>0</td>\n",
       "      <td>1</td>\n",
       "      <td>0</td>\n",
       "      <td>1</td>\n",
       "      <td>0</td>\n",
       "      <td>1</td>\n",
       "      <td>0</td>\n",
       "      <td>0</td>\n",
       "      <td>1</td>\n",
       "    </tr>\n",
       "    <tr>\n",
       "      <th>4</th>\n",
       "      <td>47</td>\n",
       "      <td>1</td>\n",
       "      <td>1</td>\n",
       "      <td>0</td>\n",
       "      <td>Check-In</td>\n",
       "      <td>10</td>\n",
       "      <td>218</td>\n",
       "      <td>1</td>\n",
       "      <td>92</td>\n",
       "      <td>1</td>\n",
       "      <td>...</td>\n",
       "      <td>1</td>\n",
       "      <td>0</td>\n",
       "      <td>0</td>\n",
       "      <td>0</td>\n",
       "      <td>0</td>\n",
       "      <td>1</td>\n",
       "      <td>0</td>\n",
       "      <td>1</td>\n",
       "      <td>0</td>\n",
       "      <td>1</td>\n",
       "    </tr>\n",
       "  </tbody>\n",
       "</table>\n",
       "<p>5 rows × 47 columns</p>\n",
       "</div>"
      ],
      "text/plain": [
       "   Age  Adults  Children  Babies Reservation_Status  Discount_Rate  Room_Rate  \\\n",
       "0   56       2         2       0            No-Show             15        192   \n",
       "1   60       2         2       0           Canceled              0        187   \n",
       "2   58       3         1       0           Canceled             10        227   \n",
       "3   23       1         2       0           Check-In             25        189   \n",
       "4   47       1         1       0           Check-In             10        218   \n",
       "\n",
       "   Expected_stay_days  Reservation_gap  Gender_F  ...  \\\n",
       "0                   2              195         0  ...   \n",
       "1                   4              175         0  ...   \n",
       "2                   1              193         1  ...   \n",
       "3                   2              103         1  ...   \n",
       "4                   1               92         1  ...   \n",
       "\n",
       "   Deposit_type_No Deposit  Deposit_type_Non-Refundable  \\\n",
       "0                        1                            0   \n",
       "1                        1                            0   \n",
       "2                        1                            0   \n",
       "3                        0                            0   \n",
       "4                        1                            0   \n",
       "\n",
       "   Deposit_type_Refundable  Booking_channel_Agent  Booking_channel_Direct  \\\n",
       "0                        0                      1                       0   \n",
       "1                        0                      0                       0   \n",
       "2                        0                      0                       1   \n",
       "3                        1                      0                       1   \n",
       "4                        0                      0                       0   \n",
       "\n",
       "   Booking_channel_Online  Required_Car_Parking_No  Required_Car_Parking_Yes  \\\n",
       "0                       0                        1                         0   \n",
       "1                       1                        0                         1   \n",
       "2                       0                        1                         0   \n",
       "3                       0                        1                         0   \n",
       "4                       1                        0                         1   \n",
       "\n",
       "   Use_Promotion_No  Use_Promotion_Yes  \n",
       "0                 0                  1  \n",
       "1                 1                  0  \n",
       "2                 0                  1  \n",
       "3                 0                  1  \n",
       "4                 0                  1  \n",
       "\n",
       "[5 rows x 47 columns]"
      ]
     },
     "execution_count": 121,
     "metadata": {},
     "output_type": "execute_result"
    }
   ],
   "source": [
    "validation_data.head()"
   ]
  },
  {
   "cell_type": "markdown",
   "metadata": {},
   "source": [
    "q1 = train_data.quantile(0.25)\n",
    "q3 = train_data.quantile(0.75)\n",
    "iqr = q2-q1\n",
    "train_data = train_data[~((train_data<(q1-1.5*iqr))|(train_data>(q3+1.5*iqr))).any(axis=1)]\n",
    "train_data.shape"
   ]
  },
  {
   "cell_type": "code",
   "execution_count": null,
   "metadata": {},
   "outputs": [],
   "source": []
  },
  {
   "cell_type": "markdown",
   "metadata": {},
   "source": [
    "### Seperating the columns of categorical and quantitative data"
   ]
  },
  {
   "cell_type": "code",
   "execution_count": 122,
   "metadata": {},
   "outputs": [],
   "source": [
    "train_data['Fam_memb'] = train_data['Adults'] + train_data['Children'] + train_data['Babies']\n",
    "#train_data.drop(['Adults','Children','Babies'], inplace= True)"
   ]
  },
  {
   "cell_type": "code",
   "execution_count": 123,
   "metadata": {},
   "outputs": [
    {
     "data": {
      "text/html": [
       "<div>\n",
       "<style scoped>\n",
       "    .dataframe tbody tr th:only-of-type {\n",
       "        vertical-align: middle;\n",
       "    }\n",
       "\n",
       "    .dataframe tbody tr th {\n",
       "        vertical-align: top;\n",
       "    }\n",
       "\n",
       "    .dataframe thead th {\n",
       "        text-align: right;\n",
       "    }\n",
       "</style>\n",
       "<table border=\"1\" class=\"dataframe\">\n",
       "  <thead>\n",
       "    <tr style=\"text-align: right;\">\n",
       "      <th></th>\n",
       "      <th>Age</th>\n",
       "      <th>Reservation_Status</th>\n",
       "      <th>Discount_Rate</th>\n",
       "      <th>Room_Rate</th>\n",
       "      <th>Expected_stay_days</th>\n",
       "      <th>Reservation_gap</th>\n",
       "      <th>Gender_F</th>\n",
       "      <th>Gender_M</th>\n",
       "      <th>Ethnicity_African American</th>\n",
       "      <th>Ethnicity_Asian American</th>\n",
       "      <th>...</th>\n",
       "      <th>Deposit_type_Non-Refundable</th>\n",
       "      <th>Deposit_type_Refundable</th>\n",
       "      <th>Booking_channel_Agent</th>\n",
       "      <th>Booking_channel_Direct</th>\n",
       "      <th>Booking_channel_Online</th>\n",
       "      <th>Required_Car_Parking_No</th>\n",
       "      <th>Required_Car_Parking_Yes</th>\n",
       "      <th>Use_Promotion_No</th>\n",
       "      <th>Use_Promotion_Yes</th>\n",
       "      <th>Fam_memb</th>\n",
       "    </tr>\n",
       "  </thead>\n",
       "  <tbody>\n",
       "    <tr>\n",
       "      <th>0</th>\n",
       "      <td>40</td>\n",
       "      <td>Check-In</td>\n",
       "      <td>10</td>\n",
       "      <td>218</td>\n",
       "      <td>1</td>\n",
       "      <td>41</td>\n",
       "      <td>1</td>\n",
       "      <td>0</td>\n",
       "      <td>0</td>\n",
       "      <td>0</td>\n",
       "      <td>...</td>\n",
       "      <td>0</td>\n",
       "      <td>0</td>\n",
       "      <td>0</td>\n",
       "      <td>0</td>\n",
       "      <td>1</td>\n",
       "      <td>0</td>\n",
       "      <td>1</td>\n",
       "      <td>0</td>\n",
       "      <td>1</td>\n",
       "      <td>4</td>\n",
       "    </tr>\n",
       "    <tr>\n",
       "      <th>1</th>\n",
       "      <td>49</td>\n",
       "      <td>Check-In</td>\n",
       "      <td>0</td>\n",
       "      <td>185</td>\n",
       "      <td>1</td>\n",
       "      <td>36</td>\n",
       "      <td>1</td>\n",
       "      <td>0</td>\n",
       "      <td>0</td>\n",
       "      <td>0</td>\n",
       "      <td>...</td>\n",
       "      <td>0</td>\n",
       "      <td>1</td>\n",
       "      <td>0</td>\n",
       "      <td>0</td>\n",
       "      <td>1</td>\n",
       "      <td>0</td>\n",
       "      <td>1</td>\n",
       "      <td>1</td>\n",
       "      <td>0</td>\n",
       "      <td>6</td>\n",
       "    </tr>\n",
       "    <tr>\n",
       "      <th>2</th>\n",
       "      <td>42</td>\n",
       "      <td>Check-In</td>\n",
       "      <td>0</td>\n",
       "      <td>119</td>\n",
       "      <td>4</td>\n",
       "      <td>3</td>\n",
       "      <td>1</td>\n",
       "      <td>0</td>\n",
       "      <td>0</td>\n",
       "      <td>0</td>\n",
       "      <td>...</td>\n",
       "      <td>0</td>\n",
       "      <td>0</td>\n",
       "      <td>0</td>\n",
       "      <td>0</td>\n",
       "      <td>1</td>\n",
       "      <td>0</td>\n",
       "      <td>1</td>\n",
       "      <td>1</td>\n",
       "      <td>0</td>\n",
       "      <td>6</td>\n",
       "    </tr>\n",
       "    <tr>\n",
       "      <th>3</th>\n",
       "      <td>25</td>\n",
       "      <td>Check-In</td>\n",
       "      <td>5</td>\n",
       "      <td>144</td>\n",
       "      <td>1</td>\n",
       "      <td>12</td>\n",
       "      <td>0</td>\n",
       "      <td>1</td>\n",
       "      <td>1</td>\n",
       "      <td>0</td>\n",
       "      <td>...</td>\n",
       "      <td>0</td>\n",
       "      <td>1</td>\n",
       "      <td>1</td>\n",
       "      <td>0</td>\n",
       "      <td>0</td>\n",
       "      <td>0</td>\n",
       "      <td>1</td>\n",
       "      <td>0</td>\n",
       "      <td>1</td>\n",
       "      <td>7</td>\n",
       "    </tr>\n",
       "    <tr>\n",
       "      <th>4</th>\n",
       "      <td>62</td>\n",
       "      <td>Check-In</td>\n",
       "      <td>10</td>\n",
       "      <td>242</td>\n",
       "      <td>1</td>\n",
       "      <td>13</td>\n",
       "      <td>1</td>\n",
       "      <td>0</td>\n",
       "      <td>0</td>\n",
       "      <td>0</td>\n",
       "      <td>...</td>\n",
       "      <td>0</td>\n",
       "      <td>0</td>\n",
       "      <td>0</td>\n",
       "      <td>1</td>\n",
       "      <td>0</td>\n",
       "      <td>1</td>\n",
       "      <td>0</td>\n",
       "      <td>0</td>\n",
       "      <td>1</td>\n",
       "      <td>2</td>\n",
       "    </tr>\n",
       "  </tbody>\n",
       "</table>\n",
       "<p>5 rows × 45 columns</p>\n",
       "</div>"
      ],
      "text/plain": [
       "   Age Reservation_Status  Discount_Rate  Room_Rate  Expected_stay_days  \\\n",
       "0   40           Check-In             10        218                   1   \n",
       "1   49           Check-In              0        185                   1   \n",
       "2   42           Check-In              0        119                   4   \n",
       "3   25           Check-In              5        144                   1   \n",
       "4   62           Check-In             10        242                   1   \n",
       "\n",
       "   Reservation_gap  Gender_F  Gender_M  Ethnicity_African American  \\\n",
       "0               41         1         0                           0   \n",
       "1               36         1         0                           0   \n",
       "2                3         1         0                           0   \n",
       "3               12         0         1                           1   \n",
       "4               13         1         0                           0   \n",
       "\n",
       "   Ethnicity_Asian American  ...  Deposit_type_Non-Refundable  \\\n",
       "0                         0  ...                            0   \n",
       "1                         0  ...                            0   \n",
       "2                         0  ...                            0   \n",
       "3                         0  ...                            0   \n",
       "4                         0  ...                            0   \n",
       "\n",
       "   Deposit_type_Refundable  Booking_channel_Agent  Booking_channel_Direct  \\\n",
       "0                        0                      0                       0   \n",
       "1                        1                      0                       0   \n",
       "2                        0                      0                       0   \n",
       "3                        1                      1                       0   \n",
       "4                        0                      0                       1   \n",
       "\n",
       "   Booking_channel_Online  Required_Car_Parking_No  Required_Car_Parking_Yes  \\\n",
       "0                       1                        0                         1   \n",
       "1                       1                        0                         1   \n",
       "2                       1                        0                         1   \n",
       "3                       0                        0                         1   \n",
       "4                       0                        1                         0   \n",
       "\n",
       "   Use_Promotion_No  Use_Promotion_Yes  Fam_memb  \n",
       "0                 0                  1         4  \n",
       "1                 1                  0         6  \n",
       "2                 1                  0         6  \n",
       "3                 0                  1         7  \n",
       "4                 0                  1         2  \n",
       "\n",
       "[5 rows x 45 columns]"
      ]
     },
     "execution_count": 123,
     "metadata": {},
     "output_type": "execute_result"
    }
   ],
   "source": [
    "train_data.drop(['Adults','Children','Babies'],axis=1, inplace= True)\n",
    "train_data.head()"
   ]
  },
  {
   "cell_type": "code",
   "execution_count": 124,
   "metadata": {},
   "outputs": [],
   "source": [
    "validation_data['Fam_memb'] = validation_data['Adults'] + validation_data['Children'] + validation_data['Babies']\n",
    "validation_data.drop(['Adults','Children','Babies'], axis=1, inplace= True)"
   ]
  },
  {
   "cell_type": "code",
   "execution_count": 125,
   "metadata": {},
   "outputs": [],
   "source": [
    "test_data['Fam_memb'] = test_data['Adults'] + test_data['Children'] + test_data['Babies']\n",
    "test_data.drop(['Adults','Children','Babies'],axis=1, inplace= True)"
   ]
  },
  {
   "cell_type": "code",
   "execution_count": 126,
   "metadata": {},
   "outputs": [],
   "source": [
    "#data_quan_cols = ['Age','Discount_Rate', 'Room_Rate','Expected_stay_days', 'Reservation_gap', 'Adults', 'Children','Babies']\n",
    "data_quan_cols = ['Age','Discount_Rate', 'Room_Rate','Expected_stay_days', \n",
    "                        'Reservation_gap', 'Fam_memb']"
   ]
  },
  {
   "cell_type": "code",
   "execution_count": 127,
   "metadata": {},
   "outputs": [],
   "source": [
    "data_cat_cols = ['Gender', 'Ethnicity', 'Educational_Level', 'Income', 'Country_region',\n",
    "                 'Hotel_Type', 'Meal_Type', 'Visted_Previously',\n",
    "                 'Previous_Cancellations', 'Deposit_type', 'Booking_channel',\n",
    "                 'Required_Car_Parking', 'Use_Promotion']"
   ]
  },
  {
   "cell_type": "markdown",
   "metadata": {},
   "source": [
    "### Scaling the quantitative variables"
   ]
  },
  {
   "cell_type": "code",
   "execution_count": 128,
   "metadata": {},
   "outputs": [],
   "source": [
    "train_data_quan = train_data[data_quan_cols]\n",
    "validation_data_quan = validation_data[data_quan_cols]\n",
    "test_data_quan = test_data[data_quan_cols]"
   ]
  },
  {
   "cell_type": "code",
   "execution_count": 129,
   "metadata": {},
   "outputs": [],
   "source": [
    "from sklearn.preprocessing import MinMaxScaler \n",
    "sc = StandardScaler()\n",
    "#sc = MinMaxScaler()"
   ]
  },
  {
   "cell_type": "code",
   "execution_count": 130,
   "metadata": {},
   "outputs": [],
   "source": [
    "train_data_quan_scaled = sc.fit_transform(train_data_quan)\n",
    "validation_data_quan_scaled = sc.transform(validation_data_quan)\n",
    "test_data_quan_scaled = sc.transform(test_data_quan)"
   ]
  },
  {
   "cell_type": "code",
   "execution_count": 131,
   "metadata": {},
   "outputs": [
    {
     "data": {
      "text/plain": [
       "array([[-0.25991554, -0.22266812,  0.97691768, -0.84878606, -0.88293639,\n",
       "        -0.28704082],\n",
       "       [ 0.32820944, -1.11506055,  0.22480302, -0.84878606, -0.94700001,\n",
       "         1.05115289],\n",
       "       [-0.1292211 , -1.11506055, -1.27942629,  2.1963239 , -1.36981989,\n",
       "         1.05115289],\n",
       "       ...,\n",
       "       [ 0.32820944, -0.66886434,  0.61225603, -0.84878606, -1.29294354,\n",
       "        -0.28704082],\n",
       "       [ 1.37376495,  0.66972431, -0.41335487, -0.84878606, -0.15261114,\n",
       "         0.38205603],\n",
       "       [ 0.26286222, -1.11506055,  0.79458685, -0.84878606, -0.57543102,\n",
       "        -0.28704082]])"
      ]
     },
     "execution_count": 131,
     "metadata": {},
     "output_type": "execute_result"
    }
   ],
   "source": [
    "train_data_quan_scaled"
   ]
  },
  {
   "cell_type": "code",
   "execution_count": 132,
   "metadata": {},
   "outputs": [
    {
     "data": {
      "text/plain": [
       "numpy.ndarray"
      ]
     },
     "execution_count": 132,
     "metadata": {},
     "output_type": "execute_result"
    }
   ],
   "source": [
    "type(train_data_quan_scaled)"
   ]
  },
  {
   "cell_type": "markdown",
   "metadata": {},
   "source": [
    "### Separating the categorical variables"
   ]
  },
  {
   "cell_type": "code",
   "execution_count": 133,
   "metadata": {},
   "outputs": [
    {
     "data": {
      "text/plain": [
       "['Age',\n",
       " 'Discount_Rate',\n",
       " 'Room_Rate',\n",
       " 'Expected_stay_days',\n",
       " 'Reservation_gap',\n",
       " 'Fam_memb',\n",
       " 'Reservation_Status']"
      ]
     },
     "execution_count": 133,
     "metadata": {},
     "output_type": "execute_result"
    }
   ],
   "source": [
    "cols_to_drop = data_quan_cols.copy()\n",
    "cols_to_drop.append(\"Reservation_Status\")\n",
    "cols_to_drop"
   ]
  },
  {
   "cell_type": "code",
   "execution_count": 134,
   "metadata": {},
   "outputs": [
    {
     "name": "stdout",
     "output_type": "stream",
     "text": [
      "['Age', 'Discount_Rate', 'Room_Rate', 'Expected_stay_days', 'Reservation_gap', 'Fam_memb', 'Reservation_Status']\n"
     ]
    }
   ],
   "source": [
    "print(cols_to_drop)"
   ]
  },
  {
   "cell_type": "code",
   "execution_count": 135,
   "metadata": {},
   "outputs": [
    {
     "data": {
      "text/html": [
       "<div>\n",
       "<style scoped>\n",
       "    .dataframe tbody tr th:only-of-type {\n",
       "        vertical-align: middle;\n",
       "    }\n",
       "\n",
       "    .dataframe tbody tr th {\n",
       "        vertical-align: top;\n",
       "    }\n",
       "\n",
       "    .dataframe thead th {\n",
       "        text-align: right;\n",
       "    }\n",
       "</style>\n",
       "<table border=\"1\" class=\"dataframe\">\n",
       "  <thead>\n",
       "    <tr style=\"text-align: right;\">\n",
       "      <th></th>\n",
       "      <th>Gender_F</th>\n",
       "      <th>Gender_M</th>\n",
       "      <th>Ethnicity_African American</th>\n",
       "      <th>Ethnicity_Asian American</th>\n",
       "      <th>Ethnicity_Latino</th>\n",
       "      <th>Ethnicity_caucasian</th>\n",
       "      <th>Educational_Level_College</th>\n",
       "      <th>Educational_Level_Grad</th>\n",
       "      <th>Educational_Level_High-School</th>\n",
       "      <th>Educational_Level_Mid-School</th>\n",
       "      <th>...</th>\n",
       "      <th>Deposit_type_No Deposit</th>\n",
       "      <th>Deposit_type_Non-Refundable</th>\n",
       "      <th>Deposit_type_Refundable</th>\n",
       "      <th>Booking_channel_Agent</th>\n",
       "      <th>Booking_channel_Direct</th>\n",
       "      <th>Booking_channel_Online</th>\n",
       "      <th>Required_Car_Parking_No</th>\n",
       "      <th>Required_Car_Parking_Yes</th>\n",
       "      <th>Use_Promotion_No</th>\n",
       "      <th>Use_Promotion_Yes</th>\n",
       "    </tr>\n",
       "  </thead>\n",
       "  <tbody>\n",
       "    <tr>\n",
       "      <th>0</th>\n",
       "      <td>1</td>\n",
       "      <td>0</td>\n",
       "      <td>0</td>\n",
       "      <td>0</td>\n",
       "      <td>1</td>\n",
       "      <td>0</td>\n",
       "      <td>0</td>\n",
       "      <td>1</td>\n",
       "      <td>0</td>\n",
       "      <td>0</td>\n",
       "      <td>...</td>\n",
       "      <td>1</td>\n",
       "      <td>0</td>\n",
       "      <td>0</td>\n",
       "      <td>0</td>\n",
       "      <td>0</td>\n",
       "      <td>1</td>\n",
       "      <td>0</td>\n",
       "      <td>1</td>\n",
       "      <td>0</td>\n",
       "      <td>1</td>\n",
       "    </tr>\n",
       "    <tr>\n",
       "      <th>1</th>\n",
       "      <td>1</td>\n",
       "      <td>0</td>\n",
       "      <td>0</td>\n",
       "      <td>0</td>\n",
       "      <td>1</td>\n",
       "      <td>0</td>\n",
       "      <td>0</td>\n",
       "      <td>0</td>\n",
       "      <td>0</td>\n",
       "      <td>1</td>\n",
       "      <td>...</td>\n",
       "      <td>0</td>\n",
       "      <td>0</td>\n",
       "      <td>1</td>\n",
       "      <td>0</td>\n",
       "      <td>0</td>\n",
       "      <td>1</td>\n",
       "      <td>0</td>\n",
       "      <td>1</td>\n",
       "      <td>1</td>\n",
       "      <td>0</td>\n",
       "    </tr>\n",
       "    <tr>\n",
       "      <th>2</th>\n",
       "      <td>1</td>\n",
       "      <td>0</td>\n",
       "      <td>0</td>\n",
       "      <td>0</td>\n",
       "      <td>0</td>\n",
       "      <td>1</td>\n",
       "      <td>0</td>\n",
       "      <td>1</td>\n",
       "      <td>0</td>\n",
       "      <td>0</td>\n",
       "      <td>...</td>\n",
       "      <td>1</td>\n",
       "      <td>0</td>\n",
       "      <td>0</td>\n",
       "      <td>0</td>\n",
       "      <td>0</td>\n",
       "      <td>1</td>\n",
       "      <td>0</td>\n",
       "      <td>1</td>\n",
       "      <td>1</td>\n",
       "      <td>0</td>\n",
       "    </tr>\n",
       "    <tr>\n",
       "      <th>3</th>\n",
       "      <td>0</td>\n",
       "      <td>1</td>\n",
       "      <td>1</td>\n",
       "      <td>0</td>\n",
       "      <td>0</td>\n",
       "      <td>0</td>\n",
       "      <td>1</td>\n",
       "      <td>0</td>\n",
       "      <td>0</td>\n",
       "      <td>0</td>\n",
       "      <td>...</td>\n",
       "      <td>0</td>\n",
       "      <td>0</td>\n",
       "      <td>1</td>\n",
       "      <td>1</td>\n",
       "      <td>0</td>\n",
       "      <td>0</td>\n",
       "      <td>0</td>\n",
       "      <td>1</td>\n",
       "      <td>0</td>\n",
       "      <td>1</td>\n",
       "    </tr>\n",
       "    <tr>\n",
       "      <th>4</th>\n",
       "      <td>1</td>\n",
       "      <td>0</td>\n",
       "      <td>0</td>\n",
       "      <td>0</td>\n",
       "      <td>1</td>\n",
       "      <td>0</td>\n",
       "      <td>0</td>\n",
       "      <td>0</td>\n",
       "      <td>1</td>\n",
       "      <td>0</td>\n",
       "      <td>...</td>\n",
       "      <td>1</td>\n",
       "      <td>0</td>\n",
       "      <td>0</td>\n",
       "      <td>0</td>\n",
       "      <td>1</td>\n",
       "      <td>0</td>\n",
       "      <td>1</td>\n",
       "      <td>0</td>\n",
       "      <td>0</td>\n",
       "      <td>1</td>\n",
       "    </tr>\n",
       "  </tbody>\n",
       "</table>\n",
       "<p>5 rows × 38 columns</p>\n",
       "</div>"
      ],
      "text/plain": [
       "   Gender_F  Gender_M  Ethnicity_African American  Ethnicity_Asian American  \\\n",
       "0         1         0                           0                         0   \n",
       "1         1         0                           0                         0   \n",
       "2         1         0                           0                         0   \n",
       "3         0         1                           1                         0   \n",
       "4         1         0                           0                         0   \n",
       "\n",
       "   Ethnicity_Latino  Ethnicity_caucasian  Educational_Level_College  \\\n",
       "0                 1                    0                          0   \n",
       "1                 1                    0                          0   \n",
       "2                 0                    1                          0   \n",
       "3                 0                    0                          1   \n",
       "4                 1                    0                          0   \n",
       "\n",
       "   Educational_Level_Grad  Educational_Level_High-School  \\\n",
       "0                       1                              0   \n",
       "1                       0                              0   \n",
       "2                       1                              0   \n",
       "3                       0                              0   \n",
       "4                       0                              1   \n",
       "\n",
       "   Educational_Level_Mid-School  ...  Deposit_type_No Deposit  \\\n",
       "0                             0  ...                        1   \n",
       "1                             1  ...                        0   \n",
       "2                             0  ...                        1   \n",
       "3                             0  ...                        0   \n",
       "4                             0  ...                        1   \n",
       "\n",
       "   Deposit_type_Non-Refundable  Deposit_type_Refundable  \\\n",
       "0                            0                        0   \n",
       "1                            0                        1   \n",
       "2                            0                        0   \n",
       "3                            0                        1   \n",
       "4                            0                        0   \n",
       "\n",
       "   Booking_channel_Agent  Booking_channel_Direct  Booking_channel_Online  \\\n",
       "0                      0                       0                       1   \n",
       "1                      0                       0                       1   \n",
       "2                      0                       0                       1   \n",
       "3                      1                       0                       0   \n",
       "4                      0                       1                       0   \n",
       "\n",
       "   Required_Car_Parking_No  Required_Car_Parking_Yes  Use_Promotion_No  \\\n",
       "0                        0                         1                 0   \n",
       "1                        0                         1                 1   \n",
       "2                        0                         1                 1   \n",
       "3                        0                         1                 0   \n",
       "4                        1                         0                 0   \n",
       "\n",
       "   Use_Promotion_Yes  \n",
       "0                  1  \n",
       "1                  0  \n",
       "2                  0  \n",
       "3                  1  \n",
       "4                  1  \n",
       "\n",
       "[5 rows x 38 columns]"
      ]
     },
     "execution_count": 135,
     "metadata": {},
     "output_type": "execute_result"
    }
   ],
   "source": [
    "train_data_cat = train_data.drop(cols_to_drop, axis=1)\n",
    "validation_data_cat = validation_data.drop(cols_to_drop, axis=1)\n",
    "test_data_cat = test_data.drop(data_quan_cols, axis=1)\n",
    "train_data_cat.head()"
   ]
  },
  {
   "cell_type": "code",
   "execution_count": 136,
   "metadata": {},
   "outputs": [
    {
     "data": {
      "text/plain": [
       "(27499, 38)"
      ]
     },
     "execution_count": 136,
     "metadata": {},
     "output_type": "execute_result"
    }
   ],
   "source": [
    "train_data_cat_array = train_data_cat.to_numpy()\n",
    "validation_data_cat_array = validation_data_cat.to_numpy()\n",
    "test_data_cat_array = test_data_cat.to_numpy()\n",
    "train_data_cat_array.shape"
   ]
  },
  {
   "cell_type": "markdown",
   "metadata": {},
   "source": [
    "### Joining the pre-processed data"
   ]
  },
  {
   "cell_type": "code",
   "execution_count": 137,
   "metadata": {},
   "outputs": [],
   "source": [
    "train_data_processed = np.concatenate((train_data_quan_scaled, train_data_cat_array), axis = 1)\n",
    "validation_data_processed = np.concatenate((validation_data_quan_scaled, validation_data_cat_array), axis = 1)\n",
    "test_data_processed = np.concatenate((test_data_quan_scaled, test_data_cat_array), axis = 1)"
   ]
  },
  {
   "cell_type": "code",
   "execution_count": 138,
   "metadata": {},
   "outputs": [
    {
     "data": {
      "text/plain": [
       "array([-0.25991554, -0.22266812,  0.97691768, -0.84878606, -0.88293639,\n",
       "       -0.28704082,  1.        ,  0.        ,  0.        ,  0.        ,\n",
       "        1.        ,  0.        ,  0.        ,  1.        ,  0.        ,\n",
       "        0.        ,  0.        ,  0.        ,  1.        ,  0.        ,\n",
       "        0.        ,  1.        ,  0.        ,  0.        ,  0.        ,\n",
       "        1.        ,  0.        ,  1.        ,  0.        ,  0.        ,\n",
       "        1.        ,  0.        ,  1.        ,  0.        ,  1.        ,\n",
       "        0.        ,  0.        ,  0.        ,  0.        ,  1.        ,\n",
       "        0.        ,  1.        ,  0.        ,  1.        ])"
      ]
     },
     "execution_count": 138,
     "metadata": {},
     "output_type": "execute_result"
    }
   ],
   "source": [
    "train_data_processed[0]"
   ]
  },
  {
   "cell_type": "code",
   "execution_count": 139,
   "metadata": {},
   "outputs": [
    {
     "data": {
      "text/plain": [
       "(4318, 6)"
      ]
     },
     "execution_count": 139,
     "metadata": {},
     "output_type": "execute_result"
    }
   ],
   "source": [
    "test_data_quan_scaled.shape"
   ]
  },
  {
   "cell_type": "code",
   "execution_count": 140,
   "metadata": {},
   "outputs": [
    {
     "data": {
      "text/plain": [
       "(4318, 38)"
      ]
     },
     "execution_count": 140,
     "metadata": {},
     "output_type": "execute_result"
    }
   ],
   "source": [
    "test_data_cat_array.shape"
   ]
  },
  {
   "cell_type": "code",
   "execution_count": 141,
   "metadata": {},
   "outputs": [
    {
     "data": {
      "text/plain": [
       "(2749, 44)"
      ]
     },
     "execution_count": 141,
     "metadata": {},
     "output_type": "execute_result"
    }
   ],
   "source": [
    "validation_data_processed.shape"
   ]
  },
  {
   "cell_type": "markdown",
   "metadata": {},
   "source": [
    "### Encoding the labels"
   ]
  },
  {
   "cell_type": "code",
   "execution_count": 142,
   "metadata": {},
   "outputs": [],
   "source": [
    "train_y = train_data['Reservation_Status']\n",
    "validation_y = validation_data['Reservation_Status']"
   ]
  },
  {
   "cell_type": "code",
   "execution_count": 143,
   "metadata": {},
   "outputs": [],
   "source": [
    "le = preprocessing.LabelEncoder()"
   ]
  },
  {
   "cell_type": "code",
   "execution_count": 144,
   "metadata": {},
   "outputs": [],
   "source": [
    "train_y = le.fit_transform(train_y)\n",
    "validation_y = le.transform(validation_y)"
   ]
  },
  {
   "cell_type": "code",
   "execution_count": 145,
   "metadata": {},
   "outputs": [
    {
     "data": {
      "text/plain": [
       "(2749,)"
      ]
     },
     "execution_count": 145,
     "metadata": {},
     "output_type": "execute_result"
    }
   ],
   "source": [
    "validation_y.shape"
   ]
  },
  {
   "cell_type": "code",
   "execution_count": 146,
   "metadata": {},
   "outputs": [
    {
     "data": {
      "text/plain": [
       "array(['Canceled', 'Check-In', 'No-Show'], dtype=object)"
      ]
     },
     "execution_count": 146,
     "metadata": {},
     "output_type": "execute_result"
    }
   ],
   "source": [
    "le.classes_"
   ]
  },
  {
   "cell_type": "markdown",
   "metadata": {},
   "source": [
    "### Oversampling and Undersampling"
   ]
  },
  {
   "cell_type": "code",
   "execution_count": 147,
   "metadata": {},
   "outputs": [
    {
     "data": {
      "text/plain": [
       "array([ 4134, 21240,  2125], dtype=int64)"
      ]
     },
     "execution_count": 147,
     "metadata": {},
     "output_type": "execute_result"
    }
   ],
   "source": [
    "train_y_count = np.bincount(train_y)\n",
    "train_y_count"
   ]
  },
  {
   "cell_type": "markdown",
   "metadata": {},
   "source": [
    "#### oversampling"
   ]
  },
  {
   "cell_type": "markdown",
   "metadata": {},
   "source": [
    "from imblearn.over_sampling import SMOTE\n",
    "#0: Cancelled, 1: Check--in , 2:No Show\n",
    "#Oversampling\n",
    "strategy = {0:4134*5, 1:21240, 2:2125*9}\n",
    "smote = SMOTE(sampling_strategy=strategy, random_state = 0) \n",
    "\n",
    "X_smote, y_smote = smote.fit_resample(train_data_processed, train_y)\n",
    "#print(Counter(y_train), Counter(y_smote))\n",
    "unique_smote = np.bincount(y_smote)\n",
    "unique_smote"
   ]
  },
  {
   "cell_type": "markdown",
   "metadata": {},
   "source": [
    "### Borderline SMOTE\n",
    "from imblearn.over_sampling import BorderlineSMOTE\n",
    "strategy = {0:4134*5, 1:21240, 2:2125*9}\n",
    "blsmote = BorderlineSMOTE(sampling_strategy=strategy,random_state =50)\n",
    "\n",
    "X_blsmote , y_blsmote = blsmote.fit_resample(train_data_processed, train_y)\n",
    "np.bincount(y_blsmote)"
   ]
  },
  {
   "cell_type": "code",
   "execution_count": 160,
   "metadata": {},
   "outputs": [],
   "source": [
    "# ADASYN\n",
    "from imblearn.over_sampling import ADASYN\n",
    "strategy = {0:train_y_count[0]*5, 1:train_y_count[1], 2:train_y_count[2]*9}\n",
    "adasyn = ADASYN(sampling_strategy = strategy,random_state=3)\n",
    "X_ada , y_ada = adasyn.fit_resample(train_data_processed, train_y)"
   ]
  },
  {
   "cell_type": "code",
   "execution_count": 161,
   "metadata": {},
   "outputs": [
    {
     "data": {
      "text/plain": [
       "array([21351, 21240, 19445], dtype=int64)"
      ]
     },
     "execution_count": 161,
     "metadata": {},
     "output_type": "execute_result"
    }
   ],
   "source": [
    "np.bincount(y_ada)"
   ]
  },
  {
   "cell_type": "markdown",
   "metadata": {},
   "source": [
    "#### Undersampling"
   ]
  },
  {
   "cell_type": "code",
   "execution_count": 162,
   "metadata": {},
   "outputs": [],
   "source": [
    "from imblearn.under_sampling import TomekLinks #use TomekLinks and NearMiss\n",
    "\n",
    "strategy = {1: round(21240*0.2), 0: 4134*5, 2: 2125*5}\n",
    "random.seed(3)\n",
    "undersample = TomekLinks(sampling_strategy= 'all')\n",
    "\n",
    "X_tom , y_tom = undersample.fit_resample(X_ada,y_ada)"
   ]
  },
  {
   "cell_type": "code",
   "execution_count": 163,
   "metadata": {},
   "outputs": [
    {
     "name": "stdout",
     "output_type": "stream",
     "text": [
      "[21345 21234 19445]\n"
     ]
    }
   ],
   "source": [
    "unique_tom = np.bincount(y_tom)\n",
    "print(unique_tom)"
   ]
  },
  {
   "cell_type": "code",
   "execution_count": null,
   "metadata": {},
   "outputs": [],
   "source": []
  },
  {
   "cell_type": "markdown",
   "metadata": {},
   "source": [
    "#NearMiss\n",
    "from imblearn.under_sampling import NearMiss\n",
    "\n",
    "strategy = {1: round(21240*0.3), 0: 4134, 2: 2125}\n",
    "undersample_near = NearMiss(sampling_strategy=strategy)\n",
    "X_near , y_near = undersample_near.fit_resample(train_data_processed, train_y)"
   ]
  },
  {
   "cell_type": "markdown",
   "metadata": {},
   "source": [
    "unique_near = np.bincount(y_near)\n",
    "print(unique_near)"
   ]
  },
  {
   "cell_type": "code",
   "execution_count": null,
   "metadata": {},
   "outputs": [],
   "source": []
  },
  {
   "cell_type": "markdown",
   "metadata": {},
   "source": [
    "#### One-sided Selection for Undersampling\n",
    "from imblearn.under_sampling import OneSidedSelection\n",
    "\n",
    "undersample_oss = OneSidedSelection(n_neighbors=1, n_seeds_S=1000)\n",
    "X_oss , y_oss = undersample_oss.fit_resample(X_ada, y_ada)"
   ]
  },
  {
   "cell_type": "markdown",
   "metadata": {},
   "source": [
    "np.bincount(y_oss)"
   ]
  },
  {
   "cell_type": "markdown",
   "metadata": {},
   "source": [
    "#### SMOTETomek\n",
    "from imblearn.combine import SMOTETomek\n",
    "strategy = {1: round(21240*0.3), 0: 4134, 2: 2125}\n",
    "\n",
    "smote_tomek = SMOTETomek(sampling_strategy = strategy, random_state=0)\n",
    "X_smoteT , y_smoteT = smote_tomek.fit_resample(train_data_processed, train_y)\n",
    "np.bincount(y_smoteT)"
   ]
  },
  {
   "cell_type": "markdown",
   "metadata": {},
   "source": [
    "# Edited NN\n",
    "from imblearn.under_sampling import EditedNearestNeighbours\n",
    "\n",
    "undersample_enn = EditedNearestNeighbours(n_neighbors=3)\n",
    "X_enn , y_enn = undersample_enn.fit_resample(X_smote, y_smote)"
   ]
  },
  {
   "cell_type": "code",
   "execution_count": null,
   "metadata": {},
   "outputs": [],
   "source": []
  },
  {
   "cell_type": "code",
   "execution_count": null,
   "metadata": {},
   "outputs": [],
   "source": []
  },
  {
   "cell_type": "markdown",
   "metadata": {},
   "source": []
  },
  {
   "cell_type": "code",
   "execution_count": 164,
   "metadata": {},
   "outputs": [],
   "source": [
    "xg_train = xgb.DMatrix(X_tom, label=y_tom)\n",
    "xg_valid = xgb.DMatrix(validation_data_processed, label=validation_y)"
   ]
  },
  {
   "cell_type": "code",
   "execution_count": 165,
   "metadata": {},
   "outputs": [],
   "source": [
    "param = {}\n",
    "\n",
    "# use softmax multi-class classification\n",
    "param['objective'] = 'multi:softmax'\n",
    "# scale weight of positive examples\n",
    "param['eta'] = 0.257\n",
    "param['max_depth'] = 1\n",
    "param['nthread'] = -1\n",
    "param['num_class'] = 3\n",
    "param['max_delta_step'] = 1\n",
    "#param['eval_metric'] = 'merror'\n",
    "#param['scale_pos_weight'] = 0.5\n",
    "#param['num_parallel_tree'] = 50"
   ]
  },
  {
   "cell_type": "code",
   "execution_count": 166,
   "metadata": {},
   "outputs": [],
   "source": [
    "watchlist = [(xg_train, 'train'), (xg_valid, 'valid')]\n",
    "num_round = 1000"
   ]
  },
  {
   "cell_type": "code",
   "execution_count": 167,
   "metadata": {},
   "outputs": [
    {
     "name": "stdout",
     "output_type": "stream",
     "text": [
      "[23:28:01] WARNING: C:/Users/Administrator/workspace/xgboost-win64_release_1.3.0/src/learner.cc:1061: Starting in XGBoost 1.3.0, the default evaluation metric used with the objective 'multi:softmax' was changed from 'merror' to 'mlogloss'. Explicitly set eval_metric if you'd like to restore the old behavior.\n",
      "[0]\ttrain-mlogloss:1.08343\tvalid-mlogloss:1.09681\n",
      "[0]\ttrain-mlogloss:1.08343\tvalid-mlogloss:1.09681\n",
      "[1]\ttrain-mlogloss:1.07318\tvalid-mlogloss:1.09815\n",
      "[1]\ttrain-mlogloss:1.07318\tvalid-mlogloss:1.09815\n",
      "[2]\ttrain-mlogloss:1.06577\tvalid-mlogloss:1.09983\n",
      "[2]\ttrain-mlogloss:1.06577\tvalid-mlogloss:1.09983\n",
      "[3]\ttrain-mlogloss:1.05994\tvalid-mlogloss:1.10148\n",
      "[3]\ttrain-mlogloss:1.05994\tvalid-mlogloss:1.10148\n",
      "[4]\ttrain-mlogloss:1.05457\tvalid-mlogloss:1.10289\n",
      "[4]\ttrain-mlogloss:1.05457\tvalid-mlogloss:1.10289\n",
      "[5]\ttrain-mlogloss:1.05022\tvalid-mlogloss:1.10507\n",
      "[5]\ttrain-mlogloss:1.05022\tvalid-mlogloss:1.10507\n",
      "[6]\ttrain-mlogloss:1.04631\tvalid-mlogloss:1.10868\n",
      "[6]\ttrain-mlogloss:1.04631\tvalid-mlogloss:1.10868\n",
      "[7]\ttrain-mlogloss:1.04289\tvalid-mlogloss:1.10743\n",
      "[7]\ttrain-mlogloss:1.04289\tvalid-mlogloss:1.10743\n"
     ]
    }
   ],
   "source": [
    "bst = xgb.train(param, xg_train, num_round, watchlist, \n",
    "                callbacks=[xgb.callback.EvaluationMonitor(show_stdv=False),xgb.callback.EarlyStopping(8)])"
   ]
  },
  {
   "cell_type": "code",
   "execution_count": 168,
   "metadata": {},
   "outputs": [],
   "source": [
    "y_pred = bst.predict(xg_valid)"
   ]
  },
  {
   "cell_type": "code",
   "execution_count": 169,
   "metadata": {},
   "outputs": [
    {
     "name": "stdout",
     "output_type": "stream",
     "text": [
      "              precision    recall  f1-score   support\n",
      "\n",
      "           0       0.28      0.63      0.39       741\n",
      "           1       0.62      0.36      0.45      1610\n",
      "           2       0.13      0.05      0.07       398\n",
      "\n",
      "    accuracy                           0.39      2749\n",
      "   macro avg       0.34      0.35      0.31      2749\n",
      "weighted avg       0.46      0.39      0.38      2749\n",
      "\n"
     ]
    }
   ],
   "source": [
    "print(classification_report(validation_y, y_pred))"
   ]
  },
  {
   "cell_type": "code",
   "execution_count": 170,
   "metadata": {},
   "outputs": [],
   "source": [
    "xg_test = xgb.DMatrix(test_data_processed)\n",
    "y_pred_test = bst.predict(xg_test)"
   ]
  },
  {
   "cell_type": "code",
   "execution_count": 171,
   "metadata": {},
   "outputs": [
    {
     "name": "stdout",
     "output_type": "stream",
     "text": [
      "[0. 0. 1. ... 0. 1. 2.]\n"
     ]
    }
   ],
   "source": [
    "print(y_pred_test)"
   ]
  },
  {
   "cell_type": "code",
   "execution_count": 172,
   "metadata": {},
   "outputs": [
    {
     "data": {
      "text/html": [
       "<div>\n",
       "<style scoped>\n",
       "    .dataframe tbody tr th:only-of-type {\n",
       "        vertical-align: middle;\n",
       "    }\n",
       "\n",
       "    .dataframe tbody tr th {\n",
       "        vertical-align: top;\n",
       "    }\n",
       "\n",
       "    .dataframe thead th {\n",
       "        text-align: right;\n",
       "    }\n",
       "</style>\n",
       "<table border=\"1\" class=\"dataframe\">\n",
       "  <thead>\n",
       "    <tr style=\"text-align: right;\">\n",
       "      <th></th>\n",
       "      <th>Reservation-id</th>\n",
       "      <th>Reservation_Status</th>\n",
       "    </tr>\n",
       "  </thead>\n",
       "  <tbody>\n",
       "    <tr>\n",
       "      <th>0</th>\n",
       "      <td>62931593</td>\n",
       "      <td>0.0</td>\n",
       "    </tr>\n",
       "    <tr>\n",
       "      <th>1</th>\n",
       "      <td>70586099</td>\n",
       "      <td>0.0</td>\n",
       "    </tr>\n",
       "    <tr>\n",
       "      <th>2</th>\n",
       "      <td>4230648</td>\n",
       "      <td>1.0</td>\n",
       "    </tr>\n",
       "    <tr>\n",
       "      <th>3</th>\n",
       "      <td>25192322</td>\n",
       "      <td>0.0</td>\n",
       "    </tr>\n",
       "    <tr>\n",
       "      <th>4</th>\n",
       "      <td>80931528</td>\n",
       "      <td>1.0</td>\n",
       "    </tr>\n",
       "  </tbody>\n",
       "</table>\n",
       "</div>"
      ],
      "text/plain": [
       "   Reservation-id  Reservation_Status\n",
       "0        62931593                 0.0\n",
       "1        70586099                 0.0\n",
       "2         4230648                 1.0\n",
       "3        25192322                 0.0\n",
       "4        80931528                 1.0"
      ]
     },
     "execution_count": 172,
     "metadata": {},
     "output_type": "execute_result"
    }
   ],
   "source": [
    "test_pred_df = pd.DataFrame({'Reservation-id': test_data_id, 'Reservation_Status':y_pred_test})\n",
    "test_pred_df.head()"
   ]
  },
  {
   "cell_type": "code",
   "execution_count": 173,
   "metadata": {},
   "outputs": [],
   "source": [
    "test_pred_df.to_csv('test_3.csv',',')"
   ]
  },
  {
   "cell_type": "code",
   "execution_count": 174,
   "metadata": {},
   "outputs": [
    {
     "data": {
      "text/plain": [
       "array([ 741, 1610,  398], dtype=int64)"
      ]
     },
     "execution_count": 174,
     "metadata": {},
     "output_type": "execute_result"
    }
   ],
   "source": [
    "#np.bincount(validation_y)"
   ]
  },
  {
   "cell_type": "code",
   "execution_count": 175,
   "metadata": {},
   "outputs": [
    {
     "data": {
      "text/plain": [
       "4318"
      ]
     },
     "execution_count": 175,
     "metadata": {},
     "output_type": "execute_result"
    }
   ],
   "source": [
    "#len(y_pred_test)"
   ]
  }
 ],
 "metadata": {
  "kernelspec": {
   "display_name": "Python 3",
   "language": "python",
   "name": "python3"
  },
  "language_info": {
   "codemirror_mode": {
    "name": "ipython",
    "version": 3
   },
   "file_extension": ".py",
   "mimetype": "text/x-python",
   "name": "python",
   "nbconvert_exporter": "python",
   "pygments_lexer": "ipython3",
   "version": "3.8.3"
  }
 },
 "nbformat": 4,
 "nbformat_minor": 5
}

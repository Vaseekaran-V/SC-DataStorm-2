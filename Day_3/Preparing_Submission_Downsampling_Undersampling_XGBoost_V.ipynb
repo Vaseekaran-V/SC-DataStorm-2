{
 "cells": [
  {
   "cell_type": "markdown",
   "id": "spoken-amazon",
   "metadata": {},
   "source": [
    "### Importing the needed libraries"
   ]
  },
  {
   "cell_type": "code",
   "execution_count": 1,
   "id": "timely-patient",
   "metadata": {},
   "outputs": [],
   "source": [
    "import pandas as pd\n",
    "import numpy as np\n",
    "import matplotlib.pyplot as plt\n",
    "%matplotlib inline\n",
    "import seaborn as sns\n",
    "from sklearn.model_selection import train_test_split\n",
    "from sklearn.metrics import accuracy_score\n",
    "from sklearn.metrics import confusion_matrix\n",
    "from sklearn.model_selection import cross_val_score\n",
    "from sklearn.preprocessing import OneHotEncoder\n",
    "from sklearn.pipeline import Pipeline\n",
    "from sklearn import preprocessing\n",
    "from sklearn.compose import ColumnTransformer\n",
    "from sklearn.preprocessing import StandardScaler #you can use minmax scaler too\n",
    "from sklearn.model_selection import cross_val_score\n",
    "from sklearn.model_selection import GridSearchCV\n",
    "from sklearn.model_selection import RandomizedSearchCV\n",
    "from sklearn.ensemble import RandomForestClassifier\n",
    "from sklearn.metrics import classification_report\n",
    "import xgboost as xgb\n",
    "from imblearn.ensemble import BalancedBaggingClassifier\n",
    "#Import other necessary model libraries, for this example, using Logistic Regression"
   ]
  },
  {
   "cell_type": "markdown",
   "id": "objective-material",
   "metadata": {},
   "source": [
    "### Importing the dataset"
   ]
  },
  {
   "cell_type": "code",
   "execution_count": 2,
   "id": "developing-circumstances",
   "metadata": {},
   "outputs": [],
   "source": [
    "train_data = pd.read_csv(r\"../Data/Preprocessed-Datasets/train-data-encoded.csv\", header = 0)\n",
    "test_data = pd.read_csv(r\"../Data/Preprocessed-Datasets/test-data-encoded.csv\", header = 0)\n",
    "validation_data = pd.read_csv(r\"../Data/Preprocessed-Datasets/validation-data-encoded.csv\", header = 0)"
   ]
  },
  {
   "cell_type": "code",
   "execution_count": 3,
   "id": "sitting-yacht",
   "metadata": {},
   "outputs": [],
   "source": [
    "train_data=train_data.drop(['Reservation-id'], axis = 1)\n",
    "validation_data=validation_data.drop(['Reservation-id'], axis = 1)\n",
    "test_data=test_data.drop(['Reservation-id'], axis = 1)"
   ]
  },
  {
   "cell_type": "code",
   "execution_count": 4,
   "id": "fleet-minute",
   "metadata": {},
   "outputs": [
    {
     "data": {
      "text/html": [
       "<div>\n",
       "<style scoped>\n",
       "    .dataframe tbody tr th:only-of-type {\n",
       "        vertical-align: middle;\n",
       "    }\n",
       "\n",
       "    .dataframe tbody tr th {\n",
       "        vertical-align: top;\n",
       "    }\n",
       "\n",
       "    .dataframe thead th {\n",
       "        text-align: right;\n",
       "    }\n",
       "</style>\n",
       "<table border=\"1\" class=\"dataframe\">\n",
       "  <thead>\n",
       "    <tr style=\"text-align: right;\">\n",
       "      <th></th>\n",
       "      <th>Age</th>\n",
       "      <th>Adults</th>\n",
       "      <th>Children</th>\n",
       "      <th>Babies</th>\n",
       "      <th>Reservation_Status</th>\n",
       "      <th>Discount_Rate</th>\n",
       "      <th>Room_Rate</th>\n",
       "      <th>Expected_stay_days</th>\n",
       "      <th>Reservation_gap</th>\n",
       "      <th>Gender_F</th>\n",
       "      <th>...</th>\n",
       "      <th>Deposit_type_No Deposit</th>\n",
       "      <th>Deposit_type_Non-Refundable</th>\n",
       "      <th>Deposit_type_Refundable</th>\n",
       "      <th>Booking_channel_Agent</th>\n",
       "      <th>Booking_channel_Direct</th>\n",
       "      <th>Booking_channel_Online</th>\n",
       "      <th>Required_Car_Parking_No</th>\n",
       "      <th>Required_Car_Parking_Yes</th>\n",
       "      <th>Use_Promotion_No</th>\n",
       "      <th>Use_Promotion_Yes</th>\n",
       "    </tr>\n",
       "  </thead>\n",
       "  <tbody>\n",
       "    <tr>\n",
       "      <th>0</th>\n",
       "      <td>56</td>\n",
       "      <td>2</td>\n",
       "      <td>2</td>\n",
       "      <td>0</td>\n",
       "      <td>No-Show</td>\n",
       "      <td>15</td>\n",
       "      <td>192</td>\n",
       "      <td>2</td>\n",
       "      <td>195</td>\n",
       "      <td>0</td>\n",
       "      <td>...</td>\n",
       "      <td>1</td>\n",
       "      <td>0</td>\n",
       "      <td>0</td>\n",
       "      <td>1</td>\n",
       "      <td>0</td>\n",
       "      <td>0</td>\n",
       "      <td>1</td>\n",
       "      <td>0</td>\n",
       "      <td>0</td>\n",
       "      <td>1</td>\n",
       "    </tr>\n",
       "    <tr>\n",
       "      <th>1</th>\n",
       "      <td>60</td>\n",
       "      <td>2</td>\n",
       "      <td>2</td>\n",
       "      <td>0</td>\n",
       "      <td>Canceled</td>\n",
       "      <td>0</td>\n",
       "      <td>187</td>\n",
       "      <td>4</td>\n",
       "      <td>175</td>\n",
       "      <td>0</td>\n",
       "      <td>...</td>\n",
       "      <td>1</td>\n",
       "      <td>0</td>\n",
       "      <td>0</td>\n",
       "      <td>0</td>\n",
       "      <td>0</td>\n",
       "      <td>1</td>\n",
       "      <td>0</td>\n",
       "      <td>1</td>\n",
       "      <td>1</td>\n",
       "      <td>0</td>\n",
       "    </tr>\n",
       "    <tr>\n",
       "      <th>2</th>\n",
       "      <td>58</td>\n",
       "      <td>3</td>\n",
       "      <td>1</td>\n",
       "      <td>0</td>\n",
       "      <td>Canceled</td>\n",
       "      <td>10</td>\n",
       "      <td>227</td>\n",
       "      <td>1</td>\n",
       "      <td>193</td>\n",
       "      <td>1</td>\n",
       "      <td>...</td>\n",
       "      <td>1</td>\n",
       "      <td>0</td>\n",
       "      <td>0</td>\n",
       "      <td>0</td>\n",
       "      <td>1</td>\n",
       "      <td>0</td>\n",
       "      <td>1</td>\n",
       "      <td>0</td>\n",
       "      <td>0</td>\n",
       "      <td>1</td>\n",
       "    </tr>\n",
       "    <tr>\n",
       "      <th>3</th>\n",
       "      <td>23</td>\n",
       "      <td>1</td>\n",
       "      <td>2</td>\n",
       "      <td>0</td>\n",
       "      <td>Check-In</td>\n",
       "      <td>25</td>\n",
       "      <td>189</td>\n",
       "      <td>2</td>\n",
       "      <td>103</td>\n",
       "      <td>1</td>\n",
       "      <td>...</td>\n",
       "      <td>0</td>\n",
       "      <td>0</td>\n",
       "      <td>1</td>\n",
       "      <td>0</td>\n",
       "      <td>1</td>\n",
       "      <td>0</td>\n",
       "      <td>1</td>\n",
       "      <td>0</td>\n",
       "      <td>0</td>\n",
       "      <td>1</td>\n",
       "    </tr>\n",
       "    <tr>\n",
       "      <th>4</th>\n",
       "      <td>47</td>\n",
       "      <td>1</td>\n",
       "      <td>1</td>\n",
       "      <td>0</td>\n",
       "      <td>Check-In</td>\n",
       "      <td>10</td>\n",
       "      <td>218</td>\n",
       "      <td>1</td>\n",
       "      <td>92</td>\n",
       "      <td>1</td>\n",
       "      <td>...</td>\n",
       "      <td>1</td>\n",
       "      <td>0</td>\n",
       "      <td>0</td>\n",
       "      <td>0</td>\n",
       "      <td>0</td>\n",
       "      <td>1</td>\n",
       "      <td>0</td>\n",
       "      <td>1</td>\n",
       "      <td>0</td>\n",
       "      <td>1</td>\n",
       "    </tr>\n",
       "  </tbody>\n",
       "</table>\n",
       "<p>5 rows × 47 columns</p>\n",
       "</div>"
      ],
      "text/plain": [
       "   Age  Adults  Children  Babies Reservation_Status  Discount_Rate  Room_Rate  \\\n",
       "0   56       2         2       0            No-Show             15        192   \n",
       "1   60       2         2       0           Canceled              0        187   \n",
       "2   58       3         1       0           Canceled             10        227   \n",
       "3   23       1         2       0           Check-In             25        189   \n",
       "4   47       1         1       0           Check-In             10        218   \n",
       "\n",
       "   Expected_stay_days  Reservation_gap  Gender_F  ...  \\\n",
       "0                   2              195         0  ...   \n",
       "1                   4              175         0  ...   \n",
       "2                   1              193         1  ...   \n",
       "3                   2              103         1  ...   \n",
       "4                   1               92         1  ...   \n",
       "\n",
       "   Deposit_type_No Deposit  Deposit_type_Non-Refundable  \\\n",
       "0                        1                            0   \n",
       "1                        1                            0   \n",
       "2                        1                            0   \n",
       "3                        0                            0   \n",
       "4                        1                            0   \n",
       "\n",
       "   Deposit_type_Refundable  Booking_channel_Agent  Booking_channel_Direct  \\\n",
       "0                        0                      1                       0   \n",
       "1                        0                      0                       0   \n",
       "2                        0                      0                       1   \n",
       "3                        1                      0                       1   \n",
       "4                        0                      0                       0   \n",
       "\n",
       "   Booking_channel_Online  Required_Car_Parking_No  Required_Car_Parking_Yes  \\\n",
       "0                       0                        1                         0   \n",
       "1                       1                        0                         1   \n",
       "2                       0                        1                         0   \n",
       "3                       0                        1                         0   \n",
       "4                       1                        0                         1   \n",
       "\n",
       "   Use_Promotion_No  Use_Promotion_Yes  \n",
       "0                 0                  1  \n",
       "1                 1                  0  \n",
       "2                 0                  1  \n",
       "3                 0                  1  \n",
       "4                 0                  1  \n",
       "\n",
       "[5 rows x 47 columns]"
      ]
     },
     "execution_count": 4,
     "metadata": {},
     "output_type": "execute_result"
    }
   ],
   "source": [
    "validation_data.head()"
   ]
  },
  {
   "cell_type": "code",
   "execution_count": 5,
   "id": "contained-constitution",
   "metadata": {},
   "outputs": [
    {
     "data": {
      "text/html": [
       "<div>\n",
       "<style scoped>\n",
       "    .dataframe tbody tr th:only-of-type {\n",
       "        vertical-align: middle;\n",
       "    }\n",
       "\n",
       "    .dataframe tbody tr th {\n",
       "        vertical-align: top;\n",
       "    }\n",
       "\n",
       "    .dataframe thead th {\n",
       "        text-align: right;\n",
       "    }\n",
       "</style>\n",
       "<table border=\"1\" class=\"dataframe\">\n",
       "  <thead>\n",
       "    <tr style=\"text-align: right;\">\n",
       "      <th></th>\n",
       "      <th>Age</th>\n",
       "      <th>Adults</th>\n",
       "      <th>Children</th>\n",
       "      <th>Babies</th>\n",
       "      <th>Reservation_Status</th>\n",
       "      <th>Discount_Rate</th>\n",
       "      <th>Room_Rate</th>\n",
       "      <th>Expected_stay_days</th>\n",
       "      <th>Reservation_gap</th>\n",
       "      <th>Gender_F</th>\n",
       "      <th>...</th>\n",
       "      <th>Deposit_type_No Deposit</th>\n",
       "      <th>Deposit_type_Non-Refundable</th>\n",
       "      <th>Deposit_type_Refundable</th>\n",
       "      <th>Booking_channel_Agent</th>\n",
       "      <th>Booking_channel_Direct</th>\n",
       "      <th>Booking_channel_Online</th>\n",
       "      <th>Required_Car_Parking_No</th>\n",
       "      <th>Required_Car_Parking_Yes</th>\n",
       "      <th>Use_Promotion_No</th>\n",
       "      <th>Use_Promotion_Yes</th>\n",
       "    </tr>\n",
       "  </thead>\n",
       "  <tbody>\n",
       "    <tr>\n",
       "      <th>0</th>\n",
       "      <td>56</td>\n",
       "      <td>2</td>\n",
       "      <td>2</td>\n",
       "      <td>0</td>\n",
       "      <td>No-Show</td>\n",
       "      <td>15</td>\n",
       "      <td>192</td>\n",
       "      <td>2</td>\n",
       "      <td>195</td>\n",
       "      <td>0</td>\n",
       "      <td>...</td>\n",
       "      <td>1</td>\n",
       "      <td>0</td>\n",
       "      <td>0</td>\n",
       "      <td>1</td>\n",
       "      <td>0</td>\n",
       "      <td>0</td>\n",
       "      <td>1</td>\n",
       "      <td>0</td>\n",
       "      <td>0</td>\n",
       "      <td>1</td>\n",
       "    </tr>\n",
       "    <tr>\n",
       "      <th>1</th>\n",
       "      <td>60</td>\n",
       "      <td>2</td>\n",
       "      <td>2</td>\n",
       "      <td>0</td>\n",
       "      <td>Canceled</td>\n",
       "      <td>0</td>\n",
       "      <td>187</td>\n",
       "      <td>4</td>\n",
       "      <td>175</td>\n",
       "      <td>0</td>\n",
       "      <td>...</td>\n",
       "      <td>1</td>\n",
       "      <td>0</td>\n",
       "      <td>0</td>\n",
       "      <td>0</td>\n",
       "      <td>0</td>\n",
       "      <td>1</td>\n",
       "      <td>0</td>\n",
       "      <td>1</td>\n",
       "      <td>1</td>\n",
       "      <td>0</td>\n",
       "    </tr>\n",
       "    <tr>\n",
       "      <th>2</th>\n",
       "      <td>58</td>\n",
       "      <td>3</td>\n",
       "      <td>1</td>\n",
       "      <td>0</td>\n",
       "      <td>Canceled</td>\n",
       "      <td>10</td>\n",
       "      <td>227</td>\n",
       "      <td>1</td>\n",
       "      <td>193</td>\n",
       "      <td>1</td>\n",
       "      <td>...</td>\n",
       "      <td>1</td>\n",
       "      <td>0</td>\n",
       "      <td>0</td>\n",
       "      <td>0</td>\n",
       "      <td>1</td>\n",
       "      <td>0</td>\n",
       "      <td>1</td>\n",
       "      <td>0</td>\n",
       "      <td>0</td>\n",
       "      <td>1</td>\n",
       "    </tr>\n",
       "    <tr>\n",
       "      <th>3</th>\n",
       "      <td>23</td>\n",
       "      <td>1</td>\n",
       "      <td>2</td>\n",
       "      <td>0</td>\n",
       "      <td>Check-In</td>\n",
       "      <td>25</td>\n",
       "      <td>189</td>\n",
       "      <td>2</td>\n",
       "      <td>103</td>\n",
       "      <td>1</td>\n",
       "      <td>...</td>\n",
       "      <td>0</td>\n",
       "      <td>0</td>\n",
       "      <td>1</td>\n",
       "      <td>0</td>\n",
       "      <td>1</td>\n",
       "      <td>0</td>\n",
       "      <td>1</td>\n",
       "      <td>0</td>\n",
       "      <td>0</td>\n",
       "      <td>1</td>\n",
       "    </tr>\n",
       "    <tr>\n",
       "      <th>4</th>\n",
       "      <td>47</td>\n",
       "      <td>1</td>\n",
       "      <td>1</td>\n",
       "      <td>0</td>\n",
       "      <td>Check-In</td>\n",
       "      <td>10</td>\n",
       "      <td>218</td>\n",
       "      <td>1</td>\n",
       "      <td>92</td>\n",
       "      <td>1</td>\n",
       "      <td>...</td>\n",
       "      <td>1</td>\n",
       "      <td>0</td>\n",
       "      <td>0</td>\n",
       "      <td>0</td>\n",
       "      <td>0</td>\n",
       "      <td>1</td>\n",
       "      <td>0</td>\n",
       "      <td>1</td>\n",
       "      <td>0</td>\n",
       "      <td>1</td>\n",
       "    </tr>\n",
       "  </tbody>\n",
       "</table>\n",
       "<p>5 rows × 47 columns</p>\n",
       "</div>"
      ],
      "text/plain": [
       "   Age  Adults  Children  Babies Reservation_Status  Discount_Rate  Room_Rate  \\\n",
       "0   56       2         2       0            No-Show             15        192   \n",
       "1   60       2         2       0           Canceled              0        187   \n",
       "2   58       3         1       0           Canceled             10        227   \n",
       "3   23       1         2       0           Check-In             25        189   \n",
       "4   47       1         1       0           Check-In             10        218   \n",
       "\n",
       "   Expected_stay_days  Reservation_gap  Gender_F  ...  \\\n",
       "0                   2              195         0  ...   \n",
       "1                   4              175         0  ...   \n",
       "2                   1              193         1  ...   \n",
       "3                   2              103         1  ...   \n",
       "4                   1               92         1  ...   \n",
       "\n",
       "   Deposit_type_No Deposit  Deposit_type_Non-Refundable  \\\n",
       "0                        1                            0   \n",
       "1                        1                            0   \n",
       "2                        1                            0   \n",
       "3                        0                            0   \n",
       "4                        1                            0   \n",
       "\n",
       "   Deposit_type_Refundable  Booking_channel_Agent  Booking_channel_Direct  \\\n",
       "0                        0                      1                       0   \n",
       "1                        0                      0                       0   \n",
       "2                        0                      0                       1   \n",
       "3                        1                      0                       1   \n",
       "4                        0                      0                       0   \n",
       "\n",
       "   Booking_channel_Online  Required_Car_Parking_No  Required_Car_Parking_Yes  \\\n",
       "0                       0                        1                         0   \n",
       "1                       1                        0                         1   \n",
       "2                       0                        1                         0   \n",
       "3                       0                        1                         0   \n",
       "4                       1                        0                         1   \n",
       "\n",
       "   Use_Promotion_No  Use_Promotion_Yes  \n",
       "0                 0                  1  \n",
       "1                 1                  0  \n",
       "2                 0                  1  \n",
       "3                 0                  1  \n",
       "4                 0                  1  \n",
       "\n",
       "[5 rows x 47 columns]"
      ]
     },
     "execution_count": 5,
     "metadata": {},
     "output_type": "execute_result"
    }
   ],
   "source": [
    "validation_data.head()"
   ]
  },
  {
   "cell_type": "markdown",
   "id": "allied-death",
   "metadata": {},
   "source": [
    "### Seperating the columns of categorical and quantitative data"
   ]
  },
  {
   "cell_type": "code",
   "execution_count": 6,
   "id": "conceptual-fisher",
   "metadata": {},
   "outputs": [],
   "source": [
    "data_quan_cols = ['Age','Discount_Rate', 'Room_Rate','Expected_stay_days', \n",
    "                        'Reservation_gap', 'Adults', 'Children','Babies']"
   ]
  },
  {
   "cell_type": "code",
   "execution_count": 7,
   "id": "asian-gibson",
   "metadata": {},
   "outputs": [],
   "source": [
    "data_cat_cols = ['Gender', 'Ethnicity', 'Educational_Level', 'Income', 'Country_region',\n",
    "                 'Hotel_Type', 'Meal_Type', 'Visted_Previously',\n",
    "                 'Previous_Cancellations', 'Deposit_type', 'Booking_channel',\n",
    "                 'Required_Car_Parking', 'Use_Promotion']"
   ]
  },
  {
   "cell_type": "markdown",
   "id": "narrow-stranger",
   "metadata": {},
   "source": [
    "### Scaling the quantitative variables"
   ]
  },
  {
   "cell_type": "code",
   "execution_count": 8,
   "id": "compound-roulette",
   "metadata": {},
   "outputs": [],
   "source": [
    "train_data_quan = train_data[data_quan_cols]\n",
    "validation_data_quan = validation_data[data_quan_cols]\n",
    "test_data_quan = test_data[data_quan_cols]"
   ]
  },
  {
   "cell_type": "code",
   "execution_count": 9,
   "id": "executed-fortune",
   "metadata": {},
   "outputs": [],
   "source": [
    "sc = StandardScaler()"
   ]
  },
  {
   "cell_type": "code",
   "execution_count": 10,
   "id": "appropriate-vault",
   "metadata": {},
   "outputs": [],
   "source": [
    "train_data_quan_scaled = sc.fit_transform(train_data_quan)\n",
    "validation_data_quan_scaled = sc.transform(validation_data_quan)\n",
    "test_data_quan_scaled = sc.transform(test_data_quan)"
   ]
  },
  {
   "cell_type": "code",
   "execution_count": 11,
   "id": "cathedral-project",
   "metadata": {},
   "outputs": [
    {
     "data": {
      "text/plain": [
       "array([[-0.25991554, -0.22266812,  0.97691768, ..., -0.28353117,\n",
       "         0.35475481, -0.61317041],\n",
       "       [ 0.32820944, -1.11506055,  0.22480302, ...,  0.56644415,\n",
       "         1.73987514, -0.61317041],\n",
       "       [-0.1292211 , -1.11506055, -1.27942629, ...,  0.56644415,\n",
       "         1.73987514, -0.61317041],\n",
       "       ...,\n",
       "       [ 0.32820944, -0.66886434,  0.61225603, ..., -0.28353117,\n",
       "        -1.03036552,  1.13107011],\n",
       "       [ 1.37376495,  0.66972431, -0.41335487, ...,  0.56644415,\n",
       "         0.35475481, -0.61317041],\n",
       "       [ 0.26286222, -1.11506055,  0.79458685, ...,  0.56644415,\n",
       "        -1.03036552, -0.61317041]])"
      ]
     },
     "execution_count": 11,
     "metadata": {},
     "output_type": "execute_result"
    }
   ],
   "source": [
    "train_data_quan_scaled"
   ]
  },
  {
   "cell_type": "code",
   "execution_count": 12,
   "id": "universal-edmonton",
   "metadata": {},
   "outputs": [
    {
     "data": {
      "text/plain": [
       "numpy.ndarray"
      ]
     },
     "execution_count": 12,
     "metadata": {},
     "output_type": "execute_result"
    }
   ],
   "source": [
    "type(train_data_quan_scaled)"
   ]
  },
  {
   "cell_type": "markdown",
   "id": "turned-reaction",
   "metadata": {},
   "source": [
    "### Separating the categorical variables"
   ]
  },
  {
   "cell_type": "code",
   "execution_count": 13,
   "id": "confused-action",
   "metadata": {},
   "outputs": [
    {
     "data": {
      "text/plain": [
       "['Age',\n",
       " 'Discount_Rate',\n",
       " 'Room_Rate',\n",
       " 'Expected_stay_days',\n",
       " 'Reservation_gap',\n",
       " 'Adults',\n",
       " 'Children',\n",
       " 'Babies',\n",
       " 'Reservation_Status']"
      ]
     },
     "execution_count": 13,
     "metadata": {},
     "output_type": "execute_result"
    }
   ],
   "source": [
    "cols_to_drop = data_quan_cols.copy()\n",
    "cols_to_drop.append(\"Reservation_Status\")\n",
    "cols_to_drop"
   ]
  },
  {
   "cell_type": "code",
   "execution_count": 14,
   "id": "protecting-labor",
   "metadata": {},
   "outputs": [
    {
     "name": "stdout",
     "output_type": "stream",
     "text": [
      "['Age', 'Discount_Rate', 'Room_Rate', 'Expected_stay_days', 'Reservation_gap', 'Adults', 'Children', 'Babies', 'Reservation_Status']\n"
     ]
    }
   ],
   "source": [
    "print(cols_to_drop)"
   ]
  },
  {
   "cell_type": "code",
   "execution_count": 15,
   "id": "treated-november",
   "metadata": {},
   "outputs": [
    {
     "data": {
      "text/html": [
       "<div>\n",
       "<style scoped>\n",
       "    .dataframe tbody tr th:only-of-type {\n",
       "        vertical-align: middle;\n",
       "    }\n",
       "\n",
       "    .dataframe tbody tr th {\n",
       "        vertical-align: top;\n",
       "    }\n",
       "\n",
       "    .dataframe thead th {\n",
       "        text-align: right;\n",
       "    }\n",
       "</style>\n",
       "<table border=\"1\" class=\"dataframe\">\n",
       "  <thead>\n",
       "    <tr style=\"text-align: right;\">\n",
       "      <th></th>\n",
       "      <th>Gender_F</th>\n",
       "      <th>Gender_M</th>\n",
       "      <th>Ethnicity_African American</th>\n",
       "      <th>Ethnicity_Asian American</th>\n",
       "      <th>Ethnicity_Latino</th>\n",
       "      <th>Ethnicity_caucasian</th>\n",
       "      <th>Educational_Level_College</th>\n",
       "      <th>Educational_Level_Grad</th>\n",
       "      <th>Educational_Level_High-School</th>\n",
       "      <th>Educational_Level_Mid-School</th>\n",
       "      <th>...</th>\n",
       "      <th>Deposit_type_No Deposit</th>\n",
       "      <th>Deposit_type_Non-Refundable</th>\n",
       "      <th>Deposit_type_Refundable</th>\n",
       "      <th>Booking_channel_Agent</th>\n",
       "      <th>Booking_channel_Direct</th>\n",
       "      <th>Booking_channel_Online</th>\n",
       "      <th>Required_Car_Parking_No</th>\n",
       "      <th>Required_Car_Parking_Yes</th>\n",
       "      <th>Use_Promotion_No</th>\n",
       "      <th>Use_Promotion_Yes</th>\n",
       "    </tr>\n",
       "  </thead>\n",
       "  <tbody>\n",
       "    <tr>\n",
       "      <th>0</th>\n",
       "      <td>1</td>\n",
       "      <td>0</td>\n",
       "      <td>0</td>\n",
       "      <td>0</td>\n",
       "      <td>1</td>\n",
       "      <td>0</td>\n",
       "      <td>0</td>\n",
       "      <td>1</td>\n",
       "      <td>0</td>\n",
       "      <td>0</td>\n",
       "      <td>...</td>\n",
       "      <td>1</td>\n",
       "      <td>0</td>\n",
       "      <td>0</td>\n",
       "      <td>0</td>\n",
       "      <td>0</td>\n",
       "      <td>1</td>\n",
       "      <td>0</td>\n",
       "      <td>1</td>\n",
       "      <td>0</td>\n",
       "      <td>1</td>\n",
       "    </tr>\n",
       "    <tr>\n",
       "      <th>1</th>\n",
       "      <td>1</td>\n",
       "      <td>0</td>\n",
       "      <td>0</td>\n",
       "      <td>0</td>\n",
       "      <td>1</td>\n",
       "      <td>0</td>\n",
       "      <td>0</td>\n",
       "      <td>0</td>\n",
       "      <td>0</td>\n",
       "      <td>1</td>\n",
       "      <td>...</td>\n",
       "      <td>0</td>\n",
       "      <td>0</td>\n",
       "      <td>1</td>\n",
       "      <td>0</td>\n",
       "      <td>0</td>\n",
       "      <td>1</td>\n",
       "      <td>0</td>\n",
       "      <td>1</td>\n",
       "      <td>1</td>\n",
       "      <td>0</td>\n",
       "    </tr>\n",
       "    <tr>\n",
       "      <th>2</th>\n",
       "      <td>1</td>\n",
       "      <td>0</td>\n",
       "      <td>0</td>\n",
       "      <td>0</td>\n",
       "      <td>0</td>\n",
       "      <td>1</td>\n",
       "      <td>0</td>\n",
       "      <td>1</td>\n",
       "      <td>0</td>\n",
       "      <td>0</td>\n",
       "      <td>...</td>\n",
       "      <td>1</td>\n",
       "      <td>0</td>\n",
       "      <td>0</td>\n",
       "      <td>0</td>\n",
       "      <td>0</td>\n",
       "      <td>1</td>\n",
       "      <td>0</td>\n",
       "      <td>1</td>\n",
       "      <td>1</td>\n",
       "      <td>0</td>\n",
       "    </tr>\n",
       "    <tr>\n",
       "      <th>3</th>\n",
       "      <td>0</td>\n",
       "      <td>1</td>\n",
       "      <td>1</td>\n",
       "      <td>0</td>\n",
       "      <td>0</td>\n",
       "      <td>0</td>\n",
       "      <td>1</td>\n",
       "      <td>0</td>\n",
       "      <td>0</td>\n",
       "      <td>0</td>\n",
       "      <td>...</td>\n",
       "      <td>0</td>\n",
       "      <td>0</td>\n",
       "      <td>1</td>\n",
       "      <td>1</td>\n",
       "      <td>0</td>\n",
       "      <td>0</td>\n",
       "      <td>0</td>\n",
       "      <td>1</td>\n",
       "      <td>0</td>\n",
       "      <td>1</td>\n",
       "    </tr>\n",
       "    <tr>\n",
       "      <th>4</th>\n",
       "      <td>1</td>\n",
       "      <td>0</td>\n",
       "      <td>0</td>\n",
       "      <td>0</td>\n",
       "      <td>1</td>\n",
       "      <td>0</td>\n",
       "      <td>0</td>\n",
       "      <td>0</td>\n",
       "      <td>1</td>\n",
       "      <td>0</td>\n",
       "      <td>...</td>\n",
       "      <td>1</td>\n",
       "      <td>0</td>\n",
       "      <td>0</td>\n",
       "      <td>0</td>\n",
       "      <td>1</td>\n",
       "      <td>0</td>\n",
       "      <td>1</td>\n",
       "      <td>0</td>\n",
       "      <td>0</td>\n",
       "      <td>1</td>\n",
       "    </tr>\n",
       "  </tbody>\n",
       "</table>\n",
       "<p>5 rows × 38 columns</p>\n",
       "</div>"
      ],
      "text/plain": [
       "   Gender_F  Gender_M  Ethnicity_African American  Ethnicity_Asian American  \\\n",
       "0         1         0                           0                         0   \n",
       "1         1         0                           0                         0   \n",
       "2         1         0                           0                         0   \n",
       "3         0         1                           1                         0   \n",
       "4         1         0                           0                         0   \n",
       "\n",
       "   Ethnicity_Latino  Ethnicity_caucasian  Educational_Level_College  \\\n",
       "0                 1                    0                          0   \n",
       "1                 1                    0                          0   \n",
       "2                 0                    1                          0   \n",
       "3                 0                    0                          1   \n",
       "4                 1                    0                          0   \n",
       "\n",
       "   Educational_Level_Grad  Educational_Level_High-School  \\\n",
       "0                       1                              0   \n",
       "1                       0                              0   \n",
       "2                       1                              0   \n",
       "3                       0                              0   \n",
       "4                       0                              1   \n",
       "\n",
       "   Educational_Level_Mid-School  ...  Deposit_type_No Deposit  \\\n",
       "0                             0  ...                        1   \n",
       "1                             1  ...                        0   \n",
       "2                             0  ...                        1   \n",
       "3                             0  ...                        0   \n",
       "4                             0  ...                        1   \n",
       "\n",
       "   Deposit_type_Non-Refundable  Deposit_type_Refundable  \\\n",
       "0                            0                        0   \n",
       "1                            0                        1   \n",
       "2                            0                        0   \n",
       "3                            0                        1   \n",
       "4                            0                        0   \n",
       "\n",
       "   Booking_channel_Agent  Booking_channel_Direct  Booking_channel_Online  \\\n",
       "0                      0                       0                       1   \n",
       "1                      0                       0                       1   \n",
       "2                      0                       0                       1   \n",
       "3                      1                       0                       0   \n",
       "4                      0                       1                       0   \n",
       "\n",
       "   Required_Car_Parking_No  Required_Car_Parking_Yes  Use_Promotion_No  \\\n",
       "0                        0                         1                 0   \n",
       "1                        0                         1                 1   \n",
       "2                        0                         1                 1   \n",
       "3                        0                         1                 0   \n",
       "4                        1                         0                 0   \n",
       "\n",
       "   Use_Promotion_Yes  \n",
       "0                  1  \n",
       "1                  0  \n",
       "2                  0  \n",
       "3                  1  \n",
       "4                  1  \n",
       "\n",
       "[5 rows x 38 columns]"
      ]
     },
     "execution_count": 15,
     "metadata": {},
     "output_type": "execute_result"
    }
   ],
   "source": [
    "train_data_cat = train_data.drop(cols_to_drop, axis=1)\n",
    "validation_data_cat = validation_data.drop(cols_to_drop, axis=1)\n",
    "test_data_cat = test_data.drop(data_quan_cols, axis=1)\n",
    "train_data_cat.head()"
   ]
  },
  {
   "cell_type": "code",
   "execution_count": 16,
   "id": "reverse-crime",
   "metadata": {},
   "outputs": [
    {
     "data": {
      "text/plain": [
       "(27499, 38)"
      ]
     },
     "execution_count": 16,
     "metadata": {},
     "output_type": "execute_result"
    }
   ],
   "source": [
    "train_data_cat_array = train_data_cat.to_numpy()\n",
    "validation_data_cat_array = validation_data_cat.to_numpy()\n",
    "test_data_cat_array = test_data_cat.to_numpy()\n",
    "train_data_cat_array.shape"
   ]
  },
  {
   "cell_type": "markdown",
   "id": "irish-packaging",
   "metadata": {},
   "source": [
    "### Joining the pre-processed data"
   ]
  },
  {
   "cell_type": "code",
   "execution_count": 17,
   "id": "aggregate-waste",
   "metadata": {},
   "outputs": [],
   "source": [
    "train_data_processed = np.concatenate((train_data_quan_scaled, train_data_cat_array), axis = 1)\n",
    "validation_data_processed = np.concatenate((validation_data_quan_scaled, validation_data_cat_array), axis = 1)\n",
    "test_data_processed = np.concatenate((test_data_quan_scaled, test_data_cat_array), axis = 1)"
   ]
  },
  {
   "cell_type": "code",
   "execution_count": 18,
   "id": "processed-savage",
   "metadata": {},
   "outputs": [
    {
     "data": {
      "text/plain": [
       "array([-0.25991554, -0.22266812,  0.97691768, -0.84878606, -0.88293639,\n",
       "       -0.28353117,  0.35475481, -0.61317041,  1.        ,  0.        ,\n",
       "        0.        ,  0.        ,  1.        ,  0.        ,  0.        ,\n",
       "        1.        ,  0.        ,  0.        ,  0.        ,  0.        ,\n",
       "        1.        ,  0.        ,  0.        ,  1.        ,  0.        ,\n",
       "        0.        ,  0.        ,  1.        ,  0.        ,  1.        ,\n",
       "        0.        ,  0.        ,  1.        ,  0.        ,  1.        ,\n",
       "        0.        ,  1.        ,  0.        ,  0.        ,  0.        ,\n",
       "        0.        ,  1.        ,  0.        ,  1.        ,  0.        ,\n",
       "        1.        ])"
      ]
     },
     "execution_count": 18,
     "metadata": {},
     "output_type": "execute_result"
    }
   ],
   "source": [
    "train_data_processed[0]"
   ]
  },
  {
   "cell_type": "code",
   "execution_count": 19,
   "id": "polish-attempt",
   "metadata": {},
   "outputs": [
    {
     "data": {
      "text/plain": [
       "(4318, 8)"
      ]
     },
     "execution_count": 19,
     "metadata": {},
     "output_type": "execute_result"
    }
   ],
   "source": [
    "test_data_quan_scaled.shape"
   ]
  },
  {
   "cell_type": "code",
   "execution_count": 20,
   "id": "indonesian-fetish",
   "metadata": {},
   "outputs": [
    {
     "data": {
      "text/plain": [
       "(4318, 38)"
      ]
     },
     "execution_count": 20,
     "metadata": {},
     "output_type": "execute_result"
    }
   ],
   "source": [
    "test_data_cat_array.shape"
   ]
  },
  {
   "cell_type": "code",
   "execution_count": 21,
   "id": "tough-allen",
   "metadata": {},
   "outputs": [
    {
     "data": {
      "text/plain": [
       "(2749, 46)"
      ]
     },
     "execution_count": 21,
     "metadata": {},
     "output_type": "execute_result"
    }
   ],
   "source": [
    "validation_data_processed.shape"
   ]
  },
  {
   "cell_type": "markdown",
   "id": "exempt-subdivision",
   "metadata": {},
   "source": [
    "### Encoding the labels"
   ]
  },
  {
   "cell_type": "code",
   "execution_count": 22,
   "id": "chronic-sucking",
   "metadata": {},
   "outputs": [],
   "source": [
    "train_y = train_data['Reservation_Status']\n",
    "validation_y = validation_data['Reservation_Status']"
   ]
  },
  {
   "cell_type": "code",
   "execution_count": 23,
   "id": "subjective-duncan",
   "metadata": {},
   "outputs": [],
   "source": [
    "le = preprocessing.LabelEncoder()"
   ]
  },
  {
   "cell_type": "code",
   "execution_count": 24,
   "id": "fuzzy-worth",
   "metadata": {},
   "outputs": [],
   "source": [
    "train_y = le.fit_transform(train_y)\n",
    "validation_y = le.transform(validation_y)"
   ]
  },
  {
   "cell_type": "code",
   "execution_count": 25,
   "id": "organized-particular",
   "metadata": {},
   "outputs": [
    {
     "data": {
      "text/plain": [
       "(2749,)"
      ]
     },
     "execution_count": 25,
     "metadata": {},
     "output_type": "execute_result"
    }
   ],
   "source": [
    "validation_y.shape"
   ]
  },
  {
   "cell_type": "code",
   "execution_count": 26,
   "id": "aggressive-supervision",
   "metadata": {},
   "outputs": [
    {
     "data": {
      "text/plain": [
       "LabelEncoder()"
      ]
     },
     "execution_count": 26,
     "metadata": {},
     "output_type": "execute_result"
    }
   ],
   "source": [
    "le"
   ]
  },
  {
   "cell_type": "markdown",
   "id": "straight-flavor",
   "metadata": {},
   "source": [
    "### Coding..."
   ]
  },
  {
   "cell_type": "code",
   "execution_count": 216,
   "id": "exotic-multimedia",
   "metadata": {},
   "outputs": [],
   "source": [
    "from imblearn.over_sampling import SMOTE\n",
    "#0: Cancelled, 1: Check--in , 2:No Show"
   ]
  },
  {
   "cell_type": "code",
   "execution_count": 241,
   "id": "underlying-affiliate",
   "metadata": {},
   "outputs": [],
   "source": [
    "#Oversampling\n",
    "strategy = {0:4134*5, 1:21240, 2:2125*9}\n",
    "smote = SMOTE(sampling_strategy=strategy) \n",
    "\n",
    "X_smote, y_smote = smote.fit_resample(train_data_processed, train_y)\n",
    "#print(Counter(y_train), Counter(y_smote))"
   ]
  },
  {
   "cell_type": "code",
   "execution_count": 242,
   "id": "civilian-newman",
   "metadata": {},
   "outputs": [],
   "source": [
    "#NearMiss\n",
    "from imblearn.under_sampling import TomekLinks #use TomekLinks and NearMiss\n",
    "\n",
    "strategy = {1: round(21240*0.5), 0: 4134*2, 2: 2125*4}\n",
    "undersample = TomekLinks()\n",
    "\n",
    "X_near , y_near = undersample.fit_resample(X_smote,y_smote)"
   ]
  },
  {
   "cell_type": "code",
   "execution_count": 243,
   "id": "recreational-seven",
   "metadata": {},
   "outputs": [
    {
     "name": "stdout",
     "output_type": "stream",
     "text": [
      "[20661 21231 19125]\n"
     ]
    }
   ],
   "source": [
    "unique_near = np.bincount(y_near)\n",
    "print(unique_near)"
   ]
  },
  {
   "cell_type": "code",
   "execution_count": 244,
   "id": "balanced-emergency",
   "metadata": {},
   "outputs": [],
   "source": [
    "xg_train = xgb.DMatrix(X_near, label=y_near)\n",
    "xg_test = xgb.DMatrix(validation_data_processed, label=validation_y)"
   ]
  },
  {
   "cell_type": "code",
   "execution_count": 245,
   "id": "normal-ferry",
   "metadata": {},
   "outputs": [],
   "source": [
    "param = {}\n",
    "\n",
    "# use softmax multi-class classification\n",
    "param['objective'] = 'multi:softmax'\n",
    "# scale weight of positive examples\n",
    "param['eta'] = 0.257\n",
    "param['max_depth'] = 1\n",
    "param['nthread'] = -1\n",
    "param['num_class'] = 3\n",
    "param['max_delta_step'] = 1\n",
    "param['random_state'] = 0\n",
    "#param['eval_metric'] = 'merror'\n",
    "#param['scale_pos_weight'] = 0.5\n",
    "#param['num_parallel_tree'] = 50"
   ]
  },
  {
   "cell_type": "code",
   "execution_count": 246,
   "id": "positive-manual",
   "metadata": {},
   "outputs": [],
   "source": [
    "watchlist = [(xg_train, 'train'), (xg_test, 'test')]\n",
    "num_round = 100"
   ]
  },
  {
   "cell_type": "code",
   "execution_count": 247,
   "id": "informed-positive",
   "metadata": {
    "scrolled": true
   },
   "outputs": [
    {
     "name": "stdout",
     "output_type": "stream",
     "text": [
      "[13:05:00] WARNING: /Users/travis/build/dmlc/xgboost/src/learner.cc:1061: Starting in XGBoost 1.3.0, the default evaluation metric used with the objective 'multi:softmax' was changed from 'merror' to 'mlogloss'. Explicitly set eval_metric if you'd like to restore the old behavior.\n",
      "[0]\ttrain-mlogloss:1.08087\ttest-mlogloss:1.09525\n",
      "[0]\ttrain-mlogloss:1.08087\ttest-mlogloss:1.09525\n",
      "[1]\ttrain-mlogloss:1.06932\ttest-mlogloss:1.09580\n",
      "[1]\ttrain-mlogloss:1.06932\ttest-mlogloss:1.09580\n",
      "[2]\ttrain-mlogloss:1.06078\ttest-mlogloss:1.09646\n",
      "[2]\ttrain-mlogloss:1.06078\ttest-mlogloss:1.09646\n",
      "[3]\ttrain-mlogloss:1.05443\ttest-mlogloss:1.09944\n"
     ]
    }
   ],
   "source": [
    "bst = xgb.train(param, xg_train, num_round, watchlist, \n",
    "                callbacks=[xgb.callback.EvaluationMonitor(show_stdv=False),xgb.callback.EarlyStopping(3)])"
   ]
  },
  {
   "cell_type": "code",
   "execution_count": 248,
   "id": "dressed-species",
   "metadata": {},
   "outputs": [],
   "source": [
    "y_pred = bst.predict(xg_test)"
   ]
  },
  {
   "cell_type": "code",
   "execution_count": 249,
   "id": "recognized-destruction",
   "metadata": {},
   "outputs": [
    {
     "name": "stdout",
     "output_type": "stream",
     "text": [
      "              precision    recall  f1-score   support\n",
      "\n",
      "           0       0.28      0.34      0.31       741\n",
      "           1       0.62      0.35      0.45      1610\n",
      "           2       0.16      0.37      0.22       398\n",
      "\n",
      "    accuracy                           0.35      2749\n",
      "   macro avg       0.35      0.36      0.33      2749\n",
      "weighted avg       0.46      0.35      0.38      2749\n",
      "\n"
     ]
    }
   ],
   "source": [
    "print(classification_report(validation_y, y_pred))"
   ]
  },
  {
   "cell_type": "code",
   "execution_count": 250,
   "id": "artistic-frequency",
   "metadata": {},
   "outputs": [],
   "source": [
    "xg_to_predict = xgb.DMatrix(test_data_processed)"
   ]
  },
  {
   "cell_type": "code",
   "execution_count": 251,
   "id": "aquatic-spirituality",
   "metadata": {},
   "outputs": [],
   "source": [
    "y_to_predict = bst.predict(xg_to_predict)"
   ]
  },
  {
   "cell_type": "code",
   "execution_count": 252,
   "id": "spread-heart",
   "metadata": {},
   "outputs": [
    {
     "data": {
      "text/plain": [
       "array([0., 2., 1., ..., 2., 1., 0.], dtype=float32)"
      ]
     },
     "execution_count": 252,
     "metadata": {},
     "output_type": "execute_result"
    }
   ],
   "source": [
    "y_to_predict"
   ]
  },
  {
   "cell_type": "code",
   "execution_count": 253,
   "id": "unlimited-black",
   "metadata": {},
   "outputs": [],
   "source": [
    "dataset_pred = pd.DataFrame({'Reservation_Status': y_to_predict})"
   ]
  },
  {
   "cell_type": "code",
   "execution_count": 254,
   "id": "following-fishing",
   "metadata": {},
   "outputs": [
    {
     "data": {
      "text/html": [
       "<div>\n",
       "<style scoped>\n",
       "    .dataframe tbody tr th:only-of-type {\n",
       "        vertical-align: middle;\n",
       "    }\n",
       "\n",
       "    .dataframe tbody tr th {\n",
       "        vertical-align: top;\n",
       "    }\n",
       "\n",
       "    .dataframe thead th {\n",
       "        text-align: right;\n",
       "    }\n",
       "</style>\n",
       "<table border=\"1\" class=\"dataframe\">\n",
       "  <thead>\n",
       "    <tr style=\"text-align: right;\">\n",
       "      <th></th>\n",
       "      <th>Reservation_Status</th>\n",
       "    </tr>\n",
       "  </thead>\n",
       "  <tbody>\n",
       "    <tr>\n",
       "      <th>0</th>\n",
       "      <td>0.0</td>\n",
       "    </tr>\n",
       "    <tr>\n",
       "      <th>1</th>\n",
       "      <td>2.0</td>\n",
       "    </tr>\n",
       "    <tr>\n",
       "      <th>2</th>\n",
       "      <td>1.0</td>\n",
       "    </tr>\n",
       "    <tr>\n",
       "      <th>3</th>\n",
       "      <td>2.0</td>\n",
       "    </tr>\n",
       "    <tr>\n",
       "      <th>4</th>\n",
       "      <td>1.0</td>\n",
       "    </tr>\n",
       "  </tbody>\n",
       "</table>\n",
       "</div>"
      ],
      "text/plain": [
       "   Reservation_Status\n",
       "0                 0.0\n",
       "1                 2.0\n",
       "2                 1.0\n",
       "3                 2.0\n",
       "4                 1.0"
      ]
     },
     "execution_count": 254,
     "metadata": {},
     "output_type": "execute_result"
    }
   ],
   "source": [
    "dataset_pred.head()"
   ]
  },
  {
   "cell_type": "code",
   "execution_count": 255,
   "id": "novel-ridge",
   "metadata": {},
   "outputs": [],
   "source": [
    "dataset_pred.to_csv('predictions_day3_trial.csv')"
   ]
  },
  {
   "cell_type": "markdown",
   "id": "functioning-hawaiian",
   "metadata": {},
   "source": [
    "### HP Tuning XGBoost"
   ]
  },
  {
   "cell_type": "code",
   "execution_count": 156,
   "id": "welsh-superintendent",
   "metadata": {},
   "outputs": [],
   "source": [
    "xg_boost_param_grid = {\n",
    "    'eta' : np.linspace(1.0, 0.0001, 25), 'max_depth': np.arange(1,10), 'sampling_method': ['uniform', 'gradient_based']\n",
    "    }"
   ]
  },
  {
   "cell_type": "code",
   "execution_count": 157,
   "id": "numerous-lancaster",
   "metadata": {},
   "outputs": [],
   "source": [
    "model_xg_boost_base = xgb.XGBClassifier(random_state = 0, num_class = 3, use_label_encoder=False)"
   ]
  },
  {
   "cell_type": "code",
   "execution_count": 158,
   "id": "adopted-jerusalem",
   "metadata": {},
   "outputs": [],
   "source": [
    "model_xg_boost_hp = RandomizedSearchCV(model_xg_boost_base, xg_boost_param_grid, cv=5, n_iter = 100, n_jobs = -1, verbose = 1)"
   ]
  },
  {
   "cell_type": "code",
   "execution_count": 159,
   "id": "weird-puzzle",
   "metadata": {},
   "outputs": [
    {
     "name": "stdout",
     "output_type": "stream",
     "text": [
      "Fitting 5 folds for each of 100 candidates, totalling 500 fits\n"
     ]
    },
    {
     "ename": "KeyboardInterrupt",
     "evalue": "",
     "output_type": "error",
     "traceback": [
      "\u001b[0;31m---------------------------------------------------------------------------\u001b[0m",
      "\u001b[0;31mKeyboardInterrupt\u001b[0m                         Traceback (most recent call last)",
      "\u001b[0;32m<ipython-input-159-4ea023bfe6b0>\u001b[0m in \u001b[0;36m<module>\u001b[0;34m\u001b[0m\n\u001b[0;32m----> 1\u001b[0;31m \u001b[0mmodel_xg_boost_hp\u001b[0m\u001b[0;34m.\u001b[0m\u001b[0mfit\u001b[0m\u001b[0;34m(\u001b[0m\u001b[0mX_near\u001b[0m\u001b[0;34m,\u001b[0m \u001b[0my_near\u001b[0m\u001b[0;34m)\u001b[0m\u001b[0;34m\u001b[0m\u001b[0;34m\u001b[0m\u001b[0m\n\u001b[0m",
      "\u001b[0;32m/opt/anaconda3/envs/datastorm2/lib/python3.7/site-packages/sklearn/utils/validation.py\u001b[0m in \u001b[0;36minner_f\u001b[0;34m(*args, **kwargs)\u001b[0m\n\u001b[1;32m     61\u001b[0m             \u001b[0mextra_args\u001b[0m \u001b[0;34m=\u001b[0m \u001b[0mlen\u001b[0m\u001b[0;34m(\u001b[0m\u001b[0margs\u001b[0m\u001b[0;34m)\u001b[0m \u001b[0;34m-\u001b[0m \u001b[0mlen\u001b[0m\u001b[0;34m(\u001b[0m\u001b[0mall_args\u001b[0m\u001b[0;34m)\u001b[0m\u001b[0;34m\u001b[0m\u001b[0;34m\u001b[0m\u001b[0m\n\u001b[1;32m     62\u001b[0m             \u001b[0;32mif\u001b[0m \u001b[0mextra_args\u001b[0m \u001b[0;34m<=\u001b[0m \u001b[0;36m0\u001b[0m\u001b[0;34m:\u001b[0m\u001b[0;34m\u001b[0m\u001b[0;34m\u001b[0m\u001b[0m\n\u001b[0;32m---> 63\u001b[0;31m                 \u001b[0;32mreturn\u001b[0m \u001b[0mf\u001b[0m\u001b[0;34m(\u001b[0m\u001b[0;34m*\u001b[0m\u001b[0margs\u001b[0m\u001b[0;34m,\u001b[0m \u001b[0;34m**\u001b[0m\u001b[0mkwargs\u001b[0m\u001b[0;34m)\u001b[0m\u001b[0;34m\u001b[0m\u001b[0;34m\u001b[0m\u001b[0m\n\u001b[0m\u001b[1;32m     64\u001b[0m \u001b[0;34m\u001b[0m\u001b[0m\n\u001b[1;32m     65\u001b[0m             \u001b[0;31m# extra_args > 0\u001b[0m\u001b[0;34m\u001b[0m\u001b[0;34m\u001b[0m\u001b[0;34m\u001b[0m\u001b[0m\n",
      "\u001b[0;32m/opt/anaconda3/envs/datastorm2/lib/python3.7/site-packages/sklearn/model_selection/_search.py\u001b[0m in \u001b[0;36mfit\u001b[0;34m(self, X, y, groups, **fit_params)\u001b[0m\n\u001b[1;32m    839\u001b[0m                 \u001b[0;32mreturn\u001b[0m \u001b[0mresults\u001b[0m\u001b[0;34m\u001b[0m\u001b[0;34m\u001b[0m\u001b[0m\n\u001b[1;32m    840\u001b[0m \u001b[0;34m\u001b[0m\u001b[0m\n\u001b[0;32m--> 841\u001b[0;31m             \u001b[0mself\u001b[0m\u001b[0;34m.\u001b[0m\u001b[0m_run_search\u001b[0m\u001b[0;34m(\u001b[0m\u001b[0mevaluate_candidates\u001b[0m\u001b[0;34m)\u001b[0m\u001b[0;34m\u001b[0m\u001b[0;34m\u001b[0m\u001b[0m\n\u001b[0m\u001b[1;32m    842\u001b[0m \u001b[0;34m\u001b[0m\u001b[0m\n\u001b[1;32m    843\u001b[0m             \u001b[0;31m# multimetric is determined here because in the case of a callable\u001b[0m\u001b[0;34m\u001b[0m\u001b[0;34m\u001b[0m\u001b[0;34m\u001b[0m\u001b[0m\n",
      "\u001b[0;32m/opt/anaconda3/envs/datastorm2/lib/python3.7/site-packages/sklearn/model_selection/_search.py\u001b[0m in \u001b[0;36m_run_search\u001b[0;34m(self, evaluate_candidates)\u001b[0m\n\u001b[1;32m   1619\u001b[0m         evaluate_candidates(ParameterSampler(\n\u001b[1;32m   1620\u001b[0m             \u001b[0mself\u001b[0m\u001b[0;34m.\u001b[0m\u001b[0mparam_distributions\u001b[0m\u001b[0;34m,\u001b[0m \u001b[0mself\u001b[0m\u001b[0;34m.\u001b[0m\u001b[0mn_iter\u001b[0m\u001b[0;34m,\u001b[0m\u001b[0;34m\u001b[0m\u001b[0;34m\u001b[0m\u001b[0m\n\u001b[0;32m-> 1621\u001b[0;31m             random_state=self.random_state))\n\u001b[0m",
      "\u001b[0;32m/opt/anaconda3/envs/datastorm2/lib/python3.7/site-packages/sklearn/model_selection/_search.py\u001b[0m in \u001b[0;36mevaluate_candidates\u001b[0;34m(candidate_params, cv, more_results)\u001b[0m\n\u001b[1;32m    807\u001b[0m                                    (split_idx, (train, test)) in product(\n\u001b[1;32m    808\u001b[0m                                    \u001b[0menumerate\u001b[0m\u001b[0;34m(\u001b[0m\u001b[0mcandidate_params\u001b[0m\u001b[0;34m)\u001b[0m\u001b[0;34m,\u001b[0m\u001b[0;34m\u001b[0m\u001b[0;34m\u001b[0m\u001b[0m\n\u001b[0;32m--> 809\u001b[0;31m                                    enumerate(cv.split(X, y, groups))))\n\u001b[0m\u001b[1;32m    810\u001b[0m \u001b[0;34m\u001b[0m\u001b[0m\n\u001b[1;32m    811\u001b[0m                 \u001b[0;32mif\u001b[0m \u001b[0mlen\u001b[0m\u001b[0;34m(\u001b[0m\u001b[0mout\u001b[0m\u001b[0;34m)\u001b[0m \u001b[0;34m<\u001b[0m \u001b[0;36m1\u001b[0m\u001b[0;34m:\u001b[0m\u001b[0;34m\u001b[0m\u001b[0;34m\u001b[0m\u001b[0m\n",
      "\u001b[0;32m/opt/anaconda3/envs/datastorm2/lib/python3.7/site-packages/joblib/parallel.py\u001b[0m in \u001b[0;36m__call__\u001b[0;34m(self, iterable)\u001b[0m\n\u001b[1;32m   1052\u001b[0m \u001b[0;34m\u001b[0m\u001b[0m\n\u001b[1;32m   1053\u001b[0m             \u001b[0;32mwith\u001b[0m \u001b[0mself\u001b[0m\u001b[0;34m.\u001b[0m\u001b[0m_backend\u001b[0m\u001b[0;34m.\u001b[0m\u001b[0mretrieval_context\u001b[0m\u001b[0;34m(\u001b[0m\u001b[0;34m)\u001b[0m\u001b[0;34m:\u001b[0m\u001b[0;34m\u001b[0m\u001b[0;34m\u001b[0m\u001b[0m\n\u001b[0;32m-> 1054\u001b[0;31m                 \u001b[0mself\u001b[0m\u001b[0;34m.\u001b[0m\u001b[0mretrieve\u001b[0m\u001b[0;34m(\u001b[0m\u001b[0;34m)\u001b[0m\u001b[0;34m\u001b[0m\u001b[0;34m\u001b[0m\u001b[0m\n\u001b[0m\u001b[1;32m   1055\u001b[0m             \u001b[0;31m# Make sure that we get a last message telling us we are done\u001b[0m\u001b[0;34m\u001b[0m\u001b[0;34m\u001b[0m\u001b[0;34m\u001b[0m\u001b[0m\n\u001b[1;32m   1056\u001b[0m             \u001b[0melapsed_time\u001b[0m \u001b[0;34m=\u001b[0m \u001b[0mtime\u001b[0m\u001b[0;34m.\u001b[0m\u001b[0mtime\u001b[0m\u001b[0;34m(\u001b[0m\u001b[0;34m)\u001b[0m \u001b[0;34m-\u001b[0m \u001b[0mself\u001b[0m\u001b[0;34m.\u001b[0m\u001b[0m_start_time\u001b[0m\u001b[0;34m\u001b[0m\u001b[0;34m\u001b[0m\u001b[0m\n",
      "\u001b[0;32m/opt/anaconda3/envs/datastorm2/lib/python3.7/site-packages/joblib/parallel.py\u001b[0m in \u001b[0;36mretrieve\u001b[0;34m(self)\u001b[0m\n\u001b[1;32m    931\u001b[0m             \u001b[0;32mtry\u001b[0m\u001b[0;34m:\u001b[0m\u001b[0;34m\u001b[0m\u001b[0;34m\u001b[0m\u001b[0m\n\u001b[1;32m    932\u001b[0m                 \u001b[0;32mif\u001b[0m \u001b[0mgetattr\u001b[0m\u001b[0;34m(\u001b[0m\u001b[0mself\u001b[0m\u001b[0;34m.\u001b[0m\u001b[0m_backend\u001b[0m\u001b[0;34m,\u001b[0m \u001b[0;34m'supports_timeout'\u001b[0m\u001b[0;34m,\u001b[0m \u001b[0;32mFalse\u001b[0m\u001b[0;34m)\u001b[0m\u001b[0;34m:\u001b[0m\u001b[0;34m\u001b[0m\u001b[0;34m\u001b[0m\u001b[0m\n\u001b[0;32m--> 933\u001b[0;31m                     \u001b[0mself\u001b[0m\u001b[0;34m.\u001b[0m\u001b[0m_output\u001b[0m\u001b[0;34m.\u001b[0m\u001b[0mextend\u001b[0m\u001b[0;34m(\u001b[0m\u001b[0mjob\u001b[0m\u001b[0;34m.\u001b[0m\u001b[0mget\u001b[0m\u001b[0;34m(\u001b[0m\u001b[0mtimeout\u001b[0m\u001b[0;34m=\u001b[0m\u001b[0mself\u001b[0m\u001b[0;34m.\u001b[0m\u001b[0mtimeout\u001b[0m\u001b[0;34m)\u001b[0m\u001b[0;34m)\u001b[0m\u001b[0;34m\u001b[0m\u001b[0;34m\u001b[0m\u001b[0m\n\u001b[0m\u001b[1;32m    934\u001b[0m                 \u001b[0;32melse\u001b[0m\u001b[0;34m:\u001b[0m\u001b[0;34m\u001b[0m\u001b[0;34m\u001b[0m\u001b[0m\n\u001b[1;32m    935\u001b[0m                     \u001b[0mself\u001b[0m\u001b[0;34m.\u001b[0m\u001b[0m_output\u001b[0m\u001b[0;34m.\u001b[0m\u001b[0mextend\u001b[0m\u001b[0;34m(\u001b[0m\u001b[0mjob\u001b[0m\u001b[0;34m.\u001b[0m\u001b[0mget\u001b[0m\u001b[0;34m(\u001b[0m\u001b[0;34m)\u001b[0m\u001b[0;34m)\u001b[0m\u001b[0;34m\u001b[0m\u001b[0;34m\u001b[0m\u001b[0m\n",
      "\u001b[0;32m/opt/anaconda3/envs/datastorm2/lib/python3.7/site-packages/joblib/_parallel_backends.py\u001b[0m in \u001b[0;36mwrap_future_result\u001b[0;34m(future, timeout)\u001b[0m\n\u001b[1;32m    540\u001b[0m         AsyncResults.get from multiprocessing.\"\"\"\n\u001b[1;32m    541\u001b[0m         \u001b[0;32mtry\u001b[0m\u001b[0;34m:\u001b[0m\u001b[0;34m\u001b[0m\u001b[0;34m\u001b[0m\u001b[0m\n\u001b[0;32m--> 542\u001b[0;31m             \u001b[0;32mreturn\u001b[0m \u001b[0mfuture\u001b[0m\u001b[0;34m.\u001b[0m\u001b[0mresult\u001b[0m\u001b[0;34m(\u001b[0m\u001b[0mtimeout\u001b[0m\u001b[0;34m=\u001b[0m\u001b[0mtimeout\u001b[0m\u001b[0;34m)\u001b[0m\u001b[0;34m\u001b[0m\u001b[0;34m\u001b[0m\u001b[0m\n\u001b[0m\u001b[1;32m    543\u001b[0m         \u001b[0;32mexcept\u001b[0m \u001b[0mCfTimeoutError\u001b[0m \u001b[0;32mas\u001b[0m \u001b[0me\u001b[0m\u001b[0;34m:\u001b[0m\u001b[0;34m\u001b[0m\u001b[0;34m\u001b[0m\u001b[0m\n\u001b[1;32m    544\u001b[0m             \u001b[0;32mraise\u001b[0m \u001b[0mTimeoutError\u001b[0m \u001b[0;32mfrom\u001b[0m \u001b[0me\u001b[0m\u001b[0;34m\u001b[0m\u001b[0;34m\u001b[0m\u001b[0m\n",
      "\u001b[0;32m/opt/anaconda3/envs/datastorm2/lib/python3.7/concurrent/futures/_base.py\u001b[0m in \u001b[0;36mresult\u001b[0;34m(self, timeout)\u001b[0m\n\u001b[1;32m    428\u001b[0m                 \u001b[0;32mreturn\u001b[0m \u001b[0mself\u001b[0m\u001b[0;34m.\u001b[0m\u001b[0m__get_result\u001b[0m\u001b[0;34m(\u001b[0m\u001b[0;34m)\u001b[0m\u001b[0;34m\u001b[0m\u001b[0;34m\u001b[0m\u001b[0m\n\u001b[1;32m    429\u001b[0m \u001b[0;34m\u001b[0m\u001b[0m\n\u001b[0;32m--> 430\u001b[0;31m             \u001b[0mself\u001b[0m\u001b[0;34m.\u001b[0m\u001b[0m_condition\u001b[0m\u001b[0;34m.\u001b[0m\u001b[0mwait\u001b[0m\u001b[0;34m(\u001b[0m\u001b[0mtimeout\u001b[0m\u001b[0;34m)\u001b[0m\u001b[0;34m\u001b[0m\u001b[0;34m\u001b[0m\u001b[0m\n\u001b[0m\u001b[1;32m    431\u001b[0m \u001b[0;34m\u001b[0m\u001b[0m\n\u001b[1;32m    432\u001b[0m             \u001b[0;32mif\u001b[0m \u001b[0mself\u001b[0m\u001b[0;34m.\u001b[0m\u001b[0m_state\u001b[0m \u001b[0;32min\u001b[0m \u001b[0;34m[\u001b[0m\u001b[0mCANCELLED\u001b[0m\u001b[0;34m,\u001b[0m \u001b[0mCANCELLED_AND_NOTIFIED\u001b[0m\u001b[0;34m]\u001b[0m\u001b[0;34m:\u001b[0m\u001b[0;34m\u001b[0m\u001b[0;34m\u001b[0m\u001b[0m\n",
      "\u001b[0;32m/opt/anaconda3/envs/datastorm2/lib/python3.7/threading.py\u001b[0m in \u001b[0;36mwait\u001b[0;34m(self, timeout)\u001b[0m\n\u001b[1;32m    294\u001b[0m         \u001b[0;32mtry\u001b[0m\u001b[0;34m:\u001b[0m    \u001b[0;31m# restore state no matter what (e.g., KeyboardInterrupt)\u001b[0m\u001b[0;34m\u001b[0m\u001b[0;34m\u001b[0m\u001b[0m\n\u001b[1;32m    295\u001b[0m             \u001b[0;32mif\u001b[0m \u001b[0mtimeout\u001b[0m \u001b[0;32mis\u001b[0m \u001b[0;32mNone\u001b[0m\u001b[0;34m:\u001b[0m\u001b[0;34m\u001b[0m\u001b[0;34m\u001b[0m\u001b[0m\n\u001b[0;32m--> 296\u001b[0;31m                 \u001b[0mwaiter\u001b[0m\u001b[0;34m.\u001b[0m\u001b[0macquire\u001b[0m\u001b[0;34m(\u001b[0m\u001b[0;34m)\u001b[0m\u001b[0;34m\u001b[0m\u001b[0;34m\u001b[0m\u001b[0m\n\u001b[0m\u001b[1;32m    297\u001b[0m                 \u001b[0mgotit\u001b[0m \u001b[0;34m=\u001b[0m \u001b[0;32mTrue\u001b[0m\u001b[0;34m\u001b[0m\u001b[0;34m\u001b[0m\u001b[0m\n\u001b[1;32m    298\u001b[0m             \u001b[0;32melse\u001b[0m\u001b[0;34m:\u001b[0m\u001b[0;34m\u001b[0m\u001b[0;34m\u001b[0m\u001b[0m\n",
      "\u001b[0;31mKeyboardInterrupt\u001b[0m: "
     ]
    }
   ],
   "source": [
    "model_xg_boost_hp.fit(X_near, y_near)"
   ]
  },
  {
   "cell_type": "code",
   "execution_count": null,
   "id": "dependent-reflection",
   "metadata": {},
   "outputs": [],
   "source": [
    "model_xg_boost_hp.best_params_"
   ]
  },
  {
   "cell_type": "code",
   "execution_count": null,
   "id": "incident-cycling",
   "metadata": {},
   "outputs": [],
   "source": [
    "model_xg_boost_hp.best_score_"
   ]
  },
  {
   "cell_type": "markdown",
   "id": "checked-animal",
   "metadata": {},
   "source": [
    "### Lasso Feature Selection"
   ]
  },
  {
   "cell_type": "code",
   "execution_count": 160,
   "id": "competent-architect",
   "metadata": {},
   "outputs": [],
   "source": [
    "from sklearn.feature_selection import SelectFromModel\n",
    "sel_ = SelectFromModel(xgb.XGBClassifier(penalty='l1', random_state = 0, num_class = 3, use_label_encoder=False))"
   ]
  },
  {
   "cell_type": "code",
   "execution_count": 161,
   "id": "armed-generic",
   "metadata": {},
   "outputs": [
    {
     "name": "stdout",
     "output_type": "stream",
     "text": [
      "[12:00:12] WARNING: /Users/travis/build/dmlc/xgboost/src/learner.cc:541: \n",
      "Parameters: { penalty } might not be used.\n",
      "\n",
      "  This may not be accurate due to some parameters are only used in language bindings but\n",
      "  passed down to XGBoost core.  Or some parameters are not used but slip through this\n",
      "  verification. Please open an issue if you find above cases.\n",
      "\n",
      "\n",
      "[12:00:12] WARNING: /Users/travis/build/dmlc/xgboost/src/learner.cc:1061: Starting in XGBoost 1.3.0, the default evaluation metric used with the objective 'multi:softprob' was changed from 'merror' to 'mlogloss'. Explicitly set eval_metric if you'd like to restore the old behavior.\n"
     ]
    },
    {
     "data": {
      "text/plain": [
       "SelectFromModel(estimator=XGBClassifier(base_score=None, booster=None,\n",
       "                                        colsample_bylevel=None,\n",
       "                                        colsample_bynode=None,\n",
       "                                        colsample_bytree=None, gamma=None,\n",
       "                                        gpu_id=None, importance_type='gain',\n",
       "                                        interaction_constraints=None,\n",
       "                                        learning_rate=None, max_delta_step=None,\n",
       "                                        max_depth=None, min_child_weight=None,\n",
       "                                        missing=nan, monotone_constraints=None,\n",
       "                                        n_estimators=100, n_jobs=None,\n",
       "                                        num_class=3, num_parallel_tree=None,\n",
       "                                        penalty='l1', random_state=0,\n",
       "                                        reg_alpha=None, reg_lambda=None,\n",
       "                                        scale_pos_weight=None, subsample=None,\n",
       "                                        tree_method=None,\n",
       "                                        use_label_encoder=False,\n",
       "                                        validate_parameters=None,\n",
       "                                        verbosity=None))"
      ]
     },
     "execution_count": 161,
     "metadata": {},
     "output_type": "execute_result"
    }
   ],
   "source": [
    "sel_.fit(X_near, y_near)"
   ]
  },
  {
   "cell_type": "code",
   "execution_count": 163,
   "id": "opponent-spotlight",
   "metadata": {},
   "outputs": [
    {
     "data": {
      "text/plain": [
       "array([False, False, False, False, False,  True, False, False, False,\n",
       "       False,  True,  True,  True,  True,  True,  True, False,  True,\n",
       "        True,  True,  True,  True, False, False,  True, False,  True,\n",
       "       False,  True,  True,  True,  True,  True, False, False, False,\n",
       "        True, False, False, False, False,  True, False, False, False,\n",
       "       False])"
      ]
     },
     "execution_count": 163,
     "metadata": {},
     "output_type": "execute_result"
    }
   ],
   "source": [
    "sel_.get_support()"
   ]
  },
  {
   "cell_type": "code",
   "execution_count": 166,
   "id": "brave-heath",
   "metadata": {},
   "outputs": [],
   "source": [
    "X_near_pd = pd.DataFrame(X_near)"
   ]
  },
  {
   "cell_type": "code",
   "execution_count": 167,
   "id": "crude-assistant",
   "metadata": {},
   "outputs": [
    {
     "name": "stdout",
     "output_type": "stream",
     "text": [
      "total features: 46\n",
      "selected features: 21\n"
     ]
    },
    {
     "ename": "AttributeError",
     "evalue": "Coefficients are not defined for Booster type None",
     "output_type": "error",
     "traceback": [
      "\u001b[0;31m---------------------------------------------------------------------------\u001b[0m",
      "\u001b[0;31mAttributeError\u001b[0m                            Traceback (most recent call last)",
      "\u001b[0;32m<ipython-input-167-50ffbbb839cf>\u001b[0m in \u001b[0;36m<module>\u001b[0;34m\u001b[0m\n\u001b[1;32m      3\u001b[0m \u001b[0mprint\u001b[0m\u001b[0;34m(\u001b[0m\u001b[0;34m'selected features: {}'\u001b[0m\u001b[0;34m.\u001b[0m\u001b[0mformat\u001b[0m\u001b[0;34m(\u001b[0m\u001b[0mlen\u001b[0m\u001b[0;34m(\u001b[0m\u001b[0mselected_feat\u001b[0m\u001b[0;34m)\u001b[0m\u001b[0;34m)\u001b[0m\u001b[0;34m)\u001b[0m\u001b[0;34m\u001b[0m\u001b[0;34m\u001b[0m\u001b[0m\n\u001b[1;32m      4\u001b[0m print('features with coefficients shrank to zero: {}'.format(\n\u001b[0;32m----> 5\u001b[0;31m       np.sum(sel_.estimator_.coef_ == 0)))\n\u001b[0m",
      "\u001b[0;32m/opt/anaconda3/envs/datastorm2/lib/python3.7/site-packages/xgboost/sklearn.py\u001b[0m in \u001b[0;36mcoef_\u001b[0;34m(self)\u001b[0m\n\u001b[1;32m    763\u001b[0m             raise AttributeError(\n\u001b[1;32m    764\u001b[0m                 \u001b[0;34m'Coefficients are not defined for Booster type {}'\u001b[0m\u001b[0;34m\u001b[0m\u001b[0;34m\u001b[0m\u001b[0m\n\u001b[0;32m--> 765\u001b[0;31m                 .format(self.booster))\n\u001b[0m\u001b[1;32m    766\u001b[0m         \u001b[0mb\u001b[0m \u001b[0;34m=\u001b[0m \u001b[0mself\u001b[0m\u001b[0;34m.\u001b[0m\u001b[0mget_booster\u001b[0m\u001b[0;34m(\u001b[0m\u001b[0;34m)\u001b[0m\u001b[0;34m\u001b[0m\u001b[0;34m\u001b[0m\u001b[0m\n\u001b[1;32m    767\u001b[0m         coef = np.array(json.loads(\n",
      "\u001b[0;31mAttributeError\u001b[0m: Coefficients are not defined for Booster type None"
     ]
    }
   ],
   "source": [
    "selected_feat = X_near_pd.columns[(sel_.get_support())]\n",
    "print('total features: {}'.format((X_near_pd.shape[1])))\n",
    "print('selected features: {}'.format(len(selected_feat)))\n",
    "print('features with coefficients shrank to zero: {}'.format(\n",
    "      np.sum(sel_.estimator_.coef_ == 0)))"
   ]
  },
  {
   "cell_type": "code",
   "execution_count": 177,
   "id": "working-electric",
   "metadata": {},
   "outputs": [
    {
     "data": {
      "text/plain": [
       "Int64Index([ 5, 10, 11, 12, 13, 14, 15, 17, 18, 19, 20, 21, 24, 26, 28, 29, 30,\n",
       "            31, 32, 36, 41],\n",
       "           dtype='int64')"
      ]
     },
     "execution_count": 177,
     "metadata": {},
     "output_type": "execute_result"
    }
   ],
   "source": [
    "selected_feat"
   ]
  },
  {
   "cell_type": "code",
   "execution_count": 173,
   "id": "reduced-lebanon",
   "metadata": {},
   "outputs": [],
   "source": [
    "selected_feat_data = X_near_pd.iloc[:,[5, 10, 11, 12, 13, 14, 15, 17, 18, 19, 20, 21, 24, 26, 28, 29, 30,31, 32, 36, 41]]"
   ]
  },
  {
   "cell_type": "code",
   "execution_count": 174,
   "id": "planned-print",
   "metadata": {},
   "outputs": [
    {
     "data": {
      "text/plain": [
       "(61016, 21)"
      ]
     },
     "execution_count": 174,
     "metadata": {},
     "output_type": "execute_result"
    }
   ],
   "source": [
    "selected_feat_data.shape"
   ]
  },
  {
   "cell_type": "code",
   "execution_count": null,
   "id": "complex-samba",
   "metadata": {},
   "outputs": [],
   "source": [
    "param['objective'] = 'multi:softmax'\n",
    "# scale weight of positive examples\n",
    "param['eta'] = 0.257\n",
    "param['max_depth'] = 1\n",
    "param['nthread'] = -1\n",
    "param['num_class'] = 3\n",
    "param['max_delta_step'] = 1"
   ]
  },
  {
   "cell_type": "code",
   "execution_count": 195,
   "id": "liquid-divide",
   "metadata": {},
   "outputs": [],
   "source": [
    "model_xg_boost_l1 = xgb.XGBClassifier(random_state = 0, num_class = 3, use_label_encoder=False,\n",
    "                                      objective='multi:softmax', eta = 0.257, max_depth=1  )"
   ]
  },
  {
   "cell_type": "code",
   "execution_count": 196,
   "id": "executive-award",
   "metadata": {},
   "outputs": [
    {
     "name": "stdout",
     "output_type": "stream",
     "text": [
      "[12:28:33] WARNING: /Users/travis/build/dmlc/xgboost/src/learner.cc:1061: Starting in XGBoost 1.3.0, the default evaluation metric used with the objective 'multi:softprob' was changed from 'merror' to 'mlogloss'. Explicitly set eval_metric if you'd like to restore the old behavior.\n"
     ]
    },
    {
     "data": {
      "text/plain": [
       "XGBClassifier(base_score=0.5, booster='gbtree', colsample_bylevel=1,\n",
       "              colsample_bynode=1, colsample_bytree=1, eta=0.257, gamma=0,\n",
       "              gpu_id=-1, importance_type='gain', interaction_constraints='',\n",
       "              learning_rate=0.256999999, max_delta_step=0, max_depth=1,\n",
       "              min_child_weight=1, missing=nan, monotone_constraints='()',\n",
       "              n_estimators=100, n_jobs=16, num_class=3, num_parallel_tree=1,\n",
       "              objective='multi:softprob', random_state=0, reg_alpha=0,\n",
       "              reg_lambda=1, scale_pos_weight=None, subsample=1,\n",
       "              tree_method='exact', use_label_encoder=False,\n",
       "              validate_parameters=1, verbosity=None)"
      ]
     },
     "execution_count": 196,
     "metadata": {},
     "output_type": "execute_result"
    }
   ],
   "source": [
    "model_xg_boost_l1.fit(X_near,y_near)"
   ]
  },
  {
   "cell_type": "code",
   "execution_count": 192,
   "id": "civil-syndication",
   "metadata": {},
   "outputs": [],
   "source": [
    "validation_data_processed_pd = pd.DataFrame(validation_data_processed)\n",
    "validation_data_l1 = validation_data_processed_pd.iloc[:, selected_feat]"
   ]
  },
  {
   "cell_type": "code",
   "execution_count": 197,
   "id": "split-jewelry",
   "metadata": {},
   "outputs": [],
   "source": [
    "y_pred = model_xg_boost_l1.predict(validation_data_processed)"
   ]
  },
  {
   "cell_type": "code",
   "execution_count": 198,
   "id": "popular-there",
   "metadata": {},
   "outputs": [
    {
     "name": "stdout",
     "output_type": "stream",
     "text": [
      "              precision    recall  f1-score   support\n",
      "\n",
      "           0       0.28      0.24      0.26       741\n",
      "           1       0.59      0.70      0.64      1610\n",
      "           2       0.11      0.06      0.07       398\n",
      "\n",
      "    accuracy                           0.48      2749\n",
      "   macro avg       0.33      0.33      0.33      2749\n",
      "weighted avg       0.44      0.48      0.46      2749\n",
      "\n"
     ]
    }
   ],
   "source": [
    "print(classification_report(validation_y, y_pred))"
   ]
  },
  {
   "cell_type": "code",
   "execution_count": null,
   "id": "professional-seventh",
   "metadata": {},
   "outputs": [],
   "source": []
  }
 ],
 "metadata": {
  "kernelspec": {
   "display_name": "Python 3",
   "language": "python",
   "name": "python3"
  },
  "language_info": {
   "codemirror_mode": {
    "name": "ipython",
    "version": 3
   },
   "file_extension": ".py",
   "mimetype": "text/x-python",
   "name": "python",
   "nbconvert_exporter": "python",
   "pygments_lexer": "ipython3",
   "version": "3.7.10"
  }
 },
 "nbformat": 4,
 "nbformat_minor": 5
}

{
 "cells": [
  {
   "cell_type": "markdown",
   "id": "athletic-christopher",
   "metadata": {},
   "source": [
    "### Importing Necessary Libraries"
   ]
  },
  {
   "cell_type": "code",
   "execution_count": null,
   "id": "going-healing",
   "metadata": {},
   "outputs": [],
   "source": [
    "import pandas as pd\n",
    "import numpy as np\n",
    "import matplotlib.pyplot as plt\n",
    "%matplotlib inline\n",
    "import seaborn as sns\n",
    "from sklearn.model_selection import train_test_split\n",
    "from sklearn.metrics import accuracy_score\n",
    "from sklearn.metrics import confusion_matrix\n",
    "from sklearn.model_selection import cross_val_score\n",
    "from sklearn.preprocessing import StandardScaler #you can use minmax scaler too\n",
    "#Import other necessary model libraries, for this example, using Logistic Regression"
   ]
  },
  {
   "cell_type": "markdown",
   "id": "collaborative-hollywood",
   "metadata": {},
   "source": [
    "### Extracting the dataset"
   ]
  },
  {
   "cell_type": "code",
   "execution_count": null,
   "id": "macro-assault",
   "metadata": {},
   "outputs": [],
   "source": [
    "train_data = pd.read_csv(r\"../Data/Hotel-A-train.csv\", header = 0)\n",
    "train_data.head(10) #view the first 10 rows of the dataset"
   ]
  },
  {
   "cell_type": "code",
   "execution_count": null,
   "id": "buried-evans",
   "metadata": {},
   "outputs": [],
   "source": [
    "train_data.shape #view the dimensions of the data"
   ]
  },
  {
   "cell_type": "markdown",
   "id": "broke-calvin",
   "metadata": {},
   "source": [
    "### Creating dummy variables for categorical data"
   ]
  },
  {
   "cell_type": "code",
   "execution_count": null,
   "id": "expired-increase",
   "metadata": {},
   "outputs": [],
   "source": [
    "cat_vars=['cat_col_1','cat_col_2','...']\n",
    "for var in cat_vars:\n",
    "    cat_list='var'+'_'+var\n",
    "    cat_list = pd.get_dummies(train_data[var], prefix=var)\n",
    "    train_data_1=train_data.join(cat_list)\n",
    "    train_data=train_data_1"
   ]
  },
  {
   "cell_type": "code",
   "execution_count": null,
   "id": "historic-fishing",
   "metadata": {},
   "outputs": [],
   "source": [
    "cat_vars=['cat_col_1','cat_col_2','...']\n",
    "train_data_vars=train_data.columns.values.tolist()\n",
    "to_keep=[i for i in train_data_vars if i not in cat_vars]"
   ]
  },
  {
   "cell_type": "code",
   "execution_count": null,
   "id": "mysterious-inventory",
   "metadata": {},
   "outputs": [],
   "source": [
    "train_data_final=train_data[to_keep]\n",
    "train_data_final.columns.values"
   ]
  },
  {
   "cell_type": "code",
   "execution_count": null,
   "id": "invalid-warner",
   "metadata": {},
   "outputs": [],
   "source": [
    "#seperate X values from the dataset\n",
    "X = train_data_final.iloc[:, 1:24].values #[nth row:mth row, nth col:mth column]"
   ]
  },
  {
   "cell_type": "code",
   "execution_count": null,
   "id": "important-blank",
   "metadata": {},
   "outputs": [],
   "source": [
    "#seperate the target values\n",
    "y = train_data_final.iloc[:, -1].values #[nth row:mth row, -1(denotes the last col or can use the index of the last col too)]"
   ]
  },
  {
   "cell_type": "markdown",
   "id": "peripheral-luther",
   "metadata": {},
   "source": [
    "### Splitting the dataset to train/test"
   ]
  },
  {
   "cell_type": "code",
   "execution_count": null,
   "id": "rolled-mexican",
   "metadata": {},
   "outputs": [],
   "source": [
    "X_train, X_test, Y_train, Y_test = train_test_split(X, y, random_state=12, test_size = 0.05)"
   ]
  },
  {
   "cell_type": "markdown",
   "id": "novel-treasurer",
   "metadata": {},
   "source": [
    "- random_state is important, it would select the same set of data to train and test,so keep it constant\n",
    "- test_size may vary, depending on the size of the dataset. If size is large, you can use 0.2 to create the test size"
   ]
  },
  {
   "cell_type": "markdown",
   "id": "beautiful-capital",
   "metadata": {},
   "source": [
    "### Scaling the dataset"
   ]
  },
  {
   "cell_type": "code",
   "execution_count": null,
   "id": "dependent-acting",
   "metadata": {},
   "outputs": [],
   "source": [
    "standard_X = StandardScaler()\n",
    "X_train = standard_X.fit_transform(X_train)\n",
    "X_test = standard_X.transform(X_test)"
   ]
  },
  {
   "cell_type": "markdown",
   "id": "fourth-ultimate",
   "metadata": {},
   "source": [
    "### Model Building"
   ]
  },
  {
   "cell_type": "code",
   "execution_count": null,
   "id": "civic-violation",
   "metadata": {},
   "outputs": [],
   "source": [
    "model = LogisticRegression()"
   ]
  },
  {
   "cell_type": "code",
   "execution_count": null,
   "id": "female-dublin",
   "metadata": {},
   "outputs": [],
   "source": [
    "model.fit(X_train, Y_train) #training the model"
   ]
  },
  {
   "cell_type": "markdown",
   "id": "convertible-copying",
   "metadata": {},
   "source": [
    "### Testing the model"
   ]
  },
  {
   "cell_type": "code",
   "execution_count": null,
   "id": "piano-hybrid",
   "metadata": {},
   "outputs": [],
   "source": [
    "y_pred = model.predict(X_test)"
   ]
  },
  {
   "cell_type": "code",
   "execution_count": null,
   "id": "demonstrated-logan",
   "metadata": {},
   "outputs": [],
   "source": [
    "# Printing confusion matrix\n",
    "confusion_matrix(Y_test, y_pred)"
   ]
  },
  {
   "cell_type": "code",
   "execution_count": 1,
   "id": "assigned-variety",
   "metadata": {},
   "outputs": [
    {
     "ename": "NameError",
     "evalue": "name 'Y_test' is not defined",
     "output_type": "error",
     "traceback": [
      "\u001b[0;31m---------------------------------------------------------------------------\u001b[0m",
      "\u001b[0;31mNameError\u001b[0m                                 Traceback (most recent call last)",
      "\u001b[0;32m<ipython-input-1-808c2674dd24>\u001b[0m in \u001b[0;36m<module>\u001b[0;34m\u001b[0m\n\u001b[1;32m      1\u001b[0m \u001b[0;31m# Getting f1 score\u001b[0m\u001b[0;34m\u001b[0m\u001b[0;34m\u001b[0m\u001b[0;34m\u001b[0m\u001b[0m\n\u001b[1;32m      2\u001b[0m \u001b[0;32mfrom\u001b[0m \u001b[0msklearn\u001b[0m\u001b[0;34m.\u001b[0m\u001b[0mmetrics\u001b[0m \u001b[0;32mimport\u001b[0m \u001b[0mclassification_report\u001b[0m\u001b[0;34m\u001b[0m\u001b[0;34m\u001b[0m\u001b[0m\n\u001b[0;32m----> 3\u001b[0;31m \u001b[0mprint\u001b[0m\u001b[0;34m(\u001b[0m\u001b[0mclassification_report\u001b[0m\u001b[0;34m(\u001b[0m\u001b[0mY_test\u001b[0m\u001b[0;34m,\u001b[0m \u001b[0my_pred\u001b[0m\u001b[0;34m)\u001b[0m\u001b[0;34m)\u001b[0m\u001b[0;34m\u001b[0m\u001b[0;34m\u001b[0m\u001b[0m\n\u001b[0m",
      "\u001b[0;31mNameError\u001b[0m: name 'Y_test' is not defined"
     ]
    }
   ],
   "source": [
    "# Getting f1 score\n",
    "from sklearn.metrics import classification_report\n",
    "print(classification_report(Y_test, y_pred))"
   ]
  },
  {
   "cell_type": "code",
   "execution_count": null,
   "id": "traditional-helen",
   "metadata": {},
   "outputs": [],
   "source": []
  }
 ],
 "metadata": {
  "kernelspec": {
   "display_name": "Python 3",
   "language": "python",
   "name": "python3"
  },
  "language_info": {
   "codemirror_mode": {
    "name": "ipython",
    "version": 3
   },
   "file_extension": ".py",
   "mimetype": "text/x-python",
   "name": "python",
   "nbconvert_exporter": "python",
   "pygments_lexer": "ipython3",
   "version": "3.7.10"
  }
 },
 "nbformat": 4,
 "nbformat_minor": 5
}

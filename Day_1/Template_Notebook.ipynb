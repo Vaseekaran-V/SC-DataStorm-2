{
 "cells": [
  {
   "cell_type": "markdown",
   "id": "controlled-cradle",
   "metadata": {},
   "source": [
    "### Importing Necessary Libraries"
   ]
  },
  {
   "cell_type": "code",
   "execution_count": null,
   "id": "isolated-nickname",
   "metadata": {},
   "outputs": [],
   "source": [
    "import pandas as pd\n",
    "import numpy as np\n",
    "import matplotlib.pyplot as plt\n",
    "%matplotlib inline\n",
    "import seaborn as sns\n",
    "from sklearn.model_selection import train_test_split\n",
    "from sklearn.metrics import accuracy_score\n",
    "from sklearn.metrics import confusion_matrix\n",
    "from sklearn.model_selection import cross_val_score\n",
    "from sklearn.preprocessing import StandardScaler #you can use minmax scaler too\n",
    "#Import other necessary model libraries, for this example, using Logistic Regression"
   ]
  },
  {
   "cell_type": "markdown",
   "id": "indirect-apparel",
   "metadata": {},
   "source": [
    "### Extracting the dataset"
   ]
  },
  {
   "cell_type": "code",
   "execution_count": null,
   "id": "virtual-scanning",
   "metadata": {},
   "outputs": [],
   "source": [
    "data = pd.read_csv(r\"<location of the file\", header = 0)\n",
    "data.head(10) #view the first 10 rows of the dataset"
   ]
  },
  {
   "cell_type": "code",
   "execution_count": null,
   "id": "upset-silver",
   "metadata": {},
   "outputs": [],
   "source": [
    "data.shape #view the dimensions of the data"
   ]
  },
  {
   "cell_type": "code",
   "execution_count": null,
   "id": "wireless-chair",
   "metadata": {},
   "outputs": [],
   "source": [
    "#seperate X values from the dataset\n",
    "X = data.iloc[:, 1:24].values #[nth row:mth row, nth col:mth column]\n",
    "X"
   ]
  },
  {
   "cell_type": "code",
   "execution_count": null,
   "id": "sweet-syracuse",
   "metadata": {},
   "outputs": [],
   "source": [
    "#seperate the target values\n",
    "y = data.iloc[:, -1].values #[nth row:mth row, -1(denotes the last col or can use the index of the last col too)]"
   ]
  },
  {
   "cell_type": "markdown",
   "id": "spatial-morgan",
   "metadata": {},
   "source": [
    "### Splitting the dataset to train/test"
   ]
  },
  {
   "cell_type": "code",
   "execution_count": null,
   "id": "domestic-promise",
   "metadata": {},
   "outputs": [],
   "source": [
    "X_train, X_test, Y_train, Y_test = train_test_split(X, y, random_state=12, test_size = 0.05)"
   ]
  },
  {
   "cell_type": "markdown",
   "id": "alpine-component",
   "metadata": {},
   "source": [
    "- random_state is important, it would select the same set of data to train and test,so keep it constant\n",
    "- test_size may vary, depending on the size of the dataset. If size is large, you can use 0.2 to create the test size"
   ]
  },
  {
   "cell_type": "markdown",
   "id": "going-example",
   "metadata": {},
   "source": [
    "### Scaling the dataset"
   ]
  },
  {
   "cell_type": "code",
   "execution_count": null,
   "id": "informed-disease",
   "metadata": {},
   "outputs": [],
   "source": [
    "standard_X = StandardScaler()\n",
    "X_train = standard_X.fit_transform(X_train)\n",
    "X_test = standard_X.transform(X_test)"
   ]
  },
  {
   "cell_type": "markdown",
   "id": "incorporated-convention",
   "metadata": {},
   "source": [
    "### Model Building"
   ]
  },
  {
   "cell_type": "code",
   "execution_count": null,
   "id": "elect-liability",
   "metadata": {},
   "outputs": [],
   "source": [
    "model = LogisticRegression()"
   ]
  },
  {
   "cell_type": "code",
   "execution_count": null,
   "id": "exclusive-emission",
   "metadata": {},
   "outputs": [],
   "source": [
    "model.fit(X_train, Y_train) #training the model"
   ]
  },
  {
   "cell_type": "markdown",
   "id": "behind-battery",
   "metadata": {},
   "source": [
    "### Testing the model"
   ]
  },
  {
   "cell_type": "code",
   "execution_count": null,
   "id": "funny-neutral",
   "metadata": {},
   "outputs": [],
   "source": [
    "y_pred = model.predict(X_test)"
   ]
  },
  {
   "cell_type": "code",
   "execution_count": null,
   "id": "floral-fault",
   "metadata": {},
   "outputs": [],
   "source": [
    "# Printing confusion matrix\n",
    "confusion_matrix(Y_test, y_pred)"
   ]
  },
  {
   "cell_type": "code",
   "execution_count": null,
   "id": "right-variation",
   "metadata": {},
   "outputs": [],
   "source": [
    "# Getting f1 score\n",
    "print(classification_report(Y_test, y_pred))"
   ]
  }
 ],
 "metadata": {
  "kernelspec": {
   "display_name": "Python 3",
   "language": "python",
   "name": "python3"
  },
  "language_info": {
   "codemirror_mode": {
    "name": "ipython",
    "version": 3
   },
   "file_extension": ".py",
   "mimetype": "text/x-python",
   "name": "python",
   "nbconvert_exporter": "python",
   "pygments_lexer": "ipython3",
   "version": "3.7.10"
  }
 },
 "nbformat": 4,
 "nbformat_minor": 5
}

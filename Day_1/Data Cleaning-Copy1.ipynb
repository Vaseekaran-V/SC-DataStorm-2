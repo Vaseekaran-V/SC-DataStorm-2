{
 "cells": [
  {
   "cell_type": "code",
   "execution_count": 3,
   "metadata": {},
   "outputs": [],
   "source": [
    "# Data cleaning and EDA\n",
    "import numpy as np\n",
    "import pandas as pd\n",
    "import matplotlib.pyplot as plt\n",
    "%matplotlib inline\n",
    "import seaborn as sns\n",
    "\n",
    "#Preprocessing\n",
    "from datetime import datetime \n",
    "from sklearn.preprocessing import StandardScaler\n",
    "\n",
    "# Modelling\n",
    "#import sklearn.model_selection import train_test_split\n",
    "from sklearn.metrics import accuracy_score\n",
    "from sklearn.metrics import confusion_matrix\n",
    "from sklearn.model_selection import cross_val_score"
   ]
  },
  {
   "cell_type": "markdown",
   "metadata": {},
   "source": [
    "### 0. Extracting the Dataset"
   ]
  },
  {
   "cell_type": "code",
   "execution_count": 4,
   "metadata": {},
   "outputs": [
    {
     "data": {
      "text/plain": [
       "((27499, 24), (2749, 24), (4318, 23))"
      ]
     },
     "execution_count": 4,
     "metadata": {},
     "output_type": "execute_result"
    }
   ],
   "source": [
    "# Importing training data\n",
    "tdata = pd.read_csv('Hotel-A-train.csv')\n",
    "vdata = pd.read_csv('Hotel-A-validation.csv')\n",
    "testdata = pd.read_csv('Hotel-A-test.csv')\n",
    "tdata.shape , vdata.shape, testdata.shape\n",
    "#dimensions match"
   ]
  },
  {
   "cell_type": "code",
   "execution_count": 9,
   "metadata": {},
   "outputs": [
    {
     "data": {
      "text/plain": [
       "(Index(['Reservation-id', 'Gender', 'Age', 'Ethnicity', 'Educational_Level',\n",
       "        'Income', 'Country_region', 'Hotel_Type', 'Expected_checkin',\n",
       "        'Expected_checkout', 'Booking_date', 'Adults', 'Children', 'Babies',\n",
       "        'Meal_Type', 'Visted_Previously', 'Previous_Cancellations',\n",
       "        'Deposit_type', 'Booking_channel', 'Required_Car_Parking',\n",
       "        'Reservation_Status', 'Use_Promotion', 'Discount_Rate', 'Room_Rate'],\n",
       "       dtype='object'),\n",
       " Index(['Reservation-id', 'Gender', 'Age', 'Ethnicity', 'Educational_Level',\n",
       "        'Income', 'Country_region', 'Hotel_Type', 'Expected_checkin',\n",
       "        'Expected_checkout', 'Booking_date', 'Adults', 'Children', 'Babies',\n",
       "        'Meal_Type', 'Visted_Previously', 'Previous_Cancellations',\n",
       "        'Deposit_type', 'Booking_channel', 'Required_Car_Parking',\n",
       "        'Reservation_Status', 'Use_Promotion', 'Discount_Rate', 'Room_Rate'],\n",
       "       dtype='object'),\n",
       " Index(['Reservation-id', 'Gender', 'Age', 'Ethnicity', 'Educational_Level',\n",
       "        'Income', 'Country_region', 'Hotel_Type', 'Expected_checkin',\n",
       "        'Expected_checkout', 'Booking_date', 'Adults', 'Children', 'Babies',\n",
       "        'Meal_Type', 'Visted_Previously', 'Previous_Cancellations',\n",
       "        'Deposit_type', 'Booking_channel', 'Required_Car_Parking',\n",
       "        'Use_Promotion', 'Discount_Rate', 'Room_Rate'],\n",
       "       dtype='object'))"
      ]
     },
     "execution_count": 9,
     "metadata": {},
     "output_type": "execute_result"
    }
   ],
   "source": [
    "tdata.columns , vdata.columns, testdata.columns\n",
    "# columns match"
   ]
  },
  {
   "cell_type": "code",
   "execution_count": 10,
   "metadata": {},
   "outputs": [
    {
     "data": {
      "text/html": [
       "<div>\n",
       "<style scoped>\n",
       "    .dataframe tbody tr th:only-of-type {\n",
       "        vertical-align: middle;\n",
       "    }\n",
       "\n",
       "    .dataframe tbody tr th {\n",
       "        vertical-align: top;\n",
       "    }\n",
       "\n",
       "    .dataframe thead th {\n",
       "        text-align: right;\n",
       "    }\n",
       "</style>\n",
       "<table border=\"1\" class=\"dataframe\">\n",
       "  <thead>\n",
       "    <tr style=\"text-align: right;\">\n",
       "      <th></th>\n",
       "      <th>Reservation-id</th>\n",
       "      <th>Gender</th>\n",
       "      <th>Age</th>\n",
       "      <th>Ethnicity</th>\n",
       "      <th>Educational_Level</th>\n",
       "      <th>Income</th>\n",
       "      <th>Country_region</th>\n",
       "      <th>Hotel_Type</th>\n",
       "      <th>Expected_checkin</th>\n",
       "      <th>Expected_checkout</th>\n",
       "      <th>...</th>\n",
       "      <th>Meal_Type</th>\n",
       "      <th>Visted_Previously</th>\n",
       "      <th>Previous_Cancellations</th>\n",
       "      <th>Deposit_type</th>\n",
       "      <th>Booking_channel</th>\n",
       "      <th>Required_Car_Parking</th>\n",
       "      <th>Reservation_Status</th>\n",
       "      <th>Use_Promotion</th>\n",
       "      <th>Discount_Rate</th>\n",
       "      <th>Room_Rate</th>\n",
       "    </tr>\n",
       "  </thead>\n",
       "  <tbody>\n",
       "    <tr>\n",
       "      <th>0</th>\n",
       "      <td>39428300</td>\n",
       "      <td>F</td>\n",
       "      <td>40</td>\n",
       "      <td>Latino</td>\n",
       "      <td>Grad</td>\n",
       "      <td>&lt;25K</td>\n",
       "      <td>North</td>\n",
       "      <td>City Hotel</td>\n",
       "      <td>7/1/2015</td>\n",
       "      <td>7/2/2015</td>\n",
       "      <td>...</td>\n",
       "      <td>BB</td>\n",
       "      <td>No</td>\n",
       "      <td>No</td>\n",
       "      <td>No Deposit</td>\n",
       "      <td>Online</td>\n",
       "      <td>Yes</td>\n",
       "      <td>Check-In</td>\n",
       "      <td>Yes</td>\n",
       "      <td>10</td>\n",
       "      <td>218</td>\n",
       "    </tr>\n",
       "    <tr>\n",
       "      <th>1</th>\n",
       "      <td>77491756</td>\n",
       "      <td>F</td>\n",
       "      <td>49</td>\n",
       "      <td>Latino</td>\n",
       "      <td>Mid-School</td>\n",
       "      <td>50K -- 100K</td>\n",
       "      <td>East</td>\n",
       "      <td>City Hotel</td>\n",
       "      <td>7/1/2015</td>\n",
       "      <td>7/2/2015</td>\n",
       "      <td>...</td>\n",
       "      <td>BB</td>\n",
       "      <td>No</td>\n",
       "      <td>No</td>\n",
       "      <td>Refundable</td>\n",
       "      <td>Online</td>\n",
       "      <td>Yes</td>\n",
       "      <td>Check-In</td>\n",
       "      <td>No</td>\n",
       "      <td>0</td>\n",
       "      <td>185</td>\n",
       "    </tr>\n",
       "    <tr>\n",
       "      <th>2</th>\n",
       "      <td>73747291</td>\n",
       "      <td>F</td>\n",
       "      <td>42</td>\n",
       "      <td>caucasian</td>\n",
       "      <td>Grad</td>\n",
       "      <td>&lt;25K</td>\n",
       "      <td>East</td>\n",
       "      <td>City Hotel</td>\n",
       "      <td>7/2/2015</td>\n",
       "      <td>7/6/2015</td>\n",
       "      <td>...</td>\n",
       "      <td>BB</td>\n",
       "      <td>No</td>\n",
       "      <td>No</td>\n",
       "      <td>No Deposit</td>\n",
       "      <td>Online</td>\n",
       "      <td>Yes</td>\n",
       "      <td>Check-In</td>\n",
       "      <td>No</td>\n",
       "      <td>0</td>\n",
       "      <td>119</td>\n",
       "    </tr>\n",
       "    <tr>\n",
       "      <th>3</th>\n",
       "      <td>67301739</td>\n",
       "      <td>M</td>\n",
       "      <td>25</td>\n",
       "      <td>African American</td>\n",
       "      <td>College</td>\n",
       "      <td>&gt;100K</td>\n",
       "      <td>South</td>\n",
       "      <td>Airport Hotels</td>\n",
       "      <td>7/2/2015</td>\n",
       "      <td>7/3/2015</td>\n",
       "      <td>...</td>\n",
       "      <td>BB</td>\n",
       "      <td>No</td>\n",
       "      <td>No</td>\n",
       "      <td>Refundable</td>\n",
       "      <td>Agent</td>\n",
       "      <td>Yes</td>\n",
       "      <td>Check-In</td>\n",
       "      <td>Yes</td>\n",
       "      <td>5</td>\n",
       "      <td>144</td>\n",
       "    </tr>\n",
       "    <tr>\n",
       "      <th>4</th>\n",
       "      <td>77222321</td>\n",
       "      <td>F</td>\n",
       "      <td>62</td>\n",
       "      <td>Latino</td>\n",
       "      <td>High-School</td>\n",
       "      <td>25K --50K</td>\n",
       "      <td>East</td>\n",
       "      <td>Resort</td>\n",
       "      <td>7/3/2015</td>\n",
       "      <td>7/4/2015</td>\n",
       "      <td>...</td>\n",
       "      <td>BB</td>\n",
       "      <td>No</td>\n",
       "      <td>No</td>\n",
       "      <td>No Deposit</td>\n",
       "      <td>Direct</td>\n",
       "      <td>No</td>\n",
       "      <td>Check-In</td>\n",
       "      <td>Yes</td>\n",
       "      <td>10</td>\n",
       "      <td>242</td>\n",
       "    </tr>\n",
       "  </tbody>\n",
       "</table>\n",
       "<p>5 rows × 24 columns</p>\n",
       "</div>"
      ],
      "text/plain": [
       "   Reservation-id Gender  Age         Ethnicity Educational_Level  \\\n",
       "0        39428300      F   40            Latino              Grad   \n",
       "1        77491756      F   49            Latino        Mid-School   \n",
       "2        73747291      F   42         caucasian              Grad   \n",
       "3        67301739      M   25  African American           College   \n",
       "4        77222321      F   62            Latino       High-School   \n",
       "\n",
       "        Income Country_region      Hotel_Type Expected_checkin  \\\n",
       "0         <25K          North      City Hotel         7/1/2015   \n",
       "1  50K -- 100K           East      City Hotel         7/1/2015   \n",
       "2         <25K           East      City Hotel         7/2/2015   \n",
       "3        >100K          South  Airport Hotels         7/2/2015   \n",
       "4    25K --50K           East          Resort         7/3/2015   \n",
       "\n",
       "  Expected_checkout  ... Meal_Type  Visted_Previously  Previous_Cancellations  \\\n",
       "0          7/2/2015  ...        BB                 No                      No   \n",
       "1          7/2/2015  ...        BB                 No                      No   \n",
       "2          7/6/2015  ...        BB                 No                      No   \n",
       "3          7/3/2015  ...        BB                 No                      No   \n",
       "4          7/4/2015  ...        BB                 No                      No   \n",
       "\n",
       "   Deposit_type Booking_channel Required_Car_Parking Reservation_Status  \\\n",
       "0    No Deposit          Online                  Yes           Check-In   \n",
       "1    Refundable          Online                  Yes           Check-In   \n",
       "2    No Deposit          Online                  Yes           Check-In   \n",
       "3    Refundable           Agent                  Yes           Check-In   \n",
       "4    No Deposit          Direct                   No           Check-In   \n",
       "\n",
       "  Use_Promotion Discount_Rate Room_Rate  \n",
       "0           Yes            10       218  \n",
       "1            No             0       185  \n",
       "2            No             0       119  \n",
       "3           Yes             5       144  \n",
       "4           Yes            10       242  \n",
       "\n",
       "[5 rows x 24 columns]"
      ]
     },
     "execution_count": 10,
     "metadata": {},
     "output_type": "execute_result"
    }
   ],
   "source": [
    "tdata.head()"
   ]
  },
  {
   "cell_type": "markdown",
   "metadata": {},
   "source": [
    "### 1. Data Cleaning \n",
    "\n",
    "#### 1.1 Check for Missing values"
   ]
  },
  {
   "cell_type": "code",
   "execution_count": 33,
   "metadata": {},
   "outputs": [
    {
     "name": "stdout",
     "output_type": "stream",
     "text": [
      "<class 'pandas.core.frame.DataFrame'>\n",
      "RangeIndex: 27499 entries, 0 to 27498\n",
      "Data columns (total 24 columns):\n",
      " #   Column                  Non-Null Count  Dtype \n",
      "---  ------                  --------------  ----- \n",
      " 0   Reservation-id          27499 non-null  int64 \n",
      " 1   Gender                  27499 non-null  object\n",
      " 2   Age                     27499 non-null  int64 \n",
      " 3   Ethnicity               27499 non-null  object\n",
      " 4   Educational_Level       27499 non-null  object\n",
      " 5   Income                  27499 non-null  object\n",
      " 6   Country_region          27499 non-null  object\n",
      " 7   Hotel_Type              27499 non-null  object\n",
      " 8   Expected_checkin        27499 non-null  object\n",
      " 9   Expected_checkout       27499 non-null  object\n",
      " 10  Booking_date            27499 non-null  object\n",
      " 11  Adults                  27499 non-null  int64 \n",
      " 12  Children                27499 non-null  int64 \n",
      " 13  Babies                  27499 non-null  int64 \n",
      " 14  Meal_Type               27499 non-null  object\n",
      " 15  Visted_Previously       27499 non-null  object\n",
      " 16  Previous_Cancellations  27499 non-null  object\n",
      " 17  Deposit_type            27499 non-null  object\n",
      " 18  Booking_channel         27499 non-null  object\n",
      " 19  Required_Car_Parking    27499 non-null  object\n",
      " 20  Reservation_Status      27499 non-null  object\n",
      " 21  Use_Promotion           27499 non-null  object\n",
      " 22  Discount_Rate           27499 non-null  int64 \n",
      " 23  Room_Rate               27499 non-null  int64 \n",
      "dtypes: int64(7), object(17)\n",
      "memory usage: 5.0+ MB\n",
      "<class 'pandas.core.frame.DataFrame'>\n",
      "RangeIndex: 2749 entries, 0 to 2748\n",
      "Data columns (total 24 columns):\n",
      " #   Column                  Non-Null Count  Dtype \n",
      "---  ------                  --------------  ----- \n",
      " 0   Reservation-id          2749 non-null   int64 \n",
      " 1   Gender                  2749 non-null   object\n",
      " 2   Age                     2749 non-null   int64 \n",
      " 3   Ethnicity               2749 non-null   object\n",
      " 4   Educational_Level       2749 non-null   object\n",
      " 5   Income                  2749 non-null   object\n",
      " 6   Country_region          2749 non-null   object\n",
      " 7   Hotel_Type              2749 non-null   object\n",
      " 8   Expected_checkin        2749 non-null   object\n",
      " 9   Expected_checkout       2749 non-null   object\n",
      " 10  Booking_date            2749 non-null   object\n",
      " 11  Adults                  2749 non-null   int64 \n",
      " 12  Children                2749 non-null   int64 \n",
      " 13  Babies                  2749 non-null   int64 \n",
      " 14  Meal_Type               2749 non-null   object\n",
      " 15  Visted_Previously       2749 non-null   object\n",
      " 16  Previous_Cancellations  2749 non-null   object\n",
      " 17  Deposit_type            2749 non-null   object\n",
      " 18  Booking_channel         2749 non-null   object\n",
      " 19  Required_Car_Parking    2749 non-null   object\n",
      " 20  Reservation_Status      2749 non-null   object\n",
      " 21  Use_Promotion           2749 non-null   object\n",
      " 22  Discount_Rate           2749 non-null   int64 \n",
      " 23  Room_Rate               2749 non-null   int64 \n",
      "dtypes: int64(7), object(17)\n",
      "memory usage: 515.6+ KB\n",
      "<class 'pandas.core.frame.DataFrame'>\n",
      "RangeIndex: 4318 entries, 0 to 4317\n",
      "Data columns (total 23 columns):\n",
      " #   Column                  Non-Null Count  Dtype \n",
      "---  ------                  --------------  ----- \n",
      " 0   Reservation-id          4318 non-null   int64 \n",
      " 1   Gender                  4318 non-null   object\n",
      " 2   Age                     4318 non-null   int64 \n",
      " 3   Ethnicity               4318 non-null   object\n",
      " 4   Educational_Level       4318 non-null   object\n",
      " 5   Income                  4318 non-null   object\n",
      " 6   Country_region          4318 non-null   object\n",
      " 7   Hotel_Type              4318 non-null   object\n",
      " 8   Expected_checkin        4318 non-null   object\n",
      " 9   Expected_checkout       4318 non-null   object\n",
      " 10  Booking_date            4318 non-null   object\n",
      " 11  Adults                  4318 non-null   int64 \n",
      " 12  Children                4318 non-null   int64 \n",
      " 13  Babies                  4318 non-null   int64 \n",
      " 14  Meal_Type               4318 non-null   object\n",
      " 15  Visted_Previously       4318 non-null   object\n",
      " 16  Previous_Cancellations  4318 non-null   object\n",
      " 17  Deposit_type            4318 non-null   object\n",
      " 18  Booking_channel         4318 non-null   object\n",
      " 19  Required_Car_Parking    4318 non-null   object\n",
      " 20  Use_Promotion           4318 non-null   object\n",
      " 21  Discount_Rate           4318 non-null   int64 \n",
      " 22  Room_Rate               4318 non-null   int64 \n",
      "dtypes: int64(7), object(16)\n",
      "memory usage: 776.0+ KB\n"
     ]
    },
    {
     "data": {
      "text/plain": [
       "(Reservation-id            0\n",
       " Gender                    0\n",
       " Age                       0\n",
       " Ethnicity                 0\n",
       " Educational_Level         0\n",
       " Income                    0\n",
       " Country_region            0\n",
       " Hotel_Type                0\n",
       " Expected_checkin          0\n",
       " Expected_checkout         0\n",
       " Booking_date              0\n",
       " Adults                    0\n",
       " Children                  0\n",
       " Babies                    0\n",
       " Meal_Type                 0\n",
       " Visted_Previously         0\n",
       " Previous_Cancellations    0\n",
       " Deposit_type              0\n",
       " Booking_channel           0\n",
       " Required_Car_Parking      0\n",
       " Reservation_Status        0\n",
       " Use_Promotion             0\n",
       " Discount_Rate             0\n",
       " Room_Rate                 0\n",
       " dtype: int64,\n",
       " Reservation-id            0\n",
       " Gender                    0\n",
       " Age                       0\n",
       " Ethnicity                 0\n",
       " Educational_Level         0\n",
       " Income                    0\n",
       " Country_region            0\n",
       " Hotel_Type                0\n",
       " Expected_checkin          0\n",
       " Expected_checkout         0\n",
       " Booking_date              0\n",
       " Adults                    0\n",
       " Children                  0\n",
       " Babies                    0\n",
       " Meal_Type                 0\n",
       " Visted_Previously         0\n",
       " Previous_Cancellations    0\n",
       " Deposit_type              0\n",
       " Booking_channel           0\n",
       " Required_Car_Parking      0\n",
       " Reservation_Status        0\n",
       " Use_Promotion             0\n",
       " Discount_Rate             0\n",
       " Room_Rate                 0\n",
       " dtype: int64,\n",
       " Reservation-id            0\n",
       " Gender                    0\n",
       " Age                       0\n",
       " Ethnicity                 0\n",
       " Educational_Level         0\n",
       " Income                    0\n",
       " Country_region            0\n",
       " Hotel_Type                0\n",
       " Expected_checkin          0\n",
       " Expected_checkout         0\n",
       " Booking_date              0\n",
       " Adults                    0\n",
       " Children                  0\n",
       " Babies                    0\n",
       " Meal_Type                 0\n",
       " Visted_Previously         0\n",
       " Previous_Cancellations    0\n",
       " Deposit_type              0\n",
       " Booking_channel           0\n",
       " Required_Car_Parking      0\n",
       " Use_Promotion             0\n",
       " Discount_Rate             0\n",
       " Room_Rate                 0\n",
       " dtype: int64)"
      ]
     },
     "execution_count": 33,
     "metadata": {},
     "output_type": "execute_result"
    }
   ],
   "source": [
    "tdata.info() , vdata.info(), testdata.info()\n",
    "tdata.isna().sum() , vdata.isna().sum(), testdata.isna().sum()"
   ]
  },
  {
   "cell_type": "markdown",
   "metadata": {},
   "source": [
    "#### 1.2. Check if  non numerical variable is taken as object type"
   ]
  },
  {
   "cell_type": "code",
   "execution_count": 6,
   "metadata": {},
   "outputs": [
    {
     "data": {
      "text/plain": [
       "['Gender',\n",
       " 'Ethnicity',\n",
       " 'Educational_Level',\n",
       " 'Income',\n",
       " 'Country_region',\n",
       " 'Hotel_Type',\n",
       " 'Expected_checkin',\n",
       " 'Expected_checkout',\n",
       " 'Booking_date',\n",
       " 'Meal_Type',\n",
       " 'Visted_Previously',\n",
       " 'Previous_Cancellations',\n",
       " 'Deposit_type',\n",
       " 'Booking_channel',\n",
       " 'Required_Car_Parking',\n",
       " 'Reservation_Status',\n",
       " 'Use_Promotion']"
      ]
     },
     "execution_count": 6,
     "metadata": {},
     "output_type": "execute_result"
    }
   ],
   "source": [
    "cat_var = [c for c in tdata.columns if tdata[c].dtype == object]\n",
    "cat_var\n",
    "# Matches with Data Dictionary"
   ]
  },
  {
   "cell_type": "code",
   "execution_count": null,
   "metadata": {},
   "outputs": [],
   "source": []
  },
  {
   "cell_type": "markdown",
   "metadata": {},
   "source": [
    "#### 1.3. EDA"
   ]
  },
  {
   "cell_type": "markdown",
   "metadata": {},
   "source": [
    "#### Reservation Status Frequency"
   ]
  },
  {
   "cell_type": "code",
   "execution_count": 40,
   "metadata": {},
   "outputs": [
    {
     "data": {
      "image/png": "[encoded data removed]",
      "text/plain": [
       "<Figure size 432x288 with 1 Axes>"
      ]
     },
     "metadata": {
      "needs_background": "light"
     },
     "output_type": "display_data"
    }
   ],
   "source": [
    "#tdata['Reservation_Status'].value_counts().plot(kind='bar', color=['lightpink','lightblue','lightgreen']);\n",
    "sns.countplot(x='Reservation_Status',data=tdata, palette='hls');\n",
    "plt.show();\n",
    "# More number of Check-in . Not a ablanced dataset. "
   ]
  },
  {
   "cell_type": "code",
   "execution_count": 43,
   "metadata": {},
   "outputs": [
    {
     "data": {
      "text/html": [
       "<div>\n",
       "<style scoped>\n",
       "    .dataframe tbody tr th:only-of-type {\n",
       "        vertical-align: middle;\n",
       "    }\n",
       "\n",
       "    .dataframe tbody tr th {\n",
       "        vertical-align: top;\n",
       "    }\n",
       "\n",
       "    .dataframe thead th {\n",
       "        text-align: right;\n",
       "    }\n",
       "</style>\n",
       "<table border=\"1\" class=\"dataframe\">\n",
       "  <thead>\n",
       "    <tr style=\"text-align: right;\">\n",
       "      <th></th>\n",
       "      <th>Reservation-id</th>\n",
       "      <th>Age</th>\n",
       "      <th>Adults</th>\n",
       "      <th>Children</th>\n",
       "      <th>Babies</th>\n",
       "      <th>Discount_Rate</th>\n",
       "      <th>Room_Rate</th>\n",
       "    </tr>\n",
       "    <tr>\n",
       "      <th>Reservation_Status</th>\n",
       "      <th></th>\n",
       "      <th></th>\n",
       "      <th></th>\n",
       "      <th></th>\n",
       "      <th></th>\n",
       "      <th></th>\n",
       "      <th></th>\n",
       "    </tr>\n",
       "  </thead>\n",
       "  <tbody>\n",
       "    <tr>\n",
       "      <th>Canceled</th>\n",
       "      <td>5.077175e+07</td>\n",
       "      <td>44.157233</td>\n",
       "      <td>2.309869</td>\n",
       "      <td>1.756410</td>\n",
       "      <td>0.336720</td>\n",
       "      <td>12.519352</td>\n",
       "      <td>174.994436</td>\n",
       "    </tr>\n",
       "    <tr>\n",
       "      <th>Check-In</th>\n",
       "      <td>5.005210e+07</td>\n",
       "      <td>43.956638</td>\n",
       "      <td>2.334463</td>\n",
       "      <td>1.740631</td>\n",
       "      <td>0.351977</td>\n",
       "      <td>12.504708</td>\n",
       "      <td>175.088041</td>\n",
       "    </tr>\n",
       "    <tr>\n",
       "      <th>No-Show</th>\n",
       "      <td>5.010803e+07</td>\n",
       "      <td>43.835765</td>\n",
       "      <td>2.370824</td>\n",
       "      <td>1.752000</td>\n",
       "      <td>0.376000</td>\n",
       "      <td>12.352941</td>\n",
       "      <td>175.896941</td>\n",
       "    </tr>\n",
       "  </tbody>\n",
       "</table>\n",
       "</div>"
      ],
      "text/plain": [
       "                    Reservation-id        Age    Adults  Children    Babies  \\\n",
       "Reservation_Status                                                            \n",
       "Canceled              5.077175e+07  44.157233  2.309869  1.756410  0.336720   \n",
       "Check-In              5.005210e+07  43.956638  2.334463  1.740631  0.351977   \n",
       "No-Show               5.010803e+07  43.835765  2.370824  1.752000  0.376000   \n",
       "\n",
       "                    Discount_Rate   Room_Rate  \n",
       "Reservation_Status                             \n",
       "Canceled                12.519352  174.994436  \n",
       "Check-In                12.504708  175.088041  \n",
       "No-Show                 12.352941  175.896941  "
      ]
     },
     "execution_count": 43,
     "metadata": {},
     "output_type": "execute_result"
    }
   ],
   "source": [
    "tdata.groupby('Reservation_Status').mean()"
   ]
  },
  {
   "cell_type": "markdown",
   "metadata": {},
   "source": [
    "#### Reservation Status according to Gender"
   ]
  },
  {
   "cell_type": "code",
   "execution_count": 35,
   "metadata": {},
   "outputs": [
    {
     "data": {
      "text/plain": [
       "F    13799\n",
       "M    13700\n",
       "Name: Gender, dtype: int64"
      ]
     },
     "execution_count": 35,
     "metadata": {},
     "output_type": "execute_result"
    }
   ],
   "source": [
    "tdata['Gender'].value_counts()"
   ]
  },
  {
   "cell_type": "code",
   "execution_count": 39,
   "metadata": {},
   "outputs": [
    {
     "data": {
      "image/png": "[encoded data removed]",
      "text/plain": [
       "<Figure size 720x720 with 1 Axes>"
      ]
     },
     "metadata": {
      "needs_background": "light"
     },
     "output_type": "display_data"
    }
   ],
   "source": [
    "pd.crosstab(tdata['Reservation_Status'],tdata['Gender']).plot(kind='bar',\n",
    "                                                             figsize=(10,10),\n",
    "                                                             color=['salmon','lightblue']);\n",
    "plt.title('Reservation Status according to Gender');\n",
    "plt.xlabel('Reservation Status');\n",
    "plt.ylabel('Frequency');"
   ]
  },
  {
   "cell_type": "markdown",
   "metadata": {},
   "source": [
    "## On Hold"
   ]
  },
  {
   "cell_type": "markdown",
   "metadata": {},
   "source": [
    "### Dummy variables: One-hot Encoding"
   ]
  },
  {
   "cell_type": "code",
   "execution_count": 10,
   "metadata": {},
   "outputs": [
    {
     "ename": "KeyError",
     "evalue": "'cat_var'",
     "output_type": "error",
     "traceback": [
      "\u001b[1;31m---------------------------------------------------------------------------\u001b[0m",
      "\u001b[1;31mKeyError\u001b[0m                                  Traceback (most recent call last)",
      "\u001b[1;32m~\\anaconda3\\lib\\site-packages\\pandas\\core\\indexes\\base.py\u001b[0m in \u001b[0;36mget_loc\u001b[1;34m(self, key, method, tolerance)\u001b[0m\n\u001b[0;32m   2645\u001b[0m             \u001b[1;32mtry\u001b[0m\u001b[1;33m:\u001b[0m\u001b[1;33m\u001b[0m\u001b[1;33m\u001b[0m\u001b[0m\n\u001b[1;32m-> 2646\u001b[1;33m                 \u001b[1;32mreturn\u001b[0m \u001b[0mself\u001b[0m\u001b[1;33m.\u001b[0m\u001b[0m_engine\u001b[0m\u001b[1;33m.\u001b[0m\u001b[0mget_loc\u001b[0m\u001b[1;33m(\u001b[0m\u001b[0mkey\u001b[0m\u001b[1;33m)\u001b[0m\u001b[1;33m\u001b[0m\u001b[1;33m\u001b[0m\u001b[0m\n\u001b[0m\u001b[0;32m   2647\u001b[0m             \u001b[1;32mexcept\u001b[0m \u001b[0mKeyError\u001b[0m\u001b[1;33m:\u001b[0m\u001b[1;33m\u001b[0m\u001b[1;33m\u001b[0m\u001b[0m\n",
      "\u001b[1;32mpandas\\_libs\\index.pyx\u001b[0m in \u001b[0;36mpandas._libs.index.IndexEngine.get_loc\u001b[1;34m()\u001b[0m\n",
      "\u001b[1;32mpandas\\_libs\\index.pyx\u001b[0m in \u001b[0;36mpandas._libs.index.IndexEngine.get_loc\u001b[1;34m()\u001b[0m\n",
      "\u001b[1;32mpandas\\_libs\\hashtable_class_helper.pxi\u001b[0m in \u001b[0;36mpandas._libs.hashtable.PyObjectHashTable.get_item\u001b[1;34m()\u001b[0m\n",
      "\u001b[1;32mpandas\\_libs\\hashtable_class_helper.pxi\u001b[0m in \u001b[0;36mpandas._libs.hashtable.PyObjectHashTable.get_item\u001b[1;34m()\u001b[0m\n",
      "\u001b[1;31mKeyError\u001b[0m: 'cat_var'",
      "\nDuring handling of the above exception, another exception occurred:\n",
      "\u001b[1;31mKeyError\u001b[0m                                  Traceback (most recent call last)",
      "\u001b[1;32m<ipython-input-10-5cb412b33604>\u001b[0m in \u001b[0;36m<module>\u001b[1;34m\u001b[0m\n\u001b[1;32m----> 1\u001b[1;33m \u001b[0mtdata\u001b[0m\u001b[1;33m[\u001b[0m\u001b[1;34m'cat_var'\u001b[0m\u001b[1;33m]\u001b[0m\u001b[1;33m\u001b[0m\u001b[1;33m\u001b[0m\u001b[0m\n\u001b[0m",
      "\u001b[1;32m~\\anaconda3\\lib\\site-packages\\pandas\\core\\frame.py\u001b[0m in \u001b[0;36m__getitem__\u001b[1;34m(self, key)\u001b[0m\n\u001b[0;32m   2798\u001b[0m             \u001b[1;32mif\u001b[0m \u001b[0mself\u001b[0m\u001b[1;33m.\u001b[0m\u001b[0mcolumns\u001b[0m\u001b[1;33m.\u001b[0m\u001b[0mnlevels\u001b[0m \u001b[1;33m>\u001b[0m \u001b[1;36m1\u001b[0m\u001b[1;33m:\u001b[0m\u001b[1;33m\u001b[0m\u001b[1;33m\u001b[0m\u001b[0m\n\u001b[0;32m   2799\u001b[0m                 \u001b[1;32mreturn\u001b[0m \u001b[0mself\u001b[0m\u001b[1;33m.\u001b[0m\u001b[0m_getitem_multilevel\u001b[0m\u001b[1;33m(\u001b[0m\u001b[0mkey\u001b[0m\u001b[1;33m)\u001b[0m\u001b[1;33m\u001b[0m\u001b[1;33m\u001b[0m\u001b[0m\n\u001b[1;32m-> 2800\u001b[1;33m             \u001b[0mindexer\u001b[0m \u001b[1;33m=\u001b[0m \u001b[0mself\u001b[0m\u001b[1;33m.\u001b[0m\u001b[0mcolumns\u001b[0m\u001b[1;33m.\u001b[0m\u001b[0mget_loc\u001b[0m\u001b[1;33m(\u001b[0m\u001b[0mkey\u001b[0m\u001b[1;33m)\u001b[0m\u001b[1;33m\u001b[0m\u001b[1;33m\u001b[0m\u001b[0m\n\u001b[0m\u001b[0;32m   2801\u001b[0m             \u001b[1;32mif\u001b[0m \u001b[0mis_integer\u001b[0m\u001b[1;33m(\u001b[0m\u001b[0mindexer\u001b[0m\u001b[1;33m)\u001b[0m\u001b[1;33m:\u001b[0m\u001b[1;33m\u001b[0m\u001b[1;33m\u001b[0m\u001b[0m\n\u001b[0;32m   2802\u001b[0m                 \u001b[0mindexer\u001b[0m \u001b[1;33m=\u001b[0m \u001b[1;33m[\u001b[0m\u001b[0mindexer\u001b[0m\u001b[1;33m]\u001b[0m\u001b[1;33m\u001b[0m\u001b[1;33m\u001b[0m\u001b[0m\n",
      "\u001b[1;32m~\\anaconda3\\lib\\site-packages\\pandas\\core\\indexes\\base.py\u001b[0m in \u001b[0;36mget_loc\u001b[1;34m(self, key, method, tolerance)\u001b[0m\n\u001b[0;32m   2646\u001b[0m                 \u001b[1;32mreturn\u001b[0m \u001b[0mself\u001b[0m\u001b[1;33m.\u001b[0m\u001b[0m_engine\u001b[0m\u001b[1;33m.\u001b[0m\u001b[0mget_loc\u001b[0m\u001b[1;33m(\u001b[0m\u001b[0mkey\u001b[0m\u001b[1;33m)\u001b[0m\u001b[1;33m\u001b[0m\u001b[1;33m\u001b[0m\u001b[0m\n\u001b[0;32m   2647\u001b[0m             \u001b[1;32mexcept\u001b[0m \u001b[0mKeyError\u001b[0m\u001b[1;33m:\u001b[0m\u001b[1;33m\u001b[0m\u001b[1;33m\u001b[0m\u001b[0m\n\u001b[1;32m-> 2648\u001b[1;33m                 \u001b[1;32mreturn\u001b[0m \u001b[0mself\u001b[0m\u001b[1;33m.\u001b[0m\u001b[0m_engine\u001b[0m\u001b[1;33m.\u001b[0m\u001b[0mget_loc\u001b[0m\u001b[1;33m(\u001b[0m\u001b[0mself\u001b[0m\u001b[1;33m.\u001b[0m\u001b[0m_maybe_cast_indexer\u001b[0m\u001b[1;33m(\u001b[0m\u001b[0mkey\u001b[0m\u001b[1;33m)\u001b[0m\u001b[1;33m)\u001b[0m\u001b[1;33m\u001b[0m\u001b[1;33m\u001b[0m\u001b[0m\n\u001b[0m\u001b[0;32m   2649\u001b[0m         \u001b[0mindexer\u001b[0m \u001b[1;33m=\u001b[0m \u001b[0mself\u001b[0m\u001b[1;33m.\u001b[0m\u001b[0mget_indexer\u001b[0m\u001b[1;33m(\u001b[0m\u001b[1;33m[\u001b[0m\u001b[0mkey\u001b[0m\u001b[1;33m]\u001b[0m\u001b[1;33m,\u001b[0m \u001b[0mmethod\u001b[0m\u001b[1;33m=\u001b[0m\u001b[0mmethod\u001b[0m\u001b[1;33m,\u001b[0m \u001b[0mtolerance\u001b[0m\u001b[1;33m=\u001b[0m\u001b[0mtolerance\u001b[0m\u001b[1;33m)\u001b[0m\u001b[1;33m\u001b[0m\u001b[1;33m\u001b[0m\u001b[0m\n\u001b[0;32m   2650\u001b[0m         \u001b[1;32mif\u001b[0m \u001b[0mindexer\u001b[0m\u001b[1;33m.\u001b[0m\u001b[0mndim\u001b[0m \u001b[1;33m>\u001b[0m \u001b[1;36m1\u001b[0m \u001b[1;32mor\u001b[0m \u001b[0mindexer\u001b[0m\u001b[1;33m.\u001b[0m\u001b[0msize\u001b[0m \u001b[1;33m>\u001b[0m \u001b[1;36m1\u001b[0m\u001b[1;33m:\u001b[0m\u001b[1;33m\u001b[0m\u001b[1;33m\u001b[0m\u001b[0m\n",
      "\u001b[1;32mpandas\\_libs\\index.pyx\u001b[0m in \u001b[0;36mpandas._libs.index.IndexEngine.get_loc\u001b[1;34m()\u001b[0m\n",
      "\u001b[1;32mpandas\\_libs\\index.pyx\u001b[0m in \u001b[0;36mpandas._libs.index.IndexEngine.get_loc\u001b[1;34m()\u001b[0m\n",
      "\u001b[1;32mpandas\\_libs\\hashtable_class_helper.pxi\u001b[0m in \u001b[0;36mpandas._libs.hashtable.PyObjectHashTable.get_item\u001b[1;34m()\u001b[0m\n",
      "\u001b[1;32mpandas\\_libs\\hashtable_class_helper.pxi\u001b[0m in \u001b[0;36mpandas._libs.hashtable.PyObjectHashTable.get_item\u001b[1;34m()\u001b[0m\n",
      "\u001b[1;31mKeyError\u001b[0m: 'cat_var'"
     ]
    }
   ],
   "source": [
    "tdata['cat_var']"
   ]
  }
 ],
 "metadata": {
  "kernelspec": {
   "display_name": "Python 3",
   "language": "python",
   "name": "python3"
  },
  "language_info": {
   "codemirror_mode": {
    "name": "ipython",
    "version": 3
   },
   "file_extension": ".py",
   "mimetype": "text/x-python",
   "name": "python",
   "nbconvert_exporter": "python",
   "pygments_lexer": "ipython3",
   "version": "3.8.3"
  }
 },
 "nbformat": 4,
 "nbformat_minor": 4
}

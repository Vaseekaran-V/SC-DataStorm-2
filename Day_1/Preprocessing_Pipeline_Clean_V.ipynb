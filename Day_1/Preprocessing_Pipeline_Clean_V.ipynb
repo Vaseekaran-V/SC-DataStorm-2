{
 "cells": [
  {
   "cell_type": "code",
   "execution_count": 11,
   "id": "unknown-secondary",
   "metadata": {},
   "outputs": [],
   "source": [
    "import pandas as pd\n",
    "import numpy as np\n",
    "import matplotlib.pyplot as plt\n",
    "%matplotlib inline\n",
    "import seaborn as sns\n",
    "from sklearn.model_selection import train_test_split\n",
    "from sklearn.metrics import accuracy_score\n",
    "from sklearn.metrics import confusion_matrix\n",
    "from sklearn.model_selection import cross_val_score\n",
    "from sklearn.preprocessing import OneHotEncoder\n",
    "from sklearn.pipeline import Pipeline\n",
    "from sklearn import preprocessing\n",
    "from sklearn.compose import ColumnTransformer\n",
    "from sklearn.preprocessing import StandardScaler #you can use minmax scaler too\n",
    "#Import other necessary model libraries, for this example, using Logistic Regression"
   ]
  },
  {
   "cell_type": "code",
   "execution_count": 2,
   "id": "figured-external",
   "metadata": {},
   "outputs": [],
   "source": [
    "train_data = pd.read_csv(r\"../Data/Corrected Datasets/train-dataset.csv\", header = 0)\n",
    "test_data = pd.read_csv(r\"../Data/Corrected Datasets/test-dataset.csv\", header = 0)\n",
    "validation_data = pd.read_csv(r\"../Data/Corrected Datasets/validation-dataset.csv\", header = 0)"
   ]
  },
  {
   "cell_type": "code",
   "execution_count": 3,
   "id": "dried-allergy",
   "metadata": {},
   "outputs": [],
   "source": [
    "data_quan_cols = ['Age','Discount_Rate', 'Room_Rate','Expected_stay_days', \n",
    "                        'Reservation_gap', 'Adults', 'Children','Babies']"
   ]
  },
  {
   "cell_type": "code",
   "execution_count": 4,
   "id": "compatible-overhead",
   "metadata": {},
   "outputs": [],
   "source": [
    "data_cat_cols = ['Gender', 'Ethnicity', 'Educational_Level', 'Income', 'Country_region',\n",
    "                 'Hotel_Type', 'Meal_Type', 'Visted_Previously',\n",
    "                 'Previous_Cancellations', 'Deposit_type', 'Booking_channel',\n",
    "                 'Required_Car_Parking', 'Use_Promotion']"
   ]
  },
  {
   "cell_type": "code",
   "execution_count": 7,
   "id": "cutting-translator",
   "metadata": {},
   "outputs": [],
   "source": [
    "quan_pipeline = Pipeline([\n",
    "    ('std_scaler', StandardScaler())\n",
    "])\n",
    "\n",
    "quan_transformed = quan_pipeline.fit_transform(train_data[data_quan_cols])"
   ]
  },
  {
   "cell_type": "code",
   "execution_count": 9,
   "id": "centered-metabolism",
   "metadata": {},
   "outputs": [],
   "source": [
    "data_pipeline = ColumnTransformer([\n",
    "    ('numerical', quan_pipeline, data_quan_cols),\n",
    "    ('categorical', OneHotEncoder(), data_cat_cols),\n",
    "    \n",
    "])\n",
    "\n",
    "train_data_processed = data_pipeline.fit_transform(train_data)"
   ]
  },
  {
   "cell_type": "code",
   "execution_count": 10,
   "id": "centered-consolidation",
   "metadata": {},
   "outputs": [],
   "source": [
    "validation_data_processed = data_pipeline.transform(validation_data)"
   ]
  },
  {
   "cell_type": "code",
   "execution_count": null,
   "id": "forbidden-julian",
   "metadata": {},
   "outputs": [],
   "source": [
    "type(train_data_processed)"
   ]
  },
  {
   "cell_type": "code",
   "execution_count": 20,
   "id": "three-prime",
   "metadata": {},
   "outputs": [],
   "source": [
    "le = preprocessing.LabelEncoder()"
   ]
  },
  {
   "cell_type": "code",
   "execution_count": 21,
   "id": "occupied-impression",
   "metadata": {},
   "outputs": [
    {
     "data": {
      "text/plain": [
       "LabelEncoder()"
      ]
     },
     "execution_count": 21,
     "metadata": {},
     "output_type": "execute_result"
    }
   ],
   "source": [
    "target_train = train_data['Reservation_Status']\n",
    "le.fit(target_train)"
   ]
  },
  {
   "cell_type": "code",
   "execution_count": 22,
   "id": "twelve-fourth",
   "metadata": {},
   "outputs": [],
   "source": [
    "target_validation = validation_data['Reservation_Status']"
   ]
  },
  {
   "cell_type": "code",
   "execution_count": 23,
   "id": "creative-gasoline",
   "metadata": {},
   "outputs": [
    {
     "name": "stdout",
     "output_type": "stream",
     "text": [
      "['Canceled' 'Check-In' 'No-Show']\n"
     ]
    }
   ],
   "source": [
    "print(le.classes_)"
   ]
  },
  {
   "cell_type": "code",
   "execution_count": 24,
   "id": "peripheral-occurrence",
   "metadata": {},
   "outputs": [],
   "source": [
    "y_train = le.transform(target_train)\n",
    "y_valid = le.transform(target_validation)"
   ]
  },
  {
   "cell_type": "code",
   "execution_count": 42,
   "id": "portable-compromise",
   "metadata": {},
   "outputs": [],
   "source": [
    "from sklearn.ensemble import RandomForestClassifier\n",
    "model = RandomForestClassifier()"
   ]
  },
  {
   "cell_type": "code",
   "execution_count": 43,
   "id": "vulnerable-mandate",
   "metadata": {},
   "outputs": [
    {
     "data": {
      "text/plain": [
       "RandomForestClassifier()"
      ]
     },
     "execution_count": 43,
     "metadata": {},
     "output_type": "execute_result"
    }
   ],
   "source": [
    "model.fit(train_data_processed, target_train)"
   ]
  },
  {
   "cell_type": "code",
   "execution_count": 45,
   "id": "grateful-profession",
   "metadata": {},
   "outputs": [],
   "source": [
    "y_pred = model.predict(validation_data_processed)"
   ]
  },
  {
   "cell_type": "code",
   "execution_count": 46,
   "id": "bottom-grade",
   "metadata": {},
   "outputs": [
    {
     "name": "stdout",
     "output_type": "stream",
     "text": [
      "              precision    recall  f1-score   support\n",
      "\n",
      "    Canceled       0.22      0.00      0.01       741\n",
      "    Check-In       0.59      1.00      0.74      1610\n",
      "     No-Show       0.00      0.00      0.00       398\n",
      "\n",
      "    accuracy                           0.58      2749\n",
      "   macro avg       0.27      0.33      0.25      2749\n",
      "weighted avg       0.40      0.58      0.43      2749\n",
      "\n"
     ]
    },
    {
     "name": "stderr",
     "output_type": "stream",
     "text": [
      "/opt/anaconda3/envs/datastorm2/lib/python3.7/site-packages/sklearn/metrics/_classification.py:1245: UndefinedMetricWarning: Precision and F-score are ill-defined and being set to 0.0 in labels with no predicted samples. Use `zero_division` parameter to control this behavior.\n",
      "  _warn_prf(average, modifier, msg_start, len(result))\n",
      "/opt/anaconda3/envs/datastorm2/lib/python3.7/site-packages/sklearn/metrics/_classification.py:1245: UndefinedMetricWarning: Precision and F-score are ill-defined and being set to 0.0 in labels with no predicted samples. Use `zero_division` parameter to control this behavior.\n",
      "  _warn_prf(average, modifier, msg_start, len(result))\n",
      "/opt/anaconda3/envs/datastorm2/lib/python3.7/site-packages/sklearn/metrics/_classification.py:1245: UndefinedMetricWarning: Precision and F-score are ill-defined and being set to 0.0 in labels with no predicted samples. Use `zero_division` parameter to control this behavior.\n",
      "  _warn_prf(average, modifier, msg_start, len(result))\n"
     ]
    }
   ],
   "source": [
    "# Getting f1 score\n",
    "from sklearn.metrics import classification_report\n",
    "print(classification_report(target_validation, y_pred))"
   ]
  },
  {
   "cell_type": "code",
   "execution_count": null,
   "id": "owned-isaac",
   "metadata": {},
   "outputs": [],
   "source": []
  }
 ],
 "metadata": {
  "kernelspec": {
   "display_name": "Python 3",
   "language": "python",
   "name": "python3"
  },
  "language_info": {
   "codemirror_mode": {
    "name": "ipython",
    "version": 3
   },
   "file_extension": ".py",
   "mimetype": "text/x-python",
   "name": "python",
   "nbconvert_exporter": "python",
   "pygments_lexer": "ipython3",
   "version": "3.8.3"
  }
 },
 "nbformat": 4,
 "nbformat_minor": 5
}

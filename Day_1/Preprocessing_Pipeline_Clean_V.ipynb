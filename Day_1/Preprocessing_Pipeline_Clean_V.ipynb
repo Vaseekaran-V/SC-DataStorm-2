{
 "cells": [
  {
   "cell_type": "code",
   "execution_count": 11,
   "id": "jewish-plumbing",
   "metadata": {},
   "outputs": [],
   "source": [
    "import pandas as pd\n",
    "import numpy as np\n",
    "import matplotlib.pyplot as plt\n",
    "%matplotlib inline\n",
    "import seaborn as sns\n",
    "from sklearn.model_selection import train_test_split\n",
    "from sklearn.metrics import accuracy_score\n",
    "from sklearn.metrics import confusion_matrix\n",
    "from sklearn.model_selection import cross_val_score\n",
    "from sklearn.preprocessing import OneHotEncoder\n",
    "from sklearn.pipeline import Pipeline\n",
    "from sklearn import preprocessing\n",
    "from sklearn.compose import ColumnTransformer\n",
    "from sklearn.preprocessing import StandardScaler #you can use minmax scaler too\n",
    "#Import other necessary model libraries, for this example, using Logistic Regression"
   ]
  },
  {
   "cell_type": "code",
   "execution_count": 2,
   "id": "contemporary-steering",
   "metadata": {},
   "outputs": [],
   "source": [
    "train_data = pd.read_csv(r\"../Data/Corrected Datasets/train-dataset.csv\", header = 0)\n",
    "test_data = pd.read_csv(r\"../Data/Corrected Datasets/test-dataset.csv\", header = 0)\n",
    "validation_data = pd.read_csv(r\"../Data/Corrected Datasets/validation-dataset.csv\", header = 0)"
   ]
  },
  {
   "cell_type": "code",
   "execution_count": 3,
   "id": "acting-arthritis",
   "metadata": {},
   "outputs": [],
   "source": [
    "data_quan_cols = ['Age','Discount_Rate', 'Room_Rate','Expected_stay_days', \n",
    "                        'Reservation_gap', 'Adults', 'Children','Babies']"
   ]
  },
  {
   "cell_type": "code",
   "execution_count": 4,
   "id": "loving-convert",
   "metadata": {},
   "outputs": [],
   "source": [
    "data_cat_cols = ['Gender', 'Ethnicity', 'Educational_Level', 'Income', 'Country_region',\n",
    "                 'Hotel_Type', 'Meal_Type', 'Visted_Previously',\n",
    "                 'Previous_Cancellations', 'Deposit_type', 'Booking_channel',\n",
    "                 'Required_Car_Parking', 'Use_Promotion']"
   ]
  },
  {
   "cell_type": "code",
   "execution_count": 7,
   "id": "solved-consistency",
   "metadata": {},
   "outputs": [],
   "source": [
    "quan_pipeline = Pipeline([\n",
    "    ('std_scaler', StandardScaler())\n",
    "])\n",
    "\n",
    "quan_transformed = quan_pipeline.fit_transform(train_data[data_quan_cols])"
   ]
  },
  {
   "cell_type": "code",
   "execution_count": 9,
   "id": "critical-fruit",
   "metadata": {},
   "outputs": [],
   "source": [
    "data_pipeline = ColumnTransformer([\n",
    "    ('numerical', quan_pipeline, data_quan_cols),\n",
    "    ('categorical', OneHotEncoder(), data_cat_cols),\n",
    "    \n",
    "])\n",
    "\n",
    "train_data_processed = data_pipeline.fit_transform(train_data)"
   ]
  },
  {
   "cell_type": "code",
   "execution_count": 10,
   "id": "large-joshua",
   "metadata": {},
   "outputs": [],
   "source": [
    "validation_data_processed = data_pipeline.transform(validation_data)"
   ]
  },
  {
   "cell_type": "code",
   "execution_count": null,
   "id": "coral-drunk",
   "metadata": {},
   "outputs": [],
   "source": [
    "type(train_data_processed)"
   ]
  },
  {
   "cell_type": "code",
   "execution_count": 20,
   "id": "marine-chain",
   "metadata": {},
   "outputs": [],
   "source": [
    "le = preprocessing.LabelEncoder()"
   ]
  },
  {
   "cell_type": "code",
   "execution_count": 21,
   "id": "hybrid-amazon",
   "metadata": {},
   "outputs": [
    {
     "data": {
      "text/plain": [
       "LabelEncoder()"
      ]
     },
     "execution_count": 21,
     "metadata": {},
     "output_type": "execute_result"
    }
   ],
   "source": [
    "target_train = train_data['Reservation_Status']\n",
    "le.fit(target_train)"
   ]
  },
  {
   "cell_type": "code",
   "execution_count": 22,
   "id": "political-pulse",
   "metadata": {},
   "outputs": [],
   "source": [
    "target_validation = validation_data['Reservation_Status']"
   ]
  },
  {
   "cell_type": "code",
   "execution_count": 23,
   "id": "atomic-productivity",
   "metadata": {},
   "outputs": [
    {
     "name": "stdout",
     "output_type": "stream",
     "text": [
      "['Canceled' 'Check-In' 'No-Show']\n"
     ]
    }
   ],
   "source": [
    "print(le.classes_)"
   ]
  },
  {
   "cell_type": "code",
   "execution_count": 24,
   "id": "western-seattle",
   "metadata": {},
   "outputs": [],
   "source": [
    "y_train = le.transform(target_train)\n",
    "y_valid = le.transform(target_validation)"
   ]
  },
  {
   "cell_type": "code",
   "execution_count": 38,
   "id": "boring-acceptance",
   "metadata": {},
   "outputs": [],
   "source": [
    "from sklearn.ensemble import GradientBoostingClassifier\n",
    "model = GradientBoostingClassifier(n_estimators=1000, learning_rate=1.0, max_depth=5, random_state=0, verbose = 1)"
   ]
  },
  {
   "cell_type": "code",
   "execution_count": 39,
   "id": "descending-necessity",
   "metadata": {},
   "outputs": [
    {
     "name": "stdout",
     "output_type": "stream",
     "text": [
      "      Iter       Train Loss   Remaining Time \n",
      "         1           0.6474            3.81m\n",
      "         2           0.6349            3.40m\n",
      "         3           0.6272            3.28m\n",
      "         4           0.6200            3.17m\n",
      "         5           0.6134            3.14m\n",
      "         6           0.6054            3.09m\n",
      "         7           0.5983            3.07m\n",
      "         8           0.5922            3.06m\n",
      "         9           0.5861            3.05m\n",
      "        10           0.5796            3.03m\n",
      "        20           0.5239            2.97m\n",
      "        30           0.4706            2.95m\n",
      "        40           0.4229            2.91m\n",
      "        50           0.3805            2.87m\n",
      "        60           0.3431            2.82m\n",
      "        70           0.3091            2.78m\n",
      "        80           0.2778            2.74m\n",
      "        90           0.2503            2.70m\n",
      "       100           0.2251            2.66m\n",
      "       200           0.0808            2.32m\n",
      "       300           0.0325            2.06m\n",
      "       400           0.0139            1.78m\n",
      "       500           0.0060            1.49m\n",
      "       600           0.0027            1.20m\n",
      "       700           0.0012           54.50s\n",
      "       800           0.0005           36.19s\n",
      "       900           0.0002           18.07s\n",
      "      1000           0.0001            0.00s\n"
     ]
    },
    {
     "data": {
      "text/plain": [
       "GradientBoostingClassifier(learning_rate=1.0, max_depth=5, n_estimators=1000,\n",
       "                           random_state=0, verbose=1)"
      ]
     },
     "execution_count": 39,
     "metadata": {},
     "output_type": "execute_result"
    }
   ],
   "source": [
    "model.fit(train_data_processed, y_train) #training the model"
   ]
  },
  {
   "cell_type": "code",
   "execution_count": 40,
   "id": "vocational-wayne",
   "metadata": {},
   "outputs": [],
   "source": [
    "y_pred = model.predict(validation_data_processed)"
   ]
  },
  {
   "cell_type": "code",
   "execution_count": 41,
   "id": "charged-sphere",
   "metadata": {},
   "outputs": [
    {
     "name": "stdout",
     "output_type": "stream",
     "text": [
      "              precision    recall  f1-score   support\n",
      "\n",
      "           0       0.24      0.09      0.13       741\n",
      "           1       0.58      0.86      0.69      1610\n",
      "           2       0.10      0.03      0.04       398\n",
      "\n",
      "    accuracy                           0.53      2749\n",
      "   macro avg       0.31      0.32      0.29      2749\n",
      "weighted avg       0.42      0.53      0.45      2749\n",
      "\n"
     ]
    }
   ],
   "source": [
    "# Getting f1 score\n",
    "from sklearn.metrics import classification_report\n",
    "print(classification_report(y_valid, y_pred))"
   ]
  },
  {
   "cell_type": "code",
   "execution_count": null,
   "id": "emerging-jersey",
   "metadata": {},
   "outputs": [],
   "source": []
  }
 ],
 "metadata": {
  "kernelspec": {
   "display_name": "Python 3",
   "language": "python",
   "name": "python3"
  },
  "language_info": {
   "codemirror_mode": {
    "name": "ipython",
    "version": 3
   },
   "file_extension": ".py",
   "mimetype": "text/x-python",
   "name": "python",
   "nbconvert_exporter": "python",
   "pygments_lexer": "ipython3",
   "version": "3.7.10"
  }
 },
 "nbformat": 4,
 "nbformat_minor": 5
}
